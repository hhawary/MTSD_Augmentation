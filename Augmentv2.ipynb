{
 "cells": [
  {
   "cell_type": "code",
   "execution_count": 1,
   "metadata": {},
   "outputs": [],
   "source": [
    "import cv2\n",
    "import numpy as np\n",
    "import os"
   ]
  },
  {
   "cell_type": "code",
   "execution_count": 2,
   "metadata": {},
   "outputs": [],
   "source": [
    "color_list = [(255,0,0),\n",
    "             (255,255,0),\n",
    "             (255,0,255),\n",
    "             (255,255,255),\n",
    "             (0,0,255),\n",
    "             (0,255,0),\n",
    "             (128,0,0),\n",
    "             (128,128,0),\n",
    "             (128,0,128),\n",
    "             (128,128,128),\n",
    "             (0,0,128),\n",
    "             (0,128,0),\n",
    "             (64,0,0),\n",
    "             (64,64,0),\n",
    "             (64,0,64),\n",
    "             (64,64,64),\n",
    "             (0,0,64),\n",
    "             (0,64,0),\n",
    "             (32,0,0),\n",
    "             (32,32,0),\n",
    "             (32,0,32),\n",
    "             (32,32,32),\n",
    "             (0,0,32),\n",
    "             (0,32,0)\n",
    "             ]"
   ]
  },
  {
   "cell_type": "code",
   "execution_count": 3,
   "metadata": {},
   "outputs": [],
   "source": [
    "classes = np.array([\n",
    "                         'u-turn', 'keep-right', 'keep-left', 'pass-either-side',\n",
    "                         'compulsory-motor-cycles-track', 'stop', 'no-left-turn', 'no-right-turn', 'no-u-turn',\n",
    "                         'no-entry', 'weight-limit-sign-5T', 'weight-limit-sign-30T', 'height-limit-sign-2.-m',\n",
    "                         'height-limit-sign-3.-m', 'height-limit-sign-4.-m', 'height-limit-sign-5.-m', 'height-limit-sign-6.-m',\n",
    "                         'speed-limit-20', 'speed-limit-30', 'speed-limit-40', 'speed-limit-50', 'speed-limit-60', 'speed-limit-70',\n",
    "                         'speed-limit-80', 'speed-limit-90','speed-limit-110', 'no-entry-for-vehicles-ex-5T-truntks-etc',\n",
    "                         'heavy-vehicles-no-driving-on-right-lane', 'no-parking', 'no-stopping', 'give-way', 'wide-limit-3.-m',\n",
    "                         'no-overtaking', 'road-work', 'camera-operation-zone', 'crosswind-area', 'caution-hump',\n",
    "                         'hump-ahead', 'towing-zone', 'left-bend', 'slippery-road', 'pedestrain-crossing-opt1', 'pedestrain-crossing-opt2',\n",
    "                         'school-childern-crossing-opt1', 'school-childern-crossing-opt2', 'caution', 'narrow-roads-on-the-left',\n",
    "                         'traffic-lights-ahead', 'obstacles', 'staggered-junctions', 'crossroads-T-junction', 'crossroads-to-the-right',\n",
    "                         'crossroads-to-the-left', 'exit-to-the-left', 'crossroads', 'minor-road-on-right', 'minor-road-on-left',\n",
    "                         'minor-road-on-left-opt2', 'cattle-crossing', 'roundabout-ahead', 'narrow-bridge','split-way', 'two-way-road',\n",
    "                         'divided-road-ending', 'curve-on-the-left', 'crossroads-Y-junction'])"
   ]
  },
  {
   "cell_type": "markdown",
   "metadata": {},
   "source": [
    "## 1) Calculate the freq of each class and store all the freq < 50 in keep varaibale array"
   ]
  },
  {
   "cell_type": "code",
   "execution_count": 4,
   "metadata": {},
   "outputs": [
    {
     "data": {
      "image/png": "[encoded data removed]",
      "text/plain": [
       "<Figure size 432x288 with 1 Axes>"
      ]
     },
     "metadata": {},
     "output_type": "display_data"
    },
    {
     "name": "stdout",
     "output_type": "stream",
     "text": [
      "freq->\n",
      "[ 70  20  56  11   1  20  11   6  20  51   7   2   9  14  39 144   1   2\n",
      "  26  13  54  32   4  67  30  25  12   9  42  66  85   2   2  27  35   9\n",
      "  72  28  41   9   2  11  37  37   9  27   8  59 235   3   3  11  18  15\n",
      "  13   8  87   4   6  11   6 264   1   1   4   2]\n",
      "Mean: 31.15\n",
      "Var: 2207.25\n",
      "Max: 264.00\n",
      "Min: 1.00\n",
      "Sum: 2056.00\n",
      "STD: 46.98\n",
      "CV: 1.51\n",
      "\n",
      "Total number of objects: 2056\n"
     ]
    }
   ],
   "source": [
    "import matplotlib.pyplot as plt\n",
    "import numpy as np\n",
    "\n",
    "%matplotlib inline\n",
    "\n",
    "file_p = 'data/MTSD/Annotations/gt.txt'\n",
    "\n",
    "\n",
    "file = open(file_p,'rt')\n",
    "\n",
    "\n",
    "tmp = []\n",
    "for line in file:\n",
    "    tmp.append( int(line.split(';')[5].replace('\\r\\n',''))+1)\n",
    "#plt.hist(x, normed=True, bins=30)\n",
    "# hist, bins = np.histogram(tmp, bins=66)\n",
    "# width = 0.7 * (bins[1] - bins[0])\n",
    "# center = (bins[:-1] + bins[1:]) / 2\n",
    "# plt.bar(center, hist, align='center', width=width)\n",
    "# plt.legend()\n",
    "# plt.show()\n",
    "\n",
    "plt.hist(tmp,histtype='bar', rwidth=0.8,bins=range(1,69,1), align='left')\n",
    "###plt.hist(tmp,histtype='bar', rwidth=0.8,bins=range(1,50,1), align='left')\n",
    "plt.title(\"Classes Histogram - Malaysian dataset\")\n",
    "plt.xlabel(\"Value\")\n",
    "plt.ylabel(\"Frequency\")\n",
    "\n",
    "plt.show()\n",
    "\n",
    "#print tmp\n",
    "file.close()\n",
    "a = np.array(tmp)\n",
    "unique, counts = np.unique(a, return_counts=True)\n",
    "\n",
    "frq = np.array(counts)\n",
    "# print counts\n",
    "keep = np.where(frq < 50)\n",
    "# print keep\n",
    "# print classes[keep]\n",
    "# print a.mean(), a.var(), a.max(), a.min(), a.sum(), a.std()\n",
    "# print frq.mean(), frq.var(), frq.max(), frq.min(), frq.sum(), frq.std()\n",
    "# print len(tmp)\n",
    "\n",
    "\n",
    "print 'freq->\\n',counts\n",
    "#print keep\n",
    "#print classes[keep]\n",
    "#print a.mean(), a.var(), a.max(), a.min(), a.sum(), a.std()\n",
    "print 'Mean: {:.2f}\\n'.format(frq.mean()),\\\n",
    "    'Var: {:.2f}\\n'.format(frq.var()),\\\n",
    "    'Max: {:.2f}\\n'.format(frq.max()),\\\n",
    "    'Min: {:.2f}\\n'.format(frq.min()),\\\n",
    "    'Sum: {:.2f}\\n'.format(frq.sum()),\\\n",
    "    'STD: {:.2f}\\n'.format(frq.std()),\\\n",
    "    'CV: {:.2f}\\n'.format(frq.std()/frq.mean())\n",
    "print 'Total number of objects:',len(tmp)"
   ]
  },
  {
   "cell_type": "markdown",
   "metadata": {},
   "source": [
    "## 2) Loop for each image\n",
    "### - blur the objects that is not in keep array\n",
    "### - store only the images that have at least one object in keep array in aug folder\n",
    "### - store aswell the labels for each image obj in aug folder in aug_labels"
   ]
  },
  {
   "cell_type": "code",
   "execution_count": 5,
   "metadata": {},
   "outputs": [],
   "source": [
    "im_path = './data/MTSD/Images/'\n",
    "files = [f for f in os.listdir(im_path) if os.path.isfile(os.path.join(im_path,f))]\n",
    "#mask_path = './data/test/gt/'\n",
    "label_path = './data/test2/labels/'\n",
    "\n",
    "#fname = 'P1840185.JPG'\n",
    "#fname = 'P1840114.JPG'\n",
    "#fname = 'P1840116.JPG'\n",
    "#fname = 'P1860061.JPG'\n",
    "\n",
    "#keep = [0,2,3,4,5,6,8,9,10,11]\n",
    "\n",
    "for fname in files:\n",
    "    if fname.split('.')[1] == 'txt':\n",
    "        continue\n",
    "    #print fname\n",
    "    if not os.path.isfile(os.path.join(label_path, fname.split('.')[0]+'.txt')):\n",
    "        #fault = open('faults.txt', 'a')\n",
    "        #fault.write(fil+'\\n')\n",
    "        continue\n",
    "    \n",
    "    store = False\n",
    "\n",
    "    im = cv2.imread(os.path.join(im_path, fname))\n",
    "    org = im.copy()\n",
    "    f = open(os.path.join(label_path, fname.split('.')[0]+'.txt'), 'r')\n",
    "    \n",
    "    lines = f.readlines()\n",
    "    text = ''\n",
    "    for line in lines:\n",
    "        spl = line.split(' ')\n",
    "        i = np.where(classes == spl[0])[0][0]\n",
    "        if i not in keep[0]:\n",
    "            x1 = int(spl[1])#+1\n",
    "            y1 = int(spl[2])#+1\n",
    "            x2 = int(spl[3])#-1\n",
    "            y2 = int(spl[4])#-1\n",
    "\n",
    "            #print y2-y1, x2-x1\n",
    "\n",
    "            #cv2.imwrite('without_aug.jpg', im)\n",
    "            #print im[y1:y2,x1:x2]\n",
    "\n",
    "            np.random.shuffle(im[y1:y2+1,x1:x2+1,0])\n",
    "            np.random.shuffle(im[y1:y2+1,x1:x2+1,0].T)\n",
    "\n",
    "            np.random.shuffle(im[y1:y2+1,x1:x2+1,1])\n",
    "            np.random.shuffle(im[y1:y2+1,x1:x2+1,1].T)\n",
    "\n",
    "            np.random.shuffle(im[y1:y2+1,x1:x2+1,2])\n",
    "            np.random.shuffle(im[y1:y2+1,x1:x2+1,2].T)\n",
    "\n",
    "            #np.random.shuffle(im[y1:y2,x1:x2])\n",
    "            #np.random.shuffle(im[y1:y2,x1:x2].T)\n",
    "\n",
    "            blur = cv2.blur(im, (50, 50))\n",
    "\n",
    "            #print lines[0] , x1, x2, y1, y2\n",
    "\n",
    "            #print im[y1:y2,x1:x2,0]\n",
    "            #cv2.imwrite('aug.jpg', im)\n",
    "\n",
    "            num =10\n",
    "            im[y1-num:y2+num,x1-num:x2+num] = blur[y1-num:y2+num,x1-num:x2+num]\n",
    "            #cv2.imwrite('aug_blur.jpg', im)\n",
    "\n",
    "    for line in lines:\n",
    "        spl = line.split(' ')\n",
    "        i = np.where(classes == spl[0])[0][0]\n",
    "        if i in keep[0]:\n",
    "            store = True\n",
    "            \n",
    "            #spl = line.split(' ')\n",
    "            x1 = int(spl[1])#+1\n",
    "            y1 = int(spl[2])#+1\n",
    "            x2 = int(spl[3])#-1\n",
    "            y2 = int(spl[4])#-1\n",
    "            text += line\n",
    "            #im2 = cv2.imread(os.path.join(im_path, fname))\n",
    "            ynum = int(y2-y1)/14\n",
    "            xnum = int(x2-x1)/14\n",
    "            im[y1-ynum:y2+ynum,x1-xnum:x2+xnum] = org[y1-ynum:y2+ynum,x1-xnum:x2+xnum]\n",
    "    \n",
    "    if store:\n",
    "        cv2.imwrite(os.path.join('data/test2/aug/',fname.split('.')[0]+'_aug'+'.jpg'), im)\n",
    "        f_out = open(os.path.join('./data/test2/aug_labels/', fname.split('.')[0]+'_aug'+'.txt'), 'w')\n",
    "        f_out.write(text)\n",
    "        f_out.close()"
   ]
  },
  {
   "cell_type": "markdown",
   "metadata": {},
   "source": [
    "## 3) Generate the mask image for each aug image"
   ]
  },
  {
   "cell_type": "code",
   "execution_count": 6,
   "metadata": {},
   "outputs": [],
   "source": [
    "im_path = './data/test2/aug/'\n",
    "files = [f for f in os.listdir(im_path) if os.path.isfile(os.path.join(im_path,f))]"
   ]
  },
  {
   "cell_type": "code",
   "execution_count": 7,
   "metadata": {
    "scrolled": true
   },
   "outputs": [],
   "source": [
    "mask_path = './data/test2/aug_gt/'\n",
    "label_path = './data/test/aug_labels/'\n",
    "\n",
    "for fil in files:\n",
    "    if not os.path.isfile(os.path.join(label_path, fil.split('.')[0]+'.txt')):\n",
    "        #fault = open('faults.txt', 'a')\n",
    "        #fault.write(fil+'\\n')\n",
    "        continue\n",
    "    im = cv2.imread(os.path.join(im_path, fil))\n",
    "    f = open(os.path.join(label_path, fil.split('.')[0]+'.txt'))\n",
    "    #print os.path.join(label_path, fil.split('.')[0]+'.txt')\n",
    "    lines = f.readlines()\n",
    "    im_out = np.zeros(im.shape, np.uint8)\n",
    "    for i, line in enumerate(lines):\n",
    "        spl = line.split(' ')\n",
    "        x1 = int(spl[1])#+1\n",
    "        y1 = int(spl[2])#+1\n",
    "        x2 = int(spl[3])#-1\n",
    "        y2 = int(spl[4])#-1\n",
    "        #print fil, i, line\n",
    "        cv2.rectangle(im_out, (x1,y1), (x2,y2),color_list[i], -1)\n",
    "    #print '______'\n",
    "    cv2.imwrite(os.path.join(mask_path, fil), im_out)"
   ]
  },
  {
   "cell_type": "markdown",
   "metadata": {},
   "source": [
    "## 4) Augment the images with ground truth mask"
   ]
  },
  {
   "cell_type": "code",
   "execution_count": 9,
   "metadata": {},
   "outputs": [],
   "source": [
    "import Augmentor"
   ]
  },
  {
   "cell_type": "code",
   "execution_count": 10,
   "metadata": {
    "scrolled": false
   },
   "outputs": [
    {
     "name": "stderr",
     "output_type": "stream",
     "text": [
      "                                                        "
     ]
    },
    {
     "name": "stdout",
     "output_type": "stream",
     "text": [
      "Initialised with 523 image(s) found.\n",
      "Output directory set to ./data/test2/aug/output.523 ground truth image(s) found.\n"
     ]
    },
    {
     "name": "stderr",
     "output_type": "stream",
     "text": [
      "\r"
     ]
    }
   ],
   "source": [
    "p = Augmentor.Pipeline(\"./data/test2/aug\")\n",
    "p.ground_truth(\"./data/test2/aug_gt\")"
   ]
  },
  {
   "cell_type": "code",
   "execution_count": 11,
   "metadata": {},
   "outputs": [],
   "source": [
    "p.rotate(probability=0.4, max_left_rotation=5, max_right_rotation=5)\n",
    "p.zoom(probability=0.3, min_factor=1.05, max_factor=1.1)\n",
    "p.random_distortion(probability=0.7, grid_width=2, grid_height=2, magnitude=5)\n",
    "p.skew_tilt(probability=0.5, magnitude=0.2)\n",
    "p.skew(probability=0.5, magnitude=0.2)\n",
    "\n",
    "#p.rotate(probability=0.5, max_left_rotation=10, max_right_rotation=10)\n",
    "#p.zoom(probability=0.5, min_factor=1.1, max_factor=1.2)\n",
    "#p.random_distortion(probability=0.7, grid_width=4, grid_height=4, magnitude=8)\n",
    "#p.skew_tilt(probability=0.5, magnitude=0.3)\n",
    "#p.skew(probability=0.5, magnitude=0.3)"
   ]
  },
  {
   "cell_type": "code",
   "execution_count": 12,
   "metadata": {
    "scrolled": false
   },
   "outputs": [
    {
     "name": "stdout",
     "output_type": "stream",
     "text": [
      "Operations: 5\n",
      "\t0: RotateRange (max_right_rotation=5.0 max_left_rotation=-5.0 probability=0.4 )\n",
      "\t1: Zoom (min_factor=1.05 max_factor=1.1 probability=0.3 )\n",
      "\t2: Distort (randomise_magnitude=True magnitude=5 grid_height=2 probability=0.7 grid_width=2 )\n",
      "\t3: Skew (magnitude=0.2 skew_type=TILT probability=0.5 )\n",
      "\t4: Skew (magnitude=0.2 skew_type=RANDOM probability=0.5 )\n",
      "Images: 523\n",
      "Classes: 1\n",
      "\tClass index: 0 Class label: aug \n",
      "Dimensions: 20\n",
      "\tWidth: 1917 Height: 977\n",
      "\tWidth: 1919 Height: 981\n",
      "\tWidth: 1920 Height: 981\n",
      "\tWidth: 1917 Height: 979\n",
      "\tWidth: 1920 Height: 985\n",
      "\tWidth: 1919 Height: 979\n",
      "\tWidth: 1920 Height: 979\n",
      "\tWidth: 3920 Height: 2208\n",
      "\tWidth: 1918 Height: 983\n",
      "\tWidth: 1917 Height: 981\n",
      "\tWidth: 1919 Height: 977\n",
      "\tWidth: 1920 Height: 977\n",
      "\tWidth: 1915 Height: 981\n",
      "\tWidth: 3840 Height: 2160\n",
      "\tWidth: 1919 Height: 983\n",
      "\tWidth: 1915 Height: 975\n",
      "\tWidth: 1917 Height: 983\n",
      "\tWidth: 4592 Height: 3448\n",
      "\tWidth: 1917 Height: 975\n",
      "\tWidth: 1920 Height: 983\n",
      "Formats: 1\n",
      "\t JPEG\n",
      "\n",
      "You can remove operations using the appropriate index and the remove_operation(index) function.\n"
     ]
    }
   ],
   "source": [
    "#p.remove_operation(operation_index=0)\n",
    "\n",
    "p.status()"
   ]
  },
  {
   "cell_type": "code",
   "execution_count": 13,
   "metadata": {
    "scrolled": false
   },
   "outputs": [
    {
     "name": "stderr",
     "output_type": "stream",
     "text": [
      "Processing <PIL.Image.Image image mode=RGB size=4592x3448 at 0x7F21306F4250>: 100%|██████████| 4400/4400 [21:53<00:00,  3.35 Samples/s]                   \n"
     ]
    }
   ],
   "source": [
    "#p.sample(395*10, multi_threaded=True)\n",
    "p.sample(44*100, multi_threaded=True)"
   ]
  },
  {
   "cell_type": "markdown",
   "metadata": {},
   "source": [
    "## 5) Create the annotation for the new augmented images"
   ]
  },
  {
   "cell_type": "code",
   "execution_count": 14,
   "metadata": {},
   "outputs": [],
   "source": [
    "aug_path = './data/test2/aug/output/'\n",
    "files = [f for f in os.listdir(aug_path) if os.path.isfile(os.path.join(aug_path,f))]\n",
    "\n",
    "gts = []\n",
    "augs = []\n",
    "\n",
    "for fi in files:\n",
    "    if 'original' in fi:\n",
    "        augs.append(fi)\n",
    "    else:\n",
    "        gts.append(fi)"
   ]
  },
  {
   "cell_type": "code",
   "execution_count": 15,
   "metadata": {
    "scrolled": true
   },
   "outputs": [
    {
     "name": "stdout",
     "output_type": "stream",
     "text": [
      "False\n",
      "_groundtruth_(1)_aug_DSC-0147_aug.jpg_d30032b5-a055-4a31-b3ba-d8509eb4e7b6.jpg\n",
      "aug_original_P1840285_aug.jpg_d4071152-e841-455d-a1bc-83e26b2cf3f6.jpg\n",
      "_groundtruth_(1)_aug_49_aug.jpg_45daa9b6-92a4-4fc2-893e-f08ac42f23d1.jpg False\n",
      "4400 4400\n",
      "./data/test2/aug_labels/ ./data/test2/aug_gt/\n"
     ]
    }
   ],
   "source": [
    "mask_path = './data/test2/aug_gt/'\n",
    "label_path = './data/test2/aug_labels/'\n",
    "\n",
    "print gts[0].split('_')[6] in augs[0].split('_')[4]\n",
    "print gts[0]\n",
    "print augs[0]\n",
    "x = 'aug_original_49_aug.jpg_45daa9b6-92a4-4fc2-893e-f08ac42f23d1.jpg'\n",
    "y = x.replace('aug_original_', '_groundtruth_(1)_aug_')\n",
    "print y, os.path.isfile(os.path.join(aug_path, y))\n",
    "print len(augs), len(gts)\n",
    "\n",
    "print label_path, mask_path"
   ]
  },
  {
   "cell_type": "code",
   "execution_count": 16,
   "metadata": {
    "scrolled": true
   },
   "outputs": [
    {
     "name": "stdout",
     "output_type": "stream",
     "text": [
      "skip-> 3.94452808133 0.0285278745645 0.11252900232 aug_original_P1840283_aug.jpg_ead2f4ce-2048-4e38-8f86-3b3f5d2717ec.jpg 0 727 131 388 cls 37\n",
      "skip-> 6.65893271462 0.000217770034843 0.00145011600928 aug_original_P1840289_aug.jpg_f196fb05-325f-4994-8b89-b698713ca6c6.jpg 0 2108 1 5 cls 46\n",
      "skip-> 2.52619682354 0.0760017421603 0.191995359629 aug_original_P1860039_aug.jpg_427f304a-cbbe-41df-866c-6ae74944e141.jpg 0 1022 349 662 cls 43\n",
      "skip-> 3.60762430615 0.0516114982578 0.186194895592 aug_original_P1860039_aug.jpg_697cf51b-85a0-4776-8543-49e30ed7e85a.jpg 0 881 237 642 cls 24\n",
      "skip-> 6.53209590101 0.00914634146341 0.0597447795824 aug_original_P1840009_aug.jpg_22b95c09-44d6-44fd-928b-7ae4f3b12cef.jpg 4550 762 42 206 cls 38\n",
      "skip-> 4.96524765459 0.0200348432056 0.0994779582367 aug_original_P1860038_aug.jpg_79fa7819-14ab-4b4c-b84e-3ab53f2e71c0.jpg 0 1355 92 343 cls 33\n",
      "skip-> 6.81913531963 0.0969076655052 0.014211136891 aug_original_P1840096_aug.jpg_c232dcf8-ac1e-45a0-8740-a73fdc672b88.jpg 2813 0 445 49 cls 18\n",
      "skip-> 6.07841037539 0.00849303135889 0.0516241299304 aug_original_P1840246_aug.jpg_94bd67b8-4bd0-4fa5-961d-72f3977aaba9.jpg 0 1876 39 178 cls 14\n",
      "skip-> 5.59350348028 0.0163327526132 0.0913573085847 aug_original_P1860045_aug.jpg_97a2fc04-6497-441b-bb0c-96edd86944c6.jpg 0 992 75 315 cls 52\n",
      "skip-> 13.8505800464 0.00762195121951 0.105568445476 aug_original_P1840140_aug.jpg_11608ad5-c231-4358-943c-aa45b3fbcdd8.jpg 0 1335 35 364 cls 1\n",
      "skip-> 6.12908215453 0.0202526132404 0.124129930394 aug_original_P1840144_aug.jpg_7e78099f-932e-4e2b-acbc-9b2bca46b251.jpg 0 1569 93 428 cls 43\n",
      "skip-> 4.29367981439 0.0272212543554 0.116879350348 aug_original_P1860337_aug.jpg_dfa1a3ed-a6aa-4be9-9111-dbc098a6dcac.jpg 0 751 125 403 cls 52\n",
      "skip-> 2.95952565094 0.0254790940767 0.0754060324826 aug_original_P1840018_aug.jpg_b225e42d-e374-4956-a2d4-a441b370f463.jpg 0 1503 117 260 cls 26\n",
      "skip-> 2.78525916591 0.0429006968641 0.119489559165 aug_original_P1860337_aug.jpg_be8c01c9-1254-4a78-bc14-510ef7040ec9.jpg 0 895 197 412 cls 21\n",
      "skip-> 2.926425693 0.0165505226481 0.04843387471 aug_original_P1840496_aug.jpg_0b41005e-ed50-42d3-8aa3-372ce0a2269c.jpg 0 1430 76 167 cls 33\n",
      "skip-> 20.4029698376 0.00544425087108 0.111078886311 aug_original_P1840140_aug.jpg_92259a7b-290a-4a9a-90a3-4d9768c8aeb6.jpg 0 1395 25 383 cls 59\n",
      "skip-> 11.3431474518 0.00631533101045 0.0716357308585 aug_original_P1860052_aug.jpg_c969f413-81e7-4737-9610-bb7ad7c06b97.jpg 0 1242 29 247 cls 38\n",
      "skip-> 5.27871757013 0.0119773519164 0.0632250580046 aug_original_P1840002_aug.jpg_86119ae1-a039-4324-b360-1f5509fa3988.jpg 0 933 55 218 cls 14\n",
      "skip-> 4.7373549884 0.030487804878 0.144431554524 aug_original_P1840065_aug.jpg_cfd34bd5-1eab-4f39-b048-155c0ac151c0.jpg 4452 1741 140 498 cls 38\n",
      "skip-> 2.66357308585 0.00065331010453 0.00174013921114 aug_original_P1840236_aug.jpg_efcd2d0c-2527-4b4f-95b9-4d9ed72e5f04.jpg 0 1859 3 6 cls 28\n",
      "skip-> 10.8591825808 0.00849303135889 0.0922273781903 aug_original_P1840138_aug.jpg_3099e9c0-4926-4b16-b933-a50859dd0970.jpg 0 927 39 318 cls 24\n",
      "skip-> 7.80046403712 0.0015243902439 0.0118909512761 aug_original_P1840537_aug.jpg_b9743d80-a1fd-4a9d-8bc0-6f00f3454ba0.jpg 4585 1908 7 41 cls 24\n",
      "skip-> 5.4326342147 0.0219947735192 0.119489559165 aug_original_P1860056_aug.jpg_852f13bb-bee1-46c0-8d61-8e6e2db1be0a.jpg 4491 1205 101 412 cls 38\n",
      "skip-> 3.18008345611 0.0572735191638 0.182134570766 aug_original_P1860039_aug.jpg_6abb2c10-604a-4e16-b0d7-88e5e638038b.jpg 0 863 263 628 cls 49\n",
      "skip-> 4.43928847641 0.00849303135889 0.0377030162413 aug_original_P1840289_aug.jpg_70970ede-a227-49de-995b-cc015fe2a6ad.jpg 0 1725 39 130 cls 57\n",
      "skip-> 4.2303807834 0.00370209059233 0.0156612529002 aug_original_P1830940_aug.jpg_acfa7642-6b7b-4749-aa80-2465fae89606.jpg 0 1193 17 54 cls 18\n",
      "skip-> 3.52411208281 0.0283101045296 0.0997679814385 aug_original_P1840246_aug.jpg_0bda5ede-19ea-4d9e-95d8-8eeec1afa879.jpg 0 1771 130 344 cls 60\n",
      "skip-> 3.85799637558 0.0187597707139 0.072375127421 aug_original_66_aug.jpg_0e6c8630-9904-4f71-a9b3-d56c5fc77cbb.jpg 1883 399 36 71 cls 34\n",
      "skip-> 5.99303944316 0.00609756097561 0.0365429234339 aug_original_P1840289_aug.jpg_ad7fb36c-2a4c-44e4-8be6-5c79e3de8ff2.jpg 0 1923 28 126 cls 57\n",
      "skip-> 9.04212968616 0.0124128919861 0.112238979118 aug_original_P1860338_aug.jpg_20081c75-eceb-46ce-8feb-d4d9d205829e.jpg 0 269 57 387 cls 35\n",
      "skip-> 2.63733098648 0.0442073170732 0.116589327146 aug_original_P1840246_aug.jpg_a3be4ef7-25ef-488c-ab47-0baa8991d2f0.jpg 0 1297 203 402 cls 63\n",
      "skip-> 23.6524390244 0.0137195121951 0.000580046403712 aug_original_P1840002_aug.jpg_c316f7e7-5d4a-4ea2-a31b-7f0506301098.jpg 0 1229 63 2 cls 46\n",
      "skip-> 11.24184523 0.0148083623693 0.166473317865 aug_original_P1860039_aug.jpg_ee0c8f60-1c18-4422-baa0-b1656ef87d76.jpg 0 1104 68 574 cls 18\n",
      "skip-> 31.1611498258 0.018074912892 0.000580046403712 aug_original_P1840283_aug.jpg_a8724bb8-e7e7-4114-ae7c-26fc446cea70.jpg 0 1314 83 2 cls 38\n",
      "skip-> 5.58255728951 0.0158972125436 0.088747099768 aug_original_P1840138_aug.jpg_e205c4d6-eaae-4112-9748-38bba0f5c441.jpg 0 1069 73 306 cls 34\n",
      "skip-> 3.99535962877 0.000871080139373 0.00348027842227 aug_original_P1840138_aug.jpg_3cd5dad9-c5c3-4cdc-a94d-db7e7351b862.jpg 0 733 4 12 cls 38\n",
      "skip-> 4.00378865752 0.0344076655052 0.137761020882 aug_original_P1860056_aug.jpg_90d9a588-9bf7-48e2-b723-487f49f35484.jpg 4434 1581 158 475 cls 49\n",
      "skip-> 20.8385423775 0.00370209059233 0.0771461716937 aug_original_P1830951_aug.jpg_602add07-1834-4071-99aa-981a7c56ca5b.jpg 4575 792 17 266 cls 53\n",
      "skip-> 7.04872389791 0.0267857142857 0.188805104408 aug_original_P1830987_aug.jpg_92a1d7fa-ee96-4b76-a7a5-732f54d61a5c.jpg 0 764 123 651 cls 65\n",
      "skip-> 12.9546509175 0.00718641114983 0.0930974477958 aug_original_P1840222_aug.jpg_7fb583d4-a9e2-4ce4-b9c6-f1ae1ceeab98.jpg 0 1750 33 321 cls 43\n",
      "skip-> 5.41038283063 0.0174216027875 0.0942575406032 aug_original_P1840598_aug.jpg_987c5adf-a09d-42ff-891a-5de01f828202.jpg 0 850 80 325 cls 21\n",
      "skip-> 4.60284120975 0.0124128919861 0.0571345707657 aug_original_P1840018_aug.jpg_fe39c6c7-609e-491c-95ac-79bfae3430a1.jpg 4535 1695 57 197 cls 59\n",
      "skip-> 3.05817650597 0.0176393728223 0.0539443155452 aug_original_P1840123_aug.jpg_0d242dc3-3a6e-45de-8ed1-ac50eb5fa85c.jpg 0 1155 81 186 cls 59\n",
      "skip-> 2.66217928413 0.0934233449477 0.0350928074246 aug_original_P1840096_aug.jpg_75ee7c0d-a91a-45cd-8011-fd87c5f37b3c.jpg 3043 0 429 121 cls 54\n",
      "skip-> 3.86319760543 0.0285278745645 0.110208816705 aug_original_P1840140_aug.jpg_3ff6d435-718a-4b67-8955-f1761a3c2a02.jpg 0 1279 131 380 cls 52\n",
      "skip-> 2.81954808637 0.0241724738676 0.0681554524362 aug_original_P1840009_aug.jpg_fcf7a308-d202-44e1-b298-aec8e15c4bc3.jpg 4481 1039 111 235 cls 38\n",
      "skip-> 2.58995674428 0.0433362369338 0.112238979118 aug_original_P1840252_aug.jpg_794a3dfe-e9a6-41ac-8ec1-9a8b4761a4af.jpg 0 1572 199 387 cls 25\n",
      "skip-> 4.78844599703 0.019381533101 0.092807424594 aug_original_P1840598_aug.jpg_04aaff6e-c61f-4e1e-b61f-39eff33dc441.jpg 0 811 89 320 cls 54\n",
      "skip-> 3.26287703016 0.00871080139373 0.0284222737819 aug_original_P1860069_aug.jpg_cfb2a739-b863-4f8a-9ce9-1a1d2d6701b6.jpg 0 2749 40 98 cls 64\n",
      "skip-> 6.39257540603 0.00544425087108 0.0348027842227 aug_original_P1840018_aug.jpg_0b70405c-9c50-4df2-8865-831bf8c8bdf6.jpg 0 1261 25 120 cls 26\n",
      "skip-> 5.11686408597 0.0124128919861 0.0635150812065 aug_original_P1840122_aug.jpg_ec4bbee9-f990-4a6e-a339-04481dfc01dc.jpg 0 1977 57 219 cls 1\n",
      "skip-> 2.66357308585 0.0331010452962 0.0881670533643 aug_original_P1840359_aug.jpg_7ab35ea4-0c23-4e6c-ba27-dd045bf00a9e.jpg 0 1667 152 304 cls 34\n",
      "skip-> 3.70385270307 0.0507404181185 0.187935034803 aug_original_P1840004_aug.jpg_61db2756-be37-4f20-9eb0-af7da0b9020b.jpg 0 235 233 648 cls 26\n",
      "skip-> 3.3415735077 0.0359320557491 0.120069605568 aug_original_P1860337_aug.jpg_51f63867-556a-40ed-869c-87fa7da3d373.jpg 0 635 165 414 cls 26\n",
      "skip-> 3.74266166934 0.0424651567944 0.158932714617 aug_original_P1840252_aug.jpg_dd27d876-3d85-467b-af26-2b80833ee74b.jpg 0 2193 195 548 cls 43\n",
      "skip-> 4.69334414223 0.036149825784 0.169663573086 aug_original_P1860052_aug.jpg_ff30faaa-4711-48b4-8eb7-34139181739e.jpg 0 1054 166 585 cls 39\n",
      "skip-> 4.6457670102 0.0280923344948 0.130510440835 aug_original_P1860338_aug.jpg_36047740-4ffa-4886-a72b-49b1f606d537.jpg 0 347 129 450 cls 37\n"
     ]
    },
    {
     "name": "stdout",
     "output_type": "stream",
     "text": [
      "skip-> 3.72810116713 0.154616724739 0.0414733178654 aug_original_P1840004_aug.jpg_29dd62e0-652a-4a2b-b7f2-78af93b56621.jpg 247 0 710 143 cls 52\n",
      "skip-> 5.32714617169 0.000217770034843 0.00116009280742 aug_original_P1840140_aug.jpg_3dad80f4-731f-4120-b118-930a20a6ab40.jpg 0 1194 1 4 cls 37\n",
      "skip-> 2.63830884249 0.0803571428571 0.212006960557 aug_original_P1840602_aug.jpg_28ebbe30-6db2-410f-b353-bf871cf56af1.jpg 0 545 369 731 cls 18\n",
      "skip-> 7.73085846868 0.00892857142857 0.0690255220418 aug_original_P1840537_aug.jpg_50e299e4-b808-4c13-a593-5c8bbf07ae9c.jpg 4551 1597 41 238 cls 24\n",
      "skip-> 3.51830176265 0.0145905923345 0.0513341067285 aug_original_P1840608_aug.jpg_c19bc411-b341-4d8f-aaa5-45b861720285.jpg 0 1812 67 177 cls 28\n",
      "skip-> 3.30051447594 0.0200348432056 0.0661252900232 aug_original_P1840537_aug.jpg_d4df3d74-2ca9-4652-a6df-6adbec9cbdcc.jpg 4500 1525 92 228 cls 24\n",
      "skip-> 3.65966136795 0.0527003484321 0.192865429234 aug_original_P1830988_aug.jpg_da261946-8f95-4db0-8ae7-2d43d8cd9533.jpg 0 596 242 665 cls 34\n",
      "skip-> 2.5497451762 0.07643728223 0.194895591647 aug_original_P1830988_aug.jpg_32051b6e-6e91-454c-b5a6-4ff9bc0acfaa.jpg 0 441 351 672 cls 35\n",
      "skip-> 12.1697735819 0.00631533101045 0.0768561484919 aug_original_P1840246_aug.jpg_a4242e0d-d588-472a-9db5-47d1acb99871.jpg 0 1323 29 265 cls 21\n",
      "skip-> 10.0396216313 0.00283101045296 0.0284222737819 aug_original_P1840236_aug.jpg_bae68577-2cd1-40b2-a817-d5162761d5e8.jpg 0 2064 13 98 cls 5\n",
      "skip-> 4.06365637456 0.0424651567944 0.172563805104 aug_original_P1840140_aug.jpg_48da4fad-8231-4101-b48c-3c29d478eb7f.jpg 0 1467 195 595 cls 24\n",
      "skip-> 4.47977322388 0.0766550522648 0.0171113689095 aug_original_P1840096_aug.jpg_465ddf52-e7c1-45d0-be80-9f5501105e00.jpg 3351 0 352 59 cls 52\n"
     ]
    }
   ],
   "source": [
    "# mask with different colors space per each object sequential\n",
    "\n",
    "#./data/test/gt/P1840014.JPG\n",
    "#./data/test/gt/P1840114.JPG\n",
    "# P1860079.JPG\n",
    "\n",
    "#ff = '130.jpg'\n",
    "mask_gt_path = './data/test2/aug/output/'\n",
    "label_path = './data/test2/aug_labels/'\n",
    "\n",
    "f_out = open('results2/gt_phase_1.txt', 'w')\n",
    "for aug in augs:\n",
    "    aug_sp = aug.split('_')\n",
    "    gt = aug.replace('aug_original_', '_groundtruth_(1)_aug_')\n",
    "    org_file =  aug_sp[2]+'_'+aug_sp[3]\n",
    "    \n",
    "    \n",
    "    if not os.path.exists(os.path.join(label_path, org_file.split('.')[0]+'.txt')):\n",
    "        continue\n",
    "        \n",
    "    im = cv2.imread(os.path.join(mask_gt_path,gt))\n",
    "    f = open(os.path.join(label_path, org_file.split('.')[0]+'.txt'), 'r')\n",
    "    \n",
    "    #im[im == 255] = 1\n",
    "    #im[im == 0] = 255\n",
    "    #im[im == 1] = 0\n",
    "    lines = f.readlines()\n",
    "    #print 'Number of objects', len(lines)\n",
    "    for i in range(0, len(lines)):\n",
    "        lower = np.array(color_list[i])-10\n",
    "        upper = np.array(color_list[i])+10\n",
    "        mask = cv2.inRange(im, lower, upper)\n",
    "        im3 = cv2.bitwise_and(im, im, mask=mask)\n",
    "\n",
    "\n",
    "        #print 'obj#', i\n",
    "        im2 = cv2.cvtColor(im3, cv2.COLOR_BGR2GRAY)\n",
    "\n",
    "        #print np.max(im2), np.min(im2)\n",
    "\n",
    "        #cv2.imwrite(org_file+str(i)+'_thr.jpg', im2)\n",
    "        ret, thresh = cv2.threshold(im2, 0, np.max(im2)+1 ,cv2.THRESH_BINARY)\n",
    "        _, contours, hierarchy = cv2.findContours(thresh, cv2.RETR_TREE, cv2.CHAIN_APPROX_SIMPLE)\n",
    "        #print len(contours), org_file\n",
    "        if len(contours) == 0:\n",
    "            continue\n",
    "        #for i in range(0, len(contours)):\n",
    "            #if(i%2 == 0)\n",
    "\n",
    "        # getting the maximum width contours\n",
    "        x,y,w,h = cv2.boundingRect(contours[0])\n",
    "        for cnt in contours:\n",
    "            cx, cy, cw, ch = cv2.boundingRect(cnt)\n",
    "            if cw > w:\n",
    "                x,y,w,h = cx, cy, cw, ch\n",
    "        #cnt = contours[i]\n",
    "        # Fix problem of corner small bbox\n",
    "        #print im.shape, x,y,w+x,h+y, aug\n",
    "        if x == 0 or y == 0 or ((x+w) == im.shape[1]) or ((y+h) == im.shape[0]):\n",
    "            nw = float(w)/im.shape[1]\n",
    "            nh = float(h)/im.shape[0]\n",
    "            ratio = float(max(nw,nh)) / min(nw,nh)\n",
    "            if ratio >= 2.5:\n",
    "                print 'skip->',ratio,nw, nh, aug, x, y, w, h, 'cls',cls_num\n",
    "                continue\n",
    "        #cv2.rectangle(im, (x,y), (x+w, y+h), (0,240,180), 5)\n",
    "        cls_num = np.where(classes == lines[i].split(' ')[0])[0][0]\n",
    "        f_out.write('./output/'+aug+';'+str(x)+';'+str(y)+';'+str(x+w)+';'+str(y+h)+';'+ str(cls_num) +'\\n')\n",
    "        #print (x,y), (x+w, y+h)\n",
    "        #cv2.imwrite(org_file+str(i)+'.jpg', im)\n",
    "\n",
    "        #print '_______'\n",
    "f_out.close()"
   ]
  },
  {
   "cell_type": "markdown",
   "metadata": {},
   "source": [
    "## filter all corner bbox"
   ]
  },
  {
   "cell_type": "code",
   "execution_count": 17,
   "metadata": {},
   "outputs": [],
   "source": [
    "from PIL import Image\n",
    "%matplotlib inline\n",
    "import matplotlib.pyplot as plt\n",
    "import matplotlib.image as mpimg\n",
    "import numpy as np\n",
    "\n",
    "mask_gt_path = './data/test/aug/output/'\n",
    "label_path = './data/test/aug_labels/'\n",
    "f_anno = open('results/gt_phase_1.txt', 'r')\n",
    "lines = f_anno.readlines()\n",
    "\n",
    "outlayer = []\n",
    "outlayer_index = []\n",
    "\n",
    "for i, line in enumerate(lines):\n",
    "        spl = line.split(';')\n",
    "        fname = spl[0]\n",
    "        x1 = int(spl[1])#+1\n",
    "        y1 = int(spl[2])#+1\n",
    "        x2 = int(spl[3])#-1\n",
    "        y2 = int(spl[4])#-1\n",
    "        \n",
    "        f_fname = os.path.join('./data/test/aug/',fname)\n",
    "        img = Image.open(f_fname)\n",
    "        #img=mpimg.imread(f_fname)\n",
    "        #if (x1 == 0) or (x2 == img.shape[1]) or (y1 == 0) or (y2 == img.shape[0]):\n",
    "        if (x1 == 0) or (x2 == img.width) or (y1 == 0) or (y2 == img.height):\n",
    "            #print(img.height, img.width)\n",
    "            #print(f_fname, x1,y1,x2,y2)\n",
    "            outlayer.append( (f_fname, x1,y1,x2,y2) )\n",
    "            outlayer_index.append(i)\n",
    "f_anno.close()"
   ]
  },
  {
   "cell_type": "code",
   "execution_count": 18,
   "metadata": {},
   "outputs": [
    {
     "name": "stdout",
     "output_type": "stream",
     "text": [
      "119\n"
     ]
    }
   ],
   "source": [
    "print(len(outlayer))"
   ]
  },
  {
   "cell_type": "code",
   "execution_count": 19,
   "metadata": {
    "scrolled": true
   },
   "outputs": [
    {
     "name": "stdout",
     "output_type": "stream",
     "text": [
      "Finish\n"
     ]
    }
   ],
   "source": [
    "%matplotlib inline\n",
    "from __future__ import print_function\n",
    "from ipywidgets import interact, interactive, fixed, interact_manual#, Button\n",
    "import ipywidgets as widgets\n",
    "from IPython import display\n",
    "\n",
    "import matplotlib.patches as patches\n",
    "\n",
    "keeping = []\n",
    "discarding = []\n",
    "\n",
    "i=0\n",
    "button_yes = widgets.Button(description=\"Keep\")\n",
    "button_no = widgets.Button(description=\"Discard\")\n",
    "\n",
    "print(i+1,'/',len(outlayer))\n",
    "display.display(button_yes,button_no)\n",
    "#display.display(button_no)\n",
    "fig,ax = plt.subplots(1)\n",
    "ax.imshow(Image.open(outlayer[i][0]))\n",
    "rect = patches.Rectangle((outlayer[i][1],outlayer[i][2]),outlayer[i][3]-outlayer[i][1],outlayer[i][4]-outlayer[i][2],linewidth=1,edgecolor='r',facecolor='none')\n",
    "ax.add_patch(rect)\n",
    "plt.show()\n",
    "\n",
    "def on_click_yes(b):\n",
    "    #print(\"yes\")\n",
    "    global i\n",
    "    \n",
    "    keeping.append(i)\n",
    "    i=i+1\n",
    "    \n",
    "    display.clear_output()\n",
    "    if i>= len(outlayer):\n",
    "        print(\"Finish\")\n",
    "        return\n",
    "    \n",
    "    print(i+1,'/',len(outlayer))\n",
    "    display.display(button_yes)\n",
    "    display.display(button_no)\n",
    "    fig,ax = plt.subplots(1)\n",
    "    ax.imshow(Image.open(outlayer[i][0]))\n",
    "    rect = patches.Rectangle((outlayer[i][1],outlayer[i][2]),outlayer[i][3]-outlayer[i][1],outlayer[i][4]-outlayer[i][2],linewidth=1,edgecolor='r',facecolor='none')\n",
    "    ax.add_patch(rect)\n",
    "    plt.show()\n",
    "    \n",
    "def on_click_no(b):\n",
    "    global i\n",
    "    \n",
    "    discarding.append(i)\n",
    "    i=i+1\n",
    "    \n",
    "    display.clear_output()\n",
    "    if i>= len(outlayer):\n",
    "        print(\"Finish\")\n",
    "        return\n",
    "    \n",
    "    \n",
    "    print(i+1,'/',len(outlayer))\n",
    "    display.display(button_yes)\n",
    "    display.display(button_no)\n",
    "    fig,ax = plt.subplots(1)\n",
    "    ax.imshow(Image.open(outlayer[i][0]))\n",
    "    rect = patches.Rectangle((outlayer[i][1],outlayer[i][2]),outlayer[i][3]-outlayer[i][1],outlayer[i][4]-outlayer[i][2],linewidth=1,edgecolor='r',facecolor='none')\n",
    "    ax.add_patch(rect)\n",
    "    plt.show()\n",
    "\n",
    "    \n",
    "button_yes.on_click(on_click_yes)\n",
    "button_no.on_click(on_click_no)"
   ]
  },
  {
   "cell_type": "code",
   "execution_count": 20,
   "metadata": {},
   "outputs": [
    {
     "name": "stdout",
     "output_type": "stream",
     "text": [
      "keeping: 113 / 119 \n",
      "discarding: 6 / 119\n"
     ]
    }
   ],
   "source": [
    "print('keeping:',len(keeping),'/',len(outlayer),'\\ndiscarding:', len(discarding),'/', len(outlayer))"
   ]
  },
  {
   "cell_type": "code",
   "execution_count": 21,
   "metadata": {},
   "outputs": [],
   "source": [
    "noutlayer = np.array(outlayer)\n",
    "noutlayer_index = np.array(outlayer_index)\n",
    "new_lines = []\n",
    "mapping_lines = {}\n",
    "for ii,jj in enumerate(noutlayer_index):\n",
    "    mapping_lines[jj] = ii\n",
    "    #print(ii, jj, lines[jj])\n",
    "for ii, line in enumerate(lines):\n",
    "    if mapping_lines.has_key(ii):\n",
    "        if mapping_lines[ii] in discarding:\n",
    "            continue\n",
    "    new_lines.append(line)\n",
    "#print(keeping)\n",
    "#print(noutlayer[keeping])"
   ]
  },
  {
   "cell_type": "code",
   "execution_count": 22,
   "metadata": {
    "scrolled": true
   },
   "outputs": [
    {
     "name": "stdout",
     "output_type": "stream",
     "text": [
      "5355 5361\n"
     ]
    }
   ],
   "source": [
    "print(len(new_lines), len(lines))"
   ]
  },
  {
   "cell_type": "code",
   "execution_count": 23,
   "metadata": {},
   "outputs": [],
   "source": [
    "!cp ./results2/gt_phase_1.txt ./results2/gt_phase_1.txt.backup"
   ]
  },
  {
   "cell_type": "code",
   "execution_count": 24,
   "metadata": {},
   "outputs": [],
   "source": [
    "f_out = open('results2/gt_phase_1.txt', 'w')\n",
    "f_out.writelines(new_lines)\n",
    "f_out.close()"
   ]
  },
  {
   "cell_type": "code",
   "execution_count": 25,
   "metadata": {},
   "outputs": [
    {
     "name": "stdout",
     "output_type": "stream",
     "text": [
      "[2, 6, 9, 22, 27, 98]\n",
      "[['./data/test/aug/./output/aug_original_P1860036_aug.jpg_3cbbec9f-3d8b-48b8-8751-74ffd674834f.jpg'\n",
      "  '251' '0' '479' '190']\n",
      " ['./data/test/aug/./output/aug_original_P1860056_aug.jpg_e1a056d3-83ba-48b7-9b2f-869ccc0ad283.jpg'\n",
      "  '4294' '1966' '4592' '2400']\n",
      " ['./data/test/aug/./output/aug_original_P1840022_aug.jpg_546d3e31-3150-47a8-87d7-f1bfcb96b7cf.jpg'\n",
      "  '651' '0' '1653' '608']\n",
      " ['./data/test/aug/./output/aug_original_135_aug.jpg_503e0ca1-e925-494f-acb4-f745ea9d912a.jpg'\n",
      "  '0' '159' '71' '247']\n",
      " ['./data/test/aug/./output/aug_original_P1840470_aug.jpg_8cedcb38-d66d-44c1-8b76-fb8ba171d5b6.jpg'\n",
      "  '4298' '751' '4592' '1258']\n",
      " ['./data/test/aug/./output/aug_original_P1860331_aug.jpg_c1a78ea8-f7f2-48c2-b308-a3c22c533292.jpg'\n",
      "  '1102' '0' '1388' '233']]\n"
     ]
    }
   ],
   "source": [
    "print(discarding)\n",
    "print(noutlayer[discarding])"
   ]
  },
  {
   "cell_type": "markdown",
   "metadata": {},
   "source": [
    "## End Phase 1"
   ]
  },
  {
   "cell_type": "markdown",
   "metadata": {},
   "source": [
    "## Check histogram"
   ]
  },
  {
   "cell_type": "code",
   "execution_count": 26,
   "metadata": {
    "scrolled": true
   },
   "outputs": [
    {
     "data": {
      "image/png": "[encoded data removed]",
      "text/plain": [
       "<Figure size 432x288 with 1 Axes>"
      ]
     },
     "metadata": {},
     "output_type": "display_data"
    },
    {
     "name": "stdout",
     "output_type": "stream",
     "text": [
      "freq->\n",
      " [173  76   6 108  63  49 173  54  14  55 113 289   9  12 192  96 233  33\n",
      " 206 202  69  74 270  10  19 198 296  61 185 285  61  12  83 279 239  68\n",
      " 179  62  20  26  66 124 115  90  56  32  44  67  48   8   8  34  11]\n",
      "Mean: 101.04\n",
      " Var: 7589.39\n",
      " Max: 296.00\n",
      " Min: 6.00\n",
      " Sum: 5355.00\n",
      " STD: 87.12\n",
      " CV: 0.86\n",
      "\n",
      "Total number of objects: 5355\n"
     ]
    }
   ],
   "source": [
    "import matplotlib.pyplot as plt\n",
    "import numpy as np\n",
    "\n",
    "%matplotlib inline\n",
    "\n",
    "file_p = 'results2/gt_phase_1.txt'\n",
    "\n",
    "#file_p = '/home/hossam/PycharmProjects/tsr-py-faster-rcnn/data/GTSDB/Annotations/gt.txt'\n",
    "\n",
    "file = open(file_p,'rt')\n",
    "\n",
    "\n",
    "tmp = []\n",
    "for line in file:\n",
    "    tmp.append( int(line.split(';')[5].replace('\\r\\n',''))+1)\n",
    "#plt.hist(x, normed=True, bins=30)\n",
    "# hist, bins = np.histogram(tmp, bins=66)\n",
    "# width = 0.7 * (bins[1] - bins[0])\n",
    "# center = (bins[:-1] + bins[1:]) / 2\n",
    "# plt.bar(center, hist, align='center', width=width)\n",
    "# plt.legend()\n",
    "# plt.show()\n",
    "\n",
    "plt.hist(tmp,histtype='bar', rwidth=0.8,bins=range(1,69,1), align='left')\n",
    "###plt.hist(tmp,histtype='bar', rwidth=0.8,bins=range(1,50,1), align='left')\n",
    "plt.title(\"Classes Histogram - Malaysian dataset\")\n",
    "plt.xlabel(\"Value\")\n",
    "plt.ylabel(\"Frequency\")\n",
    "\n",
    "plt.show()\n",
    "\n",
    "#print tmp\n",
    "file.close()\n",
    "a = np.array(tmp)\n",
    "unique, counts = np.unique(a, return_counts=True)\n",
    "\n",
    "frq = np.array(counts)\n",
    "print ('freq->\\n',counts)\n",
    "#print keep\n",
    "#print classes[keep]\n",
    "#print a.mean(), a.var(), a.max(), a.min(), a.sum(), a.std()\n",
    "print ('Mean: {:.2f}\\n'.format(frq.mean()),\\\n",
    "    'Var: {:.2f}\\n'.format(frq.var()),\\\n",
    "    'Max: {:.2f}\\n'.format(frq.max()),\\\n",
    "    'Min: {:.2f}\\n'.format(frq.min()),\\\n",
    "    'Sum: {:.2f}\\n'.format(frq.sum()),\\\n",
    "    'STD: {:.2f}\\n'.format(frq.std()),\\\n",
    "    'CV: {:.2f}\\n'.format(frq.std()/frq.mean()) )\n",
    "print ('Total number of objects:',len(tmp))"
   ]
  },
  {
   "cell_type": "code",
   "execution_count": 27,
   "metadata": {},
   "outputs": [],
   "source": [
    "!cat gt.txt > ./results2/gt_phase_1_after_aug.txt\n",
    "!cat ./results2/gt_phase_1.txt >> ./results2/gt_phase_1_after_aug.txt"
   ]
  },
  {
   "cell_type": "markdown",
   "metadata": {},
   "source": [
    "## Phase 2"
   ]
  },
  {
   "cell_type": "markdown",
   "metadata": {},
   "source": [
    "## 1) Calculate the freq of each class and store all the freq < 50 in keep varaibale array"
   ]
  },
  {
   "cell_type": "code",
   "execution_count": 28,
   "metadata": {
    "scrolled": true
   },
   "outputs": [
    {
     "data": {
      "image/png": "[encoded data removed]",
      "text/plain": [
       "<Figure size 432x288 with 1 Axes>"
      ]
     },
     "metadata": {},
     "output_type": "display_data"
    },
    {
     "name": "stdout",
     "output_type": "stream",
     "text": [
      "freq->\n",
      " [ 70 193  56  87   7 128  74  55 193  51  61  16  64 127 328 144  10  14\n",
      " 218 109  54 265  37  67 236 227  81  83 312  66  85  12  21 225 331  70\n",
      "  72 213 326  70  14  94 316 276  77 206  70  59 235  23  29  77 142 130\n",
      " 103  64  87  36  50  78  54 264   9   9  38  13]\n",
      "Mean: 112.29\n",
      " Var: 8812.63\n",
      " Max: 331.00\n",
      " Min: 7.00\n",
      " Sum: 7411.00\n",
      " STD: 93.88\n",
      " CV: 0.84\n",
      "\n",
      "Total number of objects: 7411\n"
     ]
    }
   ],
   "source": [
    "import matplotlib.pyplot as plt\n",
    "import numpy as np\n",
    "\n",
    "%matplotlib inline\n",
    "\n",
    "file_p = 'results2/gt_phase_1_after_aug.txt'\n",
    "\n",
    "#file_p = '/home/hossam/PycharmProjects/tsr-py-faster-rcnn/data/GTSDB/Annotations/gt.txt'\n",
    "\n",
    "file = open(file_p,'rt')\n",
    "\n",
    "\n",
    "tmp = []\n",
    "for line in file:\n",
    "    tmp.append( int(line.split(';')[5].replace('\\r\\n',''))+1)\n",
    "#plt.hist(x, normed=True, bins=30)\n",
    "# hist, bins = np.histogram(tmp, bins=66)\n",
    "# width = 0.7 * (bins[1] - bins[0])\n",
    "# center = (bins[:-1] + bins[1:]) / 2\n",
    "# plt.bar(center, hist, align='center', width=width)\n",
    "# plt.legend()\n",
    "# plt.show()\n",
    "\n",
    "plt.hist(tmp,histtype='bar', rwidth=0.8,bins=range(1,69,1), align='left')\n",
    "###plt.hist(tmp,histtype='bar', rwidth=0.8,bins=range(1,50,1), align='left')\n",
    "plt.title(\"Classes Histogram - Malaysian dataset\")\n",
    "plt.xlabel(\"Value\")\n",
    "plt.ylabel(\"Frequency\")\n",
    "\n",
    "plt.show()\n",
    "\n",
    "#print tmp\n",
    "file.close()\n",
    "a = np.array(tmp)\n",
    "unique, counts = np.unique(a, return_counts=True)\n",
    "\n",
    "frq = np.array(counts)\n",
    "print ('freq->\\n',counts)\n",
    "#print keep\n",
    "#print classes[keep]\n",
    "#print a.mean(), a.var(), a.max(), a.min(), a.sum(), a.std()\n",
    "print ('Mean: {:.2f}\\n'.format(frq.mean()),\\\n",
    "    'Var: {:.2f}\\n'.format(frq.var()),\\\n",
    "    'Max: {:.2f}\\n'.format(frq.max()),\\\n",
    "    'Min: {:.2f}\\n'.format(frq.min()),\\\n",
    "    'Sum: {:.2f}\\n'.format(frq.sum()),\\\n",
    "    'STD: {:.2f}\\n'.format(frq.std()),\\\n",
    "    'CV: {:.2f}\\n'.format(frq.std()/frq.mean()) )\n",
    "print ('Total number of objects:',len(tmp) )"
   ]
  },
  {
   "cell_type": "code",
   "execution_count": 29,
   "metadata": {},
   "outputs": [
    {
     "name": "stdout",
     "output_type": "stream",
     "text": [
      "(array([ 4, 11, 16, 17, 22, 31, 32, 40, 49, 50, 57, 62, 63, 64, 65]),)\n"
     ]
    }
   ],
   "source": [
    "keep = np.where(frq < 50)\n",
    "print(keep)"
   ]
  },
  {
   "cell_type": "markdown",
   "metadata": {},
   "source": [
    "## 2) Loop for each image\n",
    "### - blur the objects that is not in keep array\n",
    "### - store only the images that have at least one object in keep array in aug folder\n",
    "### - store aswell the labels for each image obj in aug folder in aug_labels"
   ]
  },
  {
   "cell_type": "code",
   "execution_count": 31,
   "metadata": {},
   "outputs": [],
   "source": [
    "im_path = './data/MTSD/Images/'\n",
    "files = [f for f in os.listdir(im_path) if os.path.isfile(os.path.join(im_path,f))]\n",
    "#mask_path = './data/test/gt/'\n",
    "label_path = './data/test2/labels/'\n",
    "\n",
    "#fname = 'P1840185.JPG'\n",
    "#fname = 'P1840114.JPG'\n",
    "#fname = 'P1840116.JPG'\n",
    "#fname = 'P1860061.JPG'\n",
    "\n",
    "#keep = [0,2,3,4,5,6,8,9,10,11]\n",
    "for fname in files:\n",
    "    if fname.split('.')[1] == 'txt':\n",
    "        continue\n",
    "        \n",
    "    if not os.path.isfile(os.path.join(label_path, fname.split('.')[0]+'.txt')):\n",
    "        #fault = open('faults.txt', 'a')\n",
    "        #fault.write(fil+'\\n')\n",
    "        continue\n",
    "    \n",
    "    store = False\n",
    "\n",
    "    im = cv2.imread(os.path.join(im_path, fname))\n",
    "    org = im.copy()\n",
    "    f = open(os.path.join(label_path, fname.split('.')[0]+'.txt'), 'r')\n",
    "    \n",
    "    lines = f.readlines()\n",
    "    text = ''\n",
    "    for line in lines:\n",
    "        spl = line.split(' ')\n",
    "        i = np.where(classes == spl[0])[0][0]\n",
    "        if i not in keep[0]:\n",
    "            x1 = int(spl[1])#+1\n",
    "            y1 = int(spl[2])#+1\n",
    "            x2 = int(spl[3])#-1\n",
    "            y2 = int(spl[4])#-1\n",
    "\n",
    "            #print y2-y1, x2-x1\n",
    "\n",
    "            #cv2.imwrite('without_aug.jpg', im)\n",
    "            #print im[y1:y2,x1:x2]\n",
    "\n",
    "            np.random.shuffle(im[y1:y2+1,x1:x2+1,0])\n",
    "            np.random.shuffle(im[y1:y2+1,x1:x2+1,0].T)\n",
    "\n",
    "            np.random.shuffle(im[y1:y2+1,x1:x2+1,1])\n",
    "            np.random.shuffle(im[y1:y2+1,x1:x2+1,1].T)\n",
    "\n",
    "            np.random.shuffle(im[y1:y2+1,x1:x2+1,2])\n",
    "            np.random.shuffle(im[y1:y2+1,x1:x2+1,2].T)\n",
    "\n",
    "            #np.random.shuffle(im[y1:y2,x1:x2])\n",
    "            #np.random.shuffle(im[y1:y2,x1:x2].T)\n",
    "\n",
    "            blur = cv2.blur(im, (50, 50))\n",
    "\n",
    "            #print lines[0] , x1, x2, y1, y2\n",
    "\n",
    "            #print im[y1:y2,x1:x2,0]\n",
    "            #cv2.imwrite('aug.jpg', im)\n",
    "\n",
    "            num =10\n",
    "            im[y1-num:y2+num,x1-num:x2+num] = blur[y1-num:y2+num,x1-num:x2+num]\n",
    "            #cv2.imwrite('aug_blur.jpg', im)\n",
    "\n",
    "    for line in lines:\n",
    "        spl = line.split(' ')\n",
    "        i = np.where(classes == spl[0])[0][0]\n",
    "        if i in keep[0]:\n",
    "            store = True\n",
    "            \n",
    "            #spl = line.split(' ')\n",
    "            x1 = int(spl[1])#+1\n",
    "            y1 = int(spl[2])#+1\n",
    "            x2 = int(spl[3])#-1\n",
    "            y2 = int(spl[4])#-1\n",
    "            text += line\n",
    "            #im2 = cv2.imread(os.path.join(im_path, fname))\n",
    "            ynum = int(y2-y1)/14\n",
    "            xnum = int(x2-x1)/14\n",
    "            im[y1-ynum:y2+ynum,x1-xnum:x2+xnum] = org[y1-ynum:y2+ynum,x1-xnum:x2+xnum]\n",
    "    \n",
    "    if store:\n",
    "        cv2.imwrite(os.path.join('data/test2/aug2/',fname.split('.')[0]+'_aug'+'.jpg'), im)\n",
    "        f_out = open(os.path.join('./data/test2/aug2_labels/', fname.split('.')[0]+'_aug'+'.txt'), 'w')\n",
    "        f_out.write(text)\n",
    "        f_out.close()"
   ]
  },
  {
   "cell_type": "markdown",
   "metadata": {},
   "source": [
    "## 3) Generate the mask image for each aug image"
   ]
  },
  {
   "cell_type": "code",
   "execution_count": 4,
   "metadata": {},
   "outputs": [],
   "source": [
    "im_path = './data/test2/aug2/'\n",
    "files = [f for f in os.listdir(im_path) if os.path.isfile(os.path.join(im_path,f))]"
   ]
  },
  {
   "cell_type": "code",
   "execution_count": 5,
   "metadata": {},
   "outputs": [],
   "source": [
    "mask_path = './data/test2/aug2_gt/'\n",
    "label_path = './data/test2/aug2_labels/'\n",
    "\n",
    "for fil in files:\n",
    "    if not os.path.isfile(os.path.join(label_path, fil.split('.')[0]+'.txt')):\n",
    "        #fault = open('faults.txt', 'a')\n",
    "        #fault.write(fil+'\\n')\n",
    "        continue\n",
    "    im = cv2.imread(os.path.join(im_path, fil))\n",
    "    f = open(os.path.join(label_path, fil.split('.')[0]+'.txt'))\n",
    "    #print os.path.join(label_path, fil.split('.')[0]+'.txt')\n",
    "    lines = f.readlines()\n",
    "    im_out = np.zeros(im.shape, np.uint8)\n",
    "    for i, line in enumerate(lines):\n",
    "        spl = line.split(' ')\n",
    "        x1 = int(spl[1])#+1\n",
    "        y1 = int(spl[2])#+1\n",
    "        x2 = int(spl[3])#-1\n",
    "        y2 = int(spl[4])#-1\n",
    "        #print fil, i, line\n",
    "        cv2.rectangle(im_out, (x1,y1), (x2,y2),color_list[i], -1)\n",
    "    #print '______'\n",
    "    cv2.imwrite(os.path.join(mask_path, fil), im_out)"
   ]
  },
  {
   "cell_type": "markdown",
   "metadata": {},
   "source": [
    "## 4) Augment the images with ground truth mask"
   ]
  },
  {
   "cell_type": "code",
   "execution_count": 6,
   "metadata": {
    "scrolled": true
   },
   "outputs": [
    {
     "name": "stderr",
     "output_type": "stream",
     "text": [
      "Executing Pipeline:   0%|          | 0/3950 [00:00<?, ? Samples/s]"
     ]
    },
    {
     "name": "stdout",
     "output_type": "stream",
     "text": [
      "Initialised with 33 image(s) found.\n",
      "Output directory set to ./data/test2/aug2/output.33 ground truth image(s) found.\n"
     ]
    },
    {
     "name": "stderr",
     "output_type": "stream",
     "text": [
      "Processing <PIL.Image.Image image mode=RGB size=4592x3448 at 0x7F91541B3750>: 100%|██████████| 3950/3950 [24:11<00:00,  2.72 Samples/s]                   \n"
     ]
    }
   ],
   "source": [
    "import Augmentor\n",
    "\n",
    "p = Augmentor.Pipeline(\"./data/test2/aug2\")\n",
    "p.ground_truth(\"./data/test2/aug2_gt\")\n",
    "\n",
    "#p.rotate(probability=0.4, max_left_rotation=5, max_right_rotation=5)\n",
    "#p.zoom(probability=0.3, min_factor=1.05, max_factor=1.1)\n",
    "#p.random_distortion(probability=0.7, grid_width=2, grid_height=2, magnitude=5)\n",
    "#p.skew_tilt(probability=0.5, magnitude=0.2)\n",
    "#p.skew(probability=0.5, magnitude=0.2)\n",
    "\n",
    "p.rotate(probability=0.5, max_left_rotation=10, max_right_rotation=10)\n",
    "p.zoom(probability=0.5, min_factor=1.1, max_factor=1.2)\n",
    "p.random_distortion(probability=0.7, grid_width=4, grid_height=4, magnitude=8)\n",
    "p.skew_tilt(probability=0.5, magnitude=0.3)\n",
    "p.skew(probability=0.5, magnitude=0.3)\n",
    "\n",
    "#p.sample(44*100, multi_threaded=True)\n",
    "p.sample(395*10, multi_threaded=True)"
   ]
  },
  {
   "cell_type": "code",
   "execution_count": 7,
   "metadata": {},
   "outputs": [],
   "source": [
    "aug_path = './data/test2/aug2/output/'\n",
    "files = [f for f in os.listdir(aug_path) if os.path.isfile(os.path.join(aug_path,f))]\n",
    "\n",
    "gts = []\n",
    "augs = []\n",
    "\n",
    "for fi in files:\n",
    "    if 'original' in fi:\n",
    "        augs.append(fi)\n",
    "    else:\n",
    "        gts.append(fi)"
   ]
  },
  {
   "cell_type": "code",
   "execution_count": 8,
   "metadata": {},
   "outputs": [
    {
     "name": "stdout",
     "output_type": "stream",
     "text": [
      "False\n",
      "_groundtruth_(1)_aug2_72_aug.jpg_0be8c460-9fd6-4a10-90fd-60f58114477a.jpg\n",
      "aug2_original_72_aug.jpg_f4cabf3a-ba4f-4e2f-9522-ef96dbcac282.jpg\n",
      "('_groundtruth_(1)_aug_49_aug.jpg_45daa9b6-92a4-4fc2-893e-f08ac42f23d1.jpg', False)\n",
      "(3950, 3950)\n",
      "('./data/test2/aug2_labels/', './data/test2/aug2_gt/')\n"
     ]
    }
   ],
   "source": [
    "print (gts[0].split('_')[6] in augs[0].split('_')[4])\n",
    "print (gts[0])\n",
    "print (augs[0])\n",
    "x = 'aug_original_49_aug.jpg_45daa9b6-92a4-4fc2-893e-f08ac42f23d1.jpg'\n",
    "y = x.replace('aug_original_', '_groundtruth_(1)_aug_')\n",
    "print (y, os.path.isfile(os.path.join(aug_path, y)))\n",
    "print (len(augs), len(gts))\n",
    "\n",
    "print (label_path, mask_path)"
   ]
  },
  {
   "cell_type": "markdown",
   "metadata": {},
   "source": [
    "## 5) Create the annotation for the new augmented images"
   ]
  },
  {
   "cell_type": "code",
   "execution_count": 9,
   "metadata": {
    "scrolled": false
   },
   "outputs": [
    {
     "name": "stdout",
     "output_type": "stream",
     "text": [
      "skip-> 2.54272252138 0.0973432055749 0.038283062645 aug2_original_P1860113_aug.jpg_6438a91b-3d4a-4cf6-b194-31c75ed57733.jpg 1464 0 447 132 cls 4\n",
      "skip-> 6.32648824968 0.0862369337979 0.0136310904872 aug2_original_P1860113_aug.jpg_8758c011-9c15-49e0-8953-c53139e560ad.jpg 1461 0 396 47 cls 57\n",
      "skip-> 4.32438924526 0.0370209059233 0.160092807425 aug2_original_P1860056_aug.jpg_7dc512ea-fa5f-48f4-94b3-b3268db41d9a.jpg 4422 1062 170 552 cls 63\n",
      "skip-> 3.57939514901 0.106925087108 0.0298723897912 aug2_original_P1860113_aug.jpg_46bd3779-6891-4c12-84b0-28073b9f067d.jpg 2190 0 491 103 cls 65\n",
      "skip-> 3.19866589327 0.0243902439024 0.0780162412993 aug2_original_P1860055_aug.jpg_fc36d595-1fa1-4eda-90dc-fb292f9080d0.jpg 0 1386 112 269 cls 50\n",
      "skip-> 3.16851585094 0.0459494773519 0.145591647332 aug2_original_P1860056_aug.jpg_fcb8dc33-6a3f-424d-9a56-6e237fba46ee.jpg 4381 1281 211 502 cls 64\n",
      "skip-> 3.8664770601 0.00675087108014 0.0261020881671 aug2_original_P1860056_aug.jpg_57068861-8243-4ffd-89b3-470fc8735b2f.jpg 4561 2401 31 90 cls 22\n",
      "skip-> 3.77143091801 0.0246080139373 0.092807424594 aug2_original_P1840560_aug.jpg_5f7f6de5-284a-474a-8952-aa94a2555242.jpg 0 1237 113 320 cls 22\n",
      "skip-> 2.6239028484 0.0511759581882 0.134280742459 aug2_original_P1840560_aug.jpg_c476a99d-4375-4a5e-9ed1-7870ada1ad88.jpg 0 711 235 463 cls 64\n",
      "skip-> 6.3071400429 0.0115418118467 0.0727958236659 aug2_original_P1860056_aug.jpg_e5d51938-1466-43df-8b43-3d82e6d3816b.jpg 4539 1310 53 251 cls 57\n",
      "skip-> 2.71849211854 0.0633710801394 0.172273781903 aug2_original_P1840485_aug.jpg_7e833e83-0ffc-4d08-a29c-a9b49eefb756.jpg 0 1224 291 594 cls 57\n",
      "skip-> 3.450806909 0.0489982578397 0.169083526682 aug2_original_P1840560_aug.jpg_4c8e2545-71c3-499e-9b9b-dd0fe778f274.jpg 0 1305 225 583 cls 57\n",
      "skip-> 2.66357308585 0.04856271777 0.129350348028 aug2_original_P1860056_aug.jpg_8aea1896-8af4-4cdd-8e59-6177f7d4bd3f.jpg 4369 1495 223 446 cls 57\n",
      "skip-> 2.87606377362 0.137630662021 0.0478538283063 aug2_original_P1860113_aug.jpg_c666b2fa-83e3-47e6-94aa-c74053b3725c.jpg 1124 0 632 165 cls 11\n",
      "skip-> 5.68964428397 0.0368031358885 0.20939675174 aug2_original_P1860056_aug.jpg_9da4f24a-049a-481a-9b58-7baaf14bd242.jpg 4423 1935 169 722 cls 50\n",
      "skip-> 2.93197278912 0.0178571428571 0.00609048723898 aug2_original_P1860113_aug.jpg_73389dfb-ad4d-4e67-a623-d521cc004afc.jpg 1153 0 82 21 cls 40\n",
      "skip-> 3.31065581292 0.0385452961672 0.127610208817 aug2_original_P1860056_aug.jpg_c33b79f1-d672-49f4-ba68-311eb0c58fea.jpg 4415 1403 177 440 cls 57\n",
      "skip-> 3.66031898904 0.0346254355401 0.126740139211 aug2_original_P1860056_aug.jpg_d2b90eea-9451-4819-b25e-f6d63c9f0ed5.jpg 4433 1438 159 437 cls 22\n",
      "skip-> 3.84445993031 0.0278745644599 0.0072505800464 aug2_original_P1860113_aug.jpg_17d844e9-d60b-44d9-a25e-501d69d5f062.jpg 2261 0 128 25 cls 64\n",
      "skip-> 4.42364340689 0.0494337979094 0.2186774942 aug2_original_P1860056_aug.jpg_1ef00b80-6a00-48a9-b352-edf60c8b2fcb.jpg 4365 1002 227 754 cls 64\n",
      "skip-> 6.52928977681 0.0246080139373 0.160672853828 aug2_original_P1860056_aug.jpg_5b52e206-6081-4622-8fba-2888dff3fbc3.jpg 4479 1868 113 554 cls 49\n",
      "skip-> 4.79820967238 0.0307055749129 0.147331786543 aug2_original_P1860056_aug.jpg_e9487f95-aecb-4e34-9bc0-b8574ad169ad.jpg 4451 1692 141 508 cls 31\n",
      "skip-> 4.23920786902 0.0154616724739 0.0655452436195 aug2_original_P1860056_aug.jpg_c2ab220f-802b-428f-9512-6791916f6aff.jpg 4521 2080 71 226 cls 49\n",
      "skip-> 4.31976917128 0.0339721254355 0.146751740139 aug2_original_P1860056_aug.jpg_e5eeb5ca-2221-47ec-b3d2-dc324584594a.jpg 4436 1277 156 506 cls 50\n",
      "skip-> 5.2733366144 0.0215592334495 0.113689095128 aug2_original_P1840560_aug.jpg_c7f7561a-1430-49b9-b8dc-aeb592d6ef4c.jpg 0 1353 99 392 cls 65\n",
      "skip-> 3.20975520738 0.0387630662021 0.124419953596 aug2_original_P1860056_aug.jpg_0cb9324c-555a-4cbe-9bb6-d9525e785489.jpg 4414 1581 178 429 cls 40\n",
      "skip-> 4.53417403163 0.0285278745645 0.129350348028 aug2_original_P1840485_aug.jpg_02e5db24-5a71-439d-8d00-18cf09470d39.jpg 0 1315 131 446 cls 22\n",
      "skip-> 3.64939492713 0.0984320557491 0.0269721577726 aug2_original_P1860113_aug.jpg_44dd9bfb-9857-468b-921d-3a81232df446.jpg 1459 0 452 93 cls 64\n",
      "skip-> 2.77011600928 0.0381097560976 0.105568445476 aug2_original_P1860056_aug.jpg_764ca8bf-8d4c-4a08-b614-4eb0d387eda7.jpg 4417 1676 175 364 cls 50\n",
      "skip-> 2.51643280912 0.0810104529617 0.032192575406 aug2_original_P1860113_aug.jpg_5d315429-4490-414a-9e76-b4944de7116e.jpg 1551 0 372 111 cls 65\n",
      "skip-> 7.99071925754 0.00108885017422 0.00870069605568 aug2_original_P1860056_aug.jpg_d94538b3-ceb0-45c7-a048-ff3d4fb7af00.jpg 4587 2394 5 30 cls 22\n",
      "skip-> 2.85382830626 0.0442073170732 0.126160092807 aug2_original_P1860056_aug.jpg_d6fb7772-c658-458f-9cd4-a9196fee5143.jpg 4389 1516 203 435 cls 57\n",
      "skip-> 4.49719223915 0.0150261324042 0.0675754060325 aug2_original_P1860055_aug.jpg_3d0f0cc1-3717-4de3-8556-d03f62b487d8.jpg 0 1434 69 233 cls 64\n",
      "skip-> 6.24459912349 0.0195993031359 0.122389791183 aug2_original_P1860056_aug.jpg_7d80ac57-1a69-4f3e-beeb-88fdac0fc0c4.jpg 4502 1743 90 422 cls 57\n",
      "skip-> 2.95952565094 0.0509581881533 0.150812064965 aug2_original_P1860056_aug.jpg_9e8f05f4-e445-4cb3-b91e-de1f838712fa.jpg 4358 1182 234 520 cls 31\n",
      "skip-> 5.65714637702 0.0246080139373 0.139211136891 aug2_original_P1860056_aug.jpg_e3c6202b-8738-4e65-9712-69c1d29271c7.jpg 4479 1557 113 480 cls 4\n",
      "skip-> 4.39799276965 0.0280923344948 0.123549883991 aug2_original_P1860056_aug.jpg_3ab425ba-2e6e-4eaa-b719-12ac69972982.jpg 4463 1681 129 426 cls 50\n",
      "skip-> 4.69942512598 0.0341898954704 0.160672853828 aug2_original_P1840485_aug.jpg_c3aa1715-0893-46f1-852b-f712627f13bd.jpg 0 1331 157 554 cls 49\n",
      "skip-> 9.40084618534 0.00370209059233 0.0348027842227 aug2_original_P1860055_aug.jpg_ace1dbe8-a81c-4457-8d43-cb3046c0a225.jpg 0 1467 17 120 cls 32\n",
      "skip-> 3.82351620388 0.0202526132404 0.0774361948956 aug2_original_P1860055_aug.jpg_a8b2018d-7d64-48ce-a371-ba3889ceb583.jpg 0 1384 93 267 cls 65\n",
      "skip-> 4.67208672087 0.0121951219512 0.00261020881671 aug2_original_P1860113_aug.jpg_5d444dce-c329-4bdb-8892-ae3bd5c247cd.jpg 2342 0 56 9 cls 17\n",
      "skip-> 4.47964564438 0.0407229965157 0.182424593968 aug2_original_P1860056_aug.jpg_26a829f2-ed25-48a8-bed8-5d1ec124932c.jpg 4405 1101 187 629 cls 57\n",
      "skip-> 3.09618445391 0.0727351916376 0.0234918793503 aug2_original_P1860113_aug.jpg_64ce8610-4c1d-4b7f-8f8f-fe43a442b4c9.jpg 1213 0 334 81 cls 65\n",
      "skip-> 4.57348748812 0.029181184669 0.00638051044084 aug2_original_P1860113_aug.jpg_2f94ba5e-d5ca-4329-843c-a1ce9a639690.jpg 2587 0 134 22 cls 57\n",
      "skip-> 2.90216676618 0.0668554006969 0.194025522042 aug2_original_P1840485_aug.jpg_85639412-1fce-46da-ba78-54b18166fe3d.jpg 0 1614 307 669 cls 57\n",
      "skip-> 4.10851796248 0.033318815331 0.136890951276 aug2_original_P1860056_aug.jpg_6835c127-4f4c-4530-8b00-182ac7b1ea0a.jpg 4439 1383 153 472 cls 32\n",
      "skip-> 6.27842227378 0.0228658536585 0.143561484919 aug2_original_P1860056_aug.jpg_6ea03ed8-9e4d-4cc0-836b-0b81ca38f00f.jpg 4487 1091 105 495 cls 22\n",
      "skip-> 4.33274555298 0.0163327526132 0.0707656612529 aug2_original_P1840485_aug.jpg_7ab02396-db4c-4bec-be1e-180d6e0cabf4.jpg 0 899 75 244 cls 11\n",
      "skip-> 4.7406713638 0.0237369337979 0.11252900232 aug2_original_P1860056_aug.jpg_4b48de2d-c975-4b81-af4f-c55fefa836da.jpg 4483 1879 109 388 cls 64\n",
      "skip-> 16.7694541231 0.0145905923345 0.000870069605568 aug2_original_P1860056_aug.jpg_b1f3cded-6ddf-4bc0-86d6-9bbf00aacc62.jpg 4525 1253 67 3 cls 31\n",
      "skip-> 3.34471582154 0.0285278745645 0.0954176334107 aug2_original_P1840560_aug.jpg_a806f779-95fb-4f0e-82c8-39eb175911c6.jpg 0 819 131 329 cls 31\n",
      "skip-> 2.58247070022 0.0679442508711 0.175464037123 aug2_original_P1840485_aug.jpg_87ad64c8-a8af-4c50-aabc-e4cef7577df5.jpg 0 1146 312 605 cls 22\n",
      "skip-> 3.59923850318 0.0424651567944 0.152842227378 aug2_original_P1860056_aug.jpg_f5a0af70-e457-49d3-9fc3-e1298c644299.jpg 4397 1185 195 527 cls 65\n",
      "skip-> 16.331908658 0.00413763066202 0.0675754060325 aug2_original_P1860055_aug.jpg_db005f9b-62c4-4760-bc56-37058a4c6d9d.jpg 0 1178 19 233 cls 22\n",
      "skip-> 8.82509154949 0.018074912892 0.159512761021 aug2_original_P1860056_aug.jpg_0b9ac857-94fb-4a04-811b-d936a086487d.jpg 4509 1107 83 550 cls 22\n",
      "skip-> 3.42964499107 0.0246080139373 0.0843967517401 aug2_original_P1860055_aug.jpg_77210d58-cf30-4ab4-b775-2ab2ea02156c.jpg 0 1503 113 291 cls 64\n",
      "skip-> 2.8318566451 0.0287456445993 0.010150812065 aug2_original_P1860113_aug.jpg_8958baa3-62a9-439b-9744-cf8978194fd6.jpg 1332 0 132 35 cls 64\n"
     ]
    },
    {
     "name": "stdout",
     "output_type": "stream",
     "text": [
      "skip-> 3.62954701612 0.0507404181185 0.184164733179 aug2_original_P1840560_aug.jpg_1ee552d6-cbb9-438d-8778-99182f41529e.jpg 0 735 233 635 cls 32\n",
      "skip-> 2.64663469831 0.0775261324042 0.0292923433875 aug2_original_P1860113_aug.jpg_8f6d5e21-1ffb-4d60-9dac-05f7655b3a18.jpg 1339 0 356 101 cls 50\n",
      "skip-> 8.86045740802 0.0106707317073 0.0945475638051 aug2_original_P1860055_aug.jpg_0548a1a8-58de-4081-bd38-32fe117adf90.jpg 0 1132 49 326 cls 64\n",
      "skip-> 3.27366524517 0.0389808362369 0.127610208817 aug2_original_P1860056_aug.jpg_59e2576d-236e-460d-a887-947f0da29f4c.jpg 4413 1513 179 440 cls 22\n",
      "skip-> 2.73793680144 0.0858013937282 0.234918793503 aug2_original_P1860056_aug.jpg_41f7ca51-bd21-4c4b-b156-a49c213165b1.jpg 4198 1199 394 810 cls 50\n",
      "skip-> 12.430007734 0.0130662020906 0.162412993039 aug2_original_P1860056_aug.jpg_e6748f0a-0c10-45c0-9479-797590c1018d.jpg 4532 1867 60 560 cls 64\n",
      "skip-> 4.22364982578 0.0391986062718 0.0092807424594 aug2_original_P1860113_aug.jpg_1224a722-f56c-4ea4-8335-881d3f659683.jpg 2285 0 180 32 cls 22\n"
     ]
    }
   ],
   "source": [
    "# mask with different colors space per each object sequential\n",
    "\n",
    "#./data/test/gt/P1840014.JPG\n",
    "#./data/test/gt/P1840114.JPG\n",
    "# P1860079.JPG\n",
    "\n",
    "#ff = '130.jpg'\n",
    "mask_gt_path = './data/test2/aug2/output/'\n",
    "label_path = './data/test2/aug2_labels/'\n",
    "\n",
    "f_out = open('results2/gt_phase_2.txt', 'w')\n",
    "for aug in augs:\n",
    "    aug_sp = aug.split('_')\n",
    "    gt = aug.replace('aug2_original_', '_groundtruth_(1)_aug2_')\n",
    "    org_file =  aug_sp[2]+'_'+aug_sp[3]\n",
    "    \n",
    "    \n",
    "    if not os.path.exists(os.path.join(label_path, org_file.split('.')[0]+'.txt')):\n",
    "        continue\n",
    "        \n",
    "    im = cv2.imread(os.path.join(mask_gt_path,gt))\n",
    "    f = open(os.path.join(label_path, org_file.split('.')[0]+'.txt'), 'r')\n",
    "    \n",
    "    #im[im == 255] = 1\n",
    "    #im[im == 0] = 255\n",
    "    #im[im == 1] = 0\n",
    "    lines = f.readlines()\n",
    "    #print 'Number of objects', len(lines)\n",
    "    for i in range(0, len(lines)):\n",
    "        lower = np.array(color_list[i])-10\n",
    "        upper = np.array(color_list[i])+10\n",
    "        mask = cv2.inRange(im, lower, upper)\n",
    "        im3 = cv2.bitwise_and(im, im, mask=mask)\n",
    "\n",
    "\n",
    "        #print 'obj#', i\n",
    "        im2 = cv2.cvtColor(im3, cv2.COLOR_BGR2GRAY)\n",
    "\n",
    "        #print np.max(im2), np.min(im2)\n",
    "\n",
    "        #cv2.imwrite(org_file+str(i)+'_thr.jpg', im2)\n",
    "        ret, thresh = cv2.threshold(im2, 0, np.max(im2)+1 ,cv2.THRESH_BINARY)\n",
    "        _, contours, hierarchy = cv2.findContours(thresh, cv2.RETR_TREE, cv2.CHAIN_APPROX_SIMPLE)\n",
    "        #print len(contours), org_file\n",
    "        if len(contours) == 0:\n",
    "            continue\n",
    "        #for i in range(0, len(contours)):\n",
    "            #if(i%2 == 0)\n",
    "\n",
    "        # getting the maximum width contours\n",
    "        x,y,w,h = cv2.boundingRect(contours[0])\n",
    "        for cnt in contours:\n",
    "            cx, cy, cw, ch = cv2.boundingRect(cnt)\n",
    "            if cw > w:\n",
    "                x,y,w,h = cx, cy, cw, ch\n",
    "        #cnt = contours[i]\n",
    "        if x == 0 or y == 0 or ((x+w) == im.shape[1]) or ((y+h) == im.shape[0]):\n",
    "            nw = float(w)/im.shape[1]\n",
    "            nh = float(h)/im.shape[0]\n",
    "            ratio = float(max(nw,nh)) / min(nw,nh)\n",
    "            if ratio >= 2.5:\n",
    "                print 'skip->',ratio,nw, nh, aug, x, y, w, h, 'cls',cls_num\n",
    "                continue\n",
    "        #cv2.rectangle(im, (x,y), (x+w, y+h), (0,240,180), 5)\n",
    "        cls_num = np.where(classes == lines[i].split(' ')[0])[0][0]\n",
    "        f_out.write('./output/'+aug+';'+str(x)+';'+str(y)+';'+str(x+w)+';'+str(y+h)+';'+ str(cls_num) +'\\n')\n",
    "        #print (x,y), (x+w, y+h)\n",
    "        #cv2.imwrite(org_file+str(i)+'.jpg', im)\n",
    "\n",
    "        #print '_______'\n",
    "f_out.close()"
   ]
  },
  {
   "cell_type": "markdown",
   "metadata": {},
   "source": [
    "## filter all corner bbox"
   ]
  },
  {
   "cell_type": "code",
   "execution_count": 10,
   "metadata": {},
   "outputs": [],
   "source": [
    "from PIL import Image\n",
    "%matplotlib inline\n",
    "import matplotlib.pyplot as plt\n",
    "import matplotlib.image as mpimg\n",
    "import numpy as np\n",
    "\n",
    "mask_gt_path = './data/test2/aug2/output/'\n",
    "label_path = './data/test2/aug2_labels/'\n",
    "f_anno = open('results2/gt_phase_2.txt', 'r')\n",
    "lines = f_anno.readlines()\n",
    "\n",
    "outlayer = []\n",
    "outlayer_index = []\n",
    "\n",
    "for i, line in enumerate(lines):\n",
    "        spl = line.split(';')\n",
    "        fname = spl[0]\n",
    "        x1 = int(spl[1])#+1\n",
    "        y1 = int(spl[2])#+1\n",
    "        x2 = int(spl[3])#-1\n",
    "        y2 = int(spl[4])#-1\n",
    "        \n",
    "        f_fname = os.path.join('./data/test2/aug2/',fname)\n",
    "        img = Image.open(f_fname)\n",
    "        #img=mpimg.imread(f_fname)\n",
    "        #if (x1 == 0) or (x2 == img.shape[1]) or (y1 == 0) or (y2 == img.shape[0]):\n",
    "        if (x1 == 0) or (x2 == img.width) or (y1 == 0) or (y2 == img.height):\n",
    "            #print(img.height, img.width)\n",
    "            #print(f_fname, x1,y1,x2,y2)\n",
    "            outlayer.append( (f_fname, x1,y1,x2,y2) )\n",
    "            outlayer_index.append(i)\n",
    "f_anno.close()"
   ]
  },
  {
   "cell_type": "code",
   "execution_count": 11,
   "metadata": {},
   "outputs": [
    {
     "name": "stdout",
     "output_type": "stream",
     "text": [
      "169\n"
     ]
    }
   ],
   "source": [
    "print(len(outlayer))"
   ]
  },
  {
   "cell_type": "code",
   "execution_count": 12,
   "metadata": {
    "scrolled": true
   },
   "outputs": [
    {
     "name": "stdout",
     "output_type": "stream",
     "text": [
      "Finish\n"
     ]
    }
   ],
   "source": [
    "%matplotlib inline\n",
    "from __future__ import print_function\n",
    "from ipywidgets import interact, interactive, fixed, interact_manual#, Button\n",
    "import ipywidgets as widgets\n",
    "from IPython import display\n",
    "\n",
    "import matplotlib.patches as patches\n",
    "\n",
    "keeping = []\n",
    "discarding = []\n",
    "\n",
    "i=0\n",
    "button_yes = widgets.Button(description=\"Keep\")\n",
    "button_no = widgets.Button(description=\"Discard\")\n",
    "\n",
    "print(i+1,'/',len(outlayer))\n",
    "display.display(button_yes,button_no)\n",
    "#display.display(button_no)\n",
    "fig,ax = plt.subplots(1)\n",
    "ax.imshow(Image.open(outlayer[i][0]))\n",
    "rect = patches.Rectangle((outlayer[i][1],outlayer[i][2]),outlayer[i][3]-outlayer[i][1],outlayer[i][4]-outlayer[i][2],linewidth=1,edgecolor='r',facecolor='none')\n",
    "ax.add_patch(rect)\n",
    "plt.show()\n",
    "\n",
    "def on_click_yes(b):\n",
    "    #print(\"yes\")\n",
    "    global i\n",
    "    \n",
    "    keeping.append(i)\n",
    "    i=i+1\n",
    "    \n",
    "    display.clear_output()\n",
    "    if i>= len(outlayer):\n",
    "        print(\"Finish\")\n",
    "        return\n",
    "    \n",
    "    print(i+1,'/',len(outlayer))\n",
    "    display.display(button_yes)\n",
    "    display.display(button_no)\n",
    "    fig,ax = plt.subplots(1)\n",
    "    ax.imshow(Image.open(outlayer[i][0]))\n",
    "    rect = patches.Rectangle((outlayer[i][1],outlayer[i][2]),outlayer[i][3]-outlayer[i][1],outlayer[i][4]-outlayer[i][2],linewidth=1,edgecolor='r',facecolor='none')\n",
    "    ax.add_patch(rect)\n",
    "    plt.show()\n",
    "    \n",
    "def on_click_no(b):\n",
    "    global i\n",
    "    \n",
    "    discarding.append(i)\n",
    "    i=i+1\n",
    "    \n",
    "    display.clear_output()\n",
    "    if i>= len(outlayer):\n",
    "        print(\"Finish\")\n",
    "        return\n",
    "    \n",
    "    \n",
    "    print(i+1,'/',len(outlayer))\n",
    "    display.display(button_yes)\n",
    "    display.display(button_no)\n",
    "    fig,ax = plt.subplots(1)\n",
    "    ax.imshow(Image.open(outlayer[i][0]))\n",
    "    rect = patches.Rectangle((outlayer[i][1],outlayer[i][2]),outlayer[i][3]-outlayer[i][1],outlayer[i][4]-outlayer[i][2],linewidth=1,edgecolor='r',facecolor='none')\n",
    "    ax.add_patch(rect)\n",
    "    plt.show()\n",
    "\n",
    "    \n",
    "button_yes.on_click(on_click_yes)\n",
    "button_no.on_click(on_click_no)"
   ]
  },
  {
   "cell_type": "code",
   "execution_count": 13,
   "metadata": {},
   "outputs": [
    {
     "name": "stdout",
     "output_type": "stream",
     "text": [
      "keeping: 103 / 169 \n",
      "discarding: 66 / 169\n"
     ]
    }
   ],
   "source": [
    "print('keeping:',len(keeping),'/',len(outlayer),'\\ndiscarding:', len(discarding),'/', len(outlayer))"
   ]
  },
  {
   "cell_type": "code",
   "execution_count": 14,
   "metadata": {},
   "outputs": [],
   "source": [
    "noutlayer = np.array(outlayer)\n",
    "noutlayer_index = np.array(outlayer_index)\n",
    "new_lines = []\n",
    "mapping_lines = {}\n",
    "for ii,jj in enumerate(noutlayer_index):\n",
    "    mapping_lines[jj] = ii\n",
    "    #print(ii, jj, lines[jj])\n",
    "for ii, line in enumerate(lines):\n",
    "    if mapping_lines.has_key(ii):\n",
    "        if mapping_lines[ii] in discarding:\n",
    "            continue\n",
    "    new_lines.append(line)\n",
    "#print(keeping)\n",
    "#print(noutlayer[keeping])"
   ]
  },
  {
   "cell_type": "code",
   "execution_count": 15,
   "metadata": {
    "scrolled": true
   },
   "outputs": [
    {
     "name": "stdout",
     "output_type": "stream",
     "text": [
      "3884 3950\n"
     ]
    }
   ],
   "source": [
    "print(len(new_lines), len(lines))"
   ]
  },
  {
   "cell_type": "code",
   "execution_count": 16,
   "metadata": {},
   "outputs": [],
   "source": [
    "!cp ./results2/gt_phase_2.txt ./results2/gt_phase_2.txt.backup"
   ]
  },
  {
   "cell_type": "code",
   "execution_count": 17,
   "metadata": {},
   "outputs": [],
   "source": [
    "f_out = open('results2/gt_phase_2.txt', 'w')\n",
    "f_out.writelines(new_lines)\n",
    "f_out.close()"
   ]
  },
  {
   "cell_type": "code",
   "execution_count": 18,
   "metadata": {},
   "outputs": [
    {
     "name": "stdout",
     "output_type": "stream",
     "text": [
      "[2, 6, 7, 9, 10, 11, 18, 23, 31, 32, 36, 41, 43, 44, 51, 53, 54, 57, 59, 62, 63, 64, 67, 69, 70, 72, 77, 78, 84, 87, 88, 89, 93, 97, 103, 105, 106, 107, 109, 111, 114, 117, 118, 119, 121, 122, 129, 130, 134, 135, 137, 140, 141, 142, 144, 146, 149, 154, 156, 158, 160, 162, 163, 164, 166, 168]\n",
      "[['./data/test2/aug2/./output/aug2_original_P1860056_aug.jpg_99473890-88fa-4c96-bf64-29adc77f4182.jpg'\n",
      "  '4308' '1102' '4592' '1517']\n",
      " ['./data/test2/aug2/./output/aug2_original_P1860113_aug.jpg_490dba08-acdc-4c31-8c87-3ca790b4459c.jpg'\n",
      "  '1512' '0' '2146' '347']\n",
      " ['./data/test2/aug2/./output/aug2_original_P1840387_aug.jpg_db4be081-b920-4eb5-b260-97f0a5d4b6f0.jpg'\n",
      "  '0' '1105' '247' '1523']\n",
      " ['./data/test2/aug2/./output/aug2_original_P1860112_aug.jpg_1d2d66b8-91c4-45c9-8125-338e3cdfd680.jpg'\n",
      "  '2005' '0' '2312' '261']\n",
      " ['./data/test2/aug2/./output/aug2_original_P1860113_aug.jpg_ee9dbda5-c811-4eef-9329-38a2744965c7.jpg'\n",
      "  '1733' '0' '2289' '242']\n",
      " ['./data/test2/aug2/./output/aug2_original_P1860113_aug.jpg_a10b8b6d-bb60-4b71-83fe-4464703d4f33.jpg'\n",
      "  '1951' '0' '2419' '205']\n",
      " ['./data/test2/aug2/./output/aug2_original_P1860113_aug.jpg_44536f6b-6a64-4099-94c2-4d4fcd748c09.jpg'\n",
      "  '1988' '0' '2407' '264']\n",
      " ['./data/test2/aug2/./output/aug2_original_P1860113_aug.jpg_4110af52-b27e-4aec-924a-d41c352009cc.jpg'\n",
      "  '1885' '0' '2318' '137']\n",
      " ['./data/test2/aug2/./output/aug2_original_P1860113_aug.jpg_64ea2bed-890e-4b23-a9bf-b88158389444.jpg'\n",
      "  '2746' '0' '3179' '337']\n",
      " ['./data/test2/aug2/./output/aug2_original_P1860113_aug.jpg_f144a662-23e3-4b71-be64-9f27b8db1266.jpg'\n",
      "  '1136' '0' '1842' '303']\n",
      " ['./data/test2/aug2/./output/aug2_original_P1860056_aug.jpg_354b38d9-cc67-4f2a-8f92-61f3e7995e14.jpg'\n",
      "  '4361' '1619' '4592' '2042']\n",
      " ['./data/test2/aug2/./output/aug2_original_P1860056_aug.jpg_f0f98e85-9a11-4394-83ff-a8fa4c7ddd4b.jpg'\n",
      "  '4328' '1583' '4592' '2041']\n",
      " ['./data/test2/aug2/./output/aug2_original_P1860113_aug.jpg_8d4e0376-2942-4b99-81c4-513f18c627fd.jpg'\n",
      "  '2035' '0' '2445' '151']\n",
      " ['./data/test2/aug2/./output/aug2_original_P1860056_aug.jpg_9dc11b38-6617-49de-a6ac-8a13971417e1.jpg'\n",
      "  '4308' '1691' '4592' '2181']\n",
      " ['./data/test2/aug2/./output/aug2_original_P1860055_aug.jpg_3c9dd59a-474a-4fa8-a65c-34b159323f0b.jpg'\n",
      "  '0' '1351' '149' '1621']\n",
      " ['./data/test2/aug2/./output/aug2_original_P1860113_aug.jpg_f78e4ab1-e63e-407b-8585-a8e5c73b1661.jpg'\n",
      "  '1607' '0' '2047' '221']\n",
      " ['./data/test2/aug2/./output/aug2_original_P1860113_aug.jpg_43afccad-095c-4f8d-af56-dcaaa348e297.jpg'\n",
      "  '1465' '0' '1837' '195']\n",
      " ['./data/test2/aug2/./output/aug2_original_P1860056_aug.jpg_70faf082-f66e-4d72-a6c8-192a1ab9c7a0.jpg'\n",
      "  '4328' '1951' '4592' '2299']\n",
      " ['./data/test2/aug2/./output/aug2_original_P1860113_aug.jpg_496b9ed6-45e9-44b1-b7dd-52231d90b5d1.jpg'\n",
      "  '1839' '0' '2265' '194']\n",
      " ['./data/test2/aug2/./output/aug2_original_P1860113_aug.jpg_072d62e0-267f-430d-80fe-9fd26f960e1d.jpg'\n",
      "  '931' '0' '1471' '348']\n",
      " ['./data/test2/aug2/./output/aug2_original_P1860055_aug.jpg_e8f6a9ff-342c-4d5d-b258-d5d8719e39bf.jpg'\n",
      "  '0' '894' '135' '1070']\n",
      " ['./data/test2/aug2/./output/aug2_original_P1860113_aug.jpg_9cdcc632-0dea-4696-aad3-63433f2134d3.jpg'\n",
      "  '2179' '0' '2577' '127']\n",
      " ['./data/test2/aug2/./output/aug2_original_P1860113_aug.jpg_07a7da35-dd44-485b-81f5-1d122b616585.jpg'\n",
      "  '1781' '0' '2179' '249']\n",
      " ['./data/test2/aug2/./output/aug2_original_P1860113_aug.jpg_ab71d534-a1a1-4191-b4ca-743adf0995d7.jpg'\n",
      "  '1449' '0' '1793' '261']\n",
      " ['./data/test2/aug2/./output/aug2_original_P1860113_aug.jpg_5c0a2cb1-3c6b-4724-962d-c0cf7cf8ca55.jpg'\n",
      "  '1503' '0' '2028' '214']\n",
      " ['./data/test2/aug2/./output/aug2_original_P1860113_aug.jpg_cac2b4f8-ec71-411c-aebc-e492f4e3648a.jpg'\n",
      "  '1899' '0' '2427' '173']\n",
      " ['./data/test2/aug2/./output/aug2_original_P1860113_aug.jpg_42415ded-2fc1-4401-a3d6-f97f3d50df28.jpg'\n",
      "  '2036' '0' '2446' '167']\n",
      " ['./data/test2/aug2/./output/aug2_original_P1860113_aug.jpg_dcd9dc6e-0fc6-471b-a091-755db865264c.jpg'\n",
      "  '1503' '0' '1861' '263']\n",
      " ['./data/test2/aug2/./output/aug2_original_P1860056_aug.jpg_d3cea85e-5eed-43e7-9f93-8b351f1647e5.jpg'\n",
      "  '4279' '1171' '4592' '1564']\n",
      " ['./data/test2/aug2/./output/aug2_original_P1860113_aug.jpg_c8afcb45-889e-40f9-95df-45f031017169.jpg'\n",
      "  '2130' '0' '2485' '155']\n",
      " ['./data/test2/aug2/./output/aug2_original_P1840560_aug.jpg_6126ecae-f2d6-4288-b16d-1d7901000c3c.jpg'\n",
      "  '0' '1996' '282' '2273']\n",
      " ['./data/test2/aug2/./output/aug2_original_P1860056_aug.jpg_101cca88-4d39-40f6-8336-337166ba1d07.jpg'\n",
      "  '4316' '1515' '4592' '1953']\n",
      " ['./data/test2/aug2/./output/aug2_original_P1860056_aug.jpg_34fa4344-51e3-4d09-b46e-aea5337f6d93.jpg'\n",
      "  '4314' '1515' '4592' '1956']\n",
      " ['./data/test2/aug2/./output/aug2_original_P1840560_aug.jpg_9f68ef44-8091-4589-8f07-ea53659bda53.jpg'\n",
      "  '0' '1686' '221' '1991']\n",
      " ['./data/test2/aug2/./output/aug2_original_P1860113_aug.jpg_19112324-0b2e-4125-9aa1-f6427f63231d.jpg'\n",
      "  '1827' '0' '2394' '181']\n",
      " ['./data/test2/aug2/./output/aug2_original_P1860056_aug.jpg_55ffcc2c-ec7c-4335-9f5e-277ae04f41bb.jpg'\n",
      "  '4590' '1477' '4592' '1479']\n",
      " ['./data/test2/aug2/./output/aug2_original_P1860056_aug.jpg_5da8fcc6-1ba7-4975-b677-4b248948340a.jpg'\n",
      "  '4334' '1515' '4592' '1956']\n",
      " ['./data/test2/aug2/./output/aug2_original_P1860056_aug.jpg_2001b913-9a8f-412b-8084-155a59ff51fe.jpg'\n",
      "  '4175' '1377' '4592' '2107']\n",
      " ['./data/test2/aug2/./output/aug2_original_P1860113_aug.jpg_4e7cd2da-47ec-4bae-9de3-1dd7d8d52294.jpg'\n",
      "  '1305' '0' '1635' '189']\n",
      " ['./data/test2/aug2/./output/aug2_original_P1840560_aug.jpg_74d28369-8cf1-403d-b0d3-a2da8696a8cc.jpg'\n",
      "  '0' '2086' '202' '2331']\n",
      " ['./data/test2/aug2/./output/aug2_original_P1860113_aug.jpg_0721402a-df3b-45cd-a61e-91d895fef84f.jpg'\n",
      "  '1812' '0' '2235' '243']\n",
      " ['./data/test2/aug2/./output/aug2_original_P1840485_aug.jpg_bb08b55e-53b8-425c-b3ed-b3c651e156b8.jpg'\n",
      "  '0' '806' '418' '1297']\n",
      " ['./data/test2/aug2/./output/aug2_original_P1860113_aug.jpg_6a0c205b-a17b-4708-b297-bc6e9f501876.jpg'\n",
      "  '1187' '0' '1570' '139']\n",
      " ['./data/test2/aug2/./output/aug2_original_P1860113_aug.jpg_26339d9d-2aae-4492-896b-5ab87d309fe9.jpg'\n",
      "  '2385' '0' '2733' '204']\n",
      " ['./data/test2/aug2/./output/aug2_original_P1860056_aug.jpg_eeb4e1b9-2988-42f3-adb3-b11e72ecd0c1.jpg'\n",
      "  '4581' '639' '4592' '655']\n",
      " ['./data/test2/aug2/./output/aug2_original_P1860069_aug.jpg_4f5eba24-dd59-40ae-a1c2-9c98dcf9cd9e.jpg'\n",
      "  '2787' '3147' '3183' '3448']\n",
      " ['./data/test2/aug2/./output/aug2_original_P1860113_aug.jpg_e4764b58-06ea-4ef6-bfb2-d6d6e0a4e6e5.jpg'\n",
      "  '1625' '0' '2054' '275']\n",
      " ['./data/test2/aug2/./output/aug2_original_P1840288_aug.jpg_4792b248-1940-49d3-9248-359955c6b65b.jpg'\n",
      "  '2699' '0' '3132' '369']\n",
      " ['./data/test2/aug2/./output/aug2_original_P1860113_aug.jpg_8d13cd5d-e7ea-4be9-94b6-03f404b9dd49.jpg'\n",
      "  '1767' '0' '2143' '207']\n",
      " ['./data/test2/aug2/./output/aug2_original_P1840485_aug.jpg_d979b9e7-b0d3-4fbe-a029-c29348595843.jpg'\n",
      "  '0' '2123' '285' '2513']\n",
      " ['./data/test2/aug2/./output/aug2_original_P1860112_aug.jpg_b2eca0c4-34de-4851-8e86-9e905e4dd38a.jpg'\n",
      "  '1794' '0' '2057' '253']\n",
      " ['./data/test2/aug2/./output/aug2_original_P1860113_aug.jpg_76d07e80-cc56-4086-a273-e1c8fa76d4ca.jpg'\n",
      "  '1457' '0' '1793' '107']\n",
      " ['./data/test2/aug2/./output/aug2_original_P1860055_aug.jpg_e329041a-ab13-400c-b404-913d4a9a70a1.jpg'\n",
      "  '0' '1481' '155' '1688']\n",
      " ['./data/test2/aug2/./output/aug2_original_P1860056_aug.jpg_695cdc9c-4011-4308-8c54-e5543662317d.jpg'\n",
      "  '4292' '1829' '4592' '2373']\n",
      " ['./data/test2/aug2/./output/aug2_original_P1860056_aug.jpg_169e50c9-c021-4551-933d-f3d364ff3405.jpg'\n",
      "  '4195' '1275' '4592' '1889']\n",
      " ['./data/test2/aug2/./output/aug2_original_P1860055_aug.jpg_d26c9486-17ed-4da7-a762-8930f7d93afb.jpg'\n",
      "  '0' '1399' '172' '1613']\n",
      " ['./data/test2/aug2/./output/aug2_original_P1860113_aug.jpg_541a2daf-a613-49fd-8516-0011d3b18d8a.jpg'\n",
      "  '1899' '0' '2295' '197']\n",
      " ['./data/test2/aug2/./output/aug2_original_P1860056_aug.jpg_3e5d13d3-a13c-4f3c-81d4-d6a444a79ce6.jpg'\n",
      "  '4317' '1191' '4592' '1543']\n",
      " ['./data/test2/aug2/./output/aug2_original_P1840560_aug.jpg_b8ee39cf-2529-4b03-b521-67f6107dffcb.jpg'\n",
      "  '0' '1686' '291' '1987']\n",
      " ['./data/test2/aug2/./output/aug2_original_P1840560_aug.jpg_38029218-84fe-4eeb-8dc2-85b0365ef1f3.jpg'\n",
      "  '0' '1029' '171' '1345']\n",
      " ['./data/test2/aug2/./output/aug2_original_P1860055_aug.jpg_e42b0800-901d-4525-a7ff-5cbeeed77631.jpg'\n",
      "  '0' '1059' '124' '1277']\n",
      " ['./data/test2/aug2/./output/aug2_original_P1860113_aug.jpg_12e11cca-29c1-4b39-a370-9f536d6aa59b.jpg'\n",
      "  '1702' '0' '2074' '247']\n",
      " ['./data/test2/aug2/./output/aug2_original_P1860113_aug.jpg_093b8a74-9e34-4b05-a084-39e1ebd1cd34.jpg'\n",
      "  '1493' '0' '1889' '211']\n",
      " ['./data/test2/aug2/./output/aug2_original_P1860113_aug.jpg_27d31211-0a20-452d-bc1d-518f4ed4eb44.jpg'\n",
      "  '1454' '0' '1975' '221']\n",
      " ['./data/test2/aug2/./output/aug2_original_P1860055_aug.jpg_880a8362-dd66-4bfe-acd7-144aa46827d1.jpg'\n",
      "  '0' '706' '191' '998']\n",
      " ['./data/test2/aug2/./output/aug2_original_P1860056_aug.jpg_a3a394d4-a47a-40d2-8886-b45a185e9252.jpg'\n",
      "  '4340' '1231' '4592' '1697']]\n"
     ]
    }
   ],
   "source": [
    "print(discarding)\n",
    "print(noutlayer[discarding])"
   ]
  },
  {
   "cell_type": "markdown",
   "metadata": {},
   "source": [
    "## Check histogram for phase 2 images"
   ]
  },
  {
   "cell_type": "code",
   "execution_count": 19,
   "metadata": {
    "scrolled": true
   },
   "outputs": [
    {
     "data": {
      "image/png": "[encoded data removed]",
      "text/plain": [
       "<Figure size 432x288 with 1 Axes>"
      ]
     },
     "metadata": {},
     "output_type": "display_data"
    },
    {
     "name": "stdout",
     "output_type": "stream",
     "text": [
      "freq->\n",
      " [130 150 111 170 473 228 239 249 380 347 484 108 108 457 250]\n",
      "Mean: 258.93\n",
      " Var: 17566.73\n",
      " Max: 484.00\n",
      " Min: 108.00\n",
      " Sum: 3884.00\n",
      " STD: 132.54\n",
      " CV: 0.51\n",
      "\n",
      "Total number of objects: 3884\n"
     ]
    }
   ],
   "source": [
    "import matplotlib.pyplot as plt\n",
    "import numpy as np\n",
    "\n",
    "%matplotlib inline\n",
    "\n",
    "file_p = 'results2/gt_phase_2.txt'\n",
    "\n",
    "#file_p = '/home/hossam/PycharmProjects/tsr-py-faster-rcnn/data/GTSDB/Annotations/gt.txt'\n",
    "\n",
    "file = open(file_p,'rt')\n",
    "\n",
    "\n",
    "tmp = []\n",
    "for line in file:\n",
    "    tmp.append( int(line.split(';')[5].replace('\\r\\n',''))+1)\n",
    "#plt.hist(x, normed=True, bins=30)\n",
    "# hist, bins = np.histogram(tmp, bins=66)\n",
    "# width = 0.7 * (bins[1] - bins[0])\n",
    "# center = (bins[:-1] + bins[1:]) / 2\n",
    "# plt.bar(center, hist, align='center', width=width)\n",
    "# plt.legend()\n",
    "# plt.show()\n",
    "\n",
    "plt.hist(tmp,histtype='bar', rwidth=0.8,bins=range(1,69,1), align='left')\n",
    "###plt.hist(tmp,histtype='bar', rwidth=0.8,bins=range(1,50,1), align='left')\n",
    "plt.title(\"Classes Histogram - Malaysian dataset\")\n",
    "plt.xlabel(\"Value\")\n",
    "plt.ylabel(\"Frequency\")\n",
    "\n",
    "plt.show()\n",
    "\n",
    "#print tmp\n",
    "file.close()\n",
    "a = np.array(tmp)\n",
    "unique, counts = np.unique(a, return_counts=True)\n",
    "\n",
    "frq = np.array(counts)\n",
    "print ('freq->\\n',counts)\n",
    "#print keep\n",
    "#print classes[keep]\n",
    "#print a.mean(), a.var(), a.max(), a.min(), a.sum(), a.std()\n",
    "print ('Mean: {:.2f}\\n'.format(frq.mean()),\\\n",
    "    'Var: {:.2f}\\n'.format(frq.var()),\\\n",
    "    'Max: {:.2f}\\n'.format(frq.max()),\\\n",
    "    'Min: {:.2f}\\n'.format(frq.min()),\\\n",
    "    'Sum: {:.2f}\\n'.format(frq.sum()),\\\n",
    "    'STD: {:.2f}\\n'.format(frq.std()),\\\n",
    "    'CV: {:.2f}\\n'.format(frq.std()/frq.mean()) )\n",
    "print ('Total number of objects:',len(tmp))"
   ]
  },
  {
   "cell_type": "code",
   "execution_count": 20,
   "metadata": {},
   "outputs": [],
   "source": [
    "!cat gt.txt > ./results2/gt_phase_2_after_aug.txt\n",
    "!cat ./results2/gt_phase_2.txt >> ./results2/gt_phase_2_after_aug.txt\n",
    "\n",
    "!cat ./results2/gt_phase_1_after_aug.txt > ./results2/gt_phase_1_2_after_aug.txt\n",
    "!cat ./results2/gt_phase_2.txt >> ./results2/gt_phase_1_2_after_aug.txt"
   ]
  },
  {
   "cell_type": "markdown",
   "metadata": {},
   "source": [
    "## Check histogram for phase 2 images merged with original images"
   ]
  },
  {
   "cell_type": "code",
   "execution_count": 21,
   "metadata": {
    "scrolled": false
   },
   "outputs": [
    {
     "data": {
      "image/png": "[encoded data removed]",
      "text/plain": [
       "<Figure size 432x288 with 1 Axes>"
      ]
     },
     "metadata": {},
     "output_type": "display_data"
    },
    {
     "name": "stdout",
     "output_type": "stream",
     "text": [
      "freq->\n",
      " [ 70  20  56  11 131  20  11   6  20  51   7 152   9  14  39 144 112 172\n",
      "  26  13  54  32 477  67  30  25  12   9  42  66  85 230 241  27  35   9\n",
      "  72  28  41   9 251  11  37  37   9  27   8  59 235 383 350  11  18  15\n",
      "  13   8  87 488   6  11   6 264 109 109 461 252]\n",
      "Mean: 90.00\n",
      " Var: 14637.21\n",
      " Max: 488.00\n",
      " Min: 6.00\n",
      " Sum: 5940.00\n",
      " STD: 120.98\n",
      " CV: 1.34\n",
      "\n",
      "Total number of objects: 5940\n"
     ]
    }
   ],
   "source": [
    "import matplotlib.pyplot as plt\n",
    "import numpy as np\n",
    "\n",
    "%matplotlib inline\n",
    "\n",
    "file_p = 'results2/gt_phase_2_after_aug.txt'\n",
    "\n",
    "#file_p = '/home/hossam/PycharmProjects/tsr-py-faster-rcnn/data/GTSDB/Annotations/gt.txt'\n",
    "\n",
    "file = open(file_p,'rt')\n",
    "\n",
    "\n",
    "tmp = []\n",
    "for line in file:\n",
    "    tmp.append( int(line.split(';')[5].replace('\\r\\n',''))+1)\n",
    "#plt.hist(x, normed=True, bins=30)\n",
    "# hist, bins = np.histogram(tmp, bins=66)\n",
    "# width = 0.7 * (bins[1] - bins[0])\n",
    "# center = (bins[:-1] + bins[1:]) / 2\n",
    "# plt.bar(center, hist, align='center', width=width)\n",
    "# plt.legend()\n",
    "# plt.show()\n",
    "\n",
    "plt.hist(tmp,histtype='bar', rwidth=0.8,bins=range(1,69,1), align='left')\n",
    "###plt.hist(tmp,histtype='bar', rwidth=0.8,bins=range(1,50,1), align='left')\n",
    "plt.title(\"Classes Histogram - Malaysian dataset\")\n",
    "plt.xlabel(\"Value\")\n",
    "plt.ylabel(\"Frequency\")\n",
    "\n",
    "plt.show()\n",
    "\n",
    "#print tmp\n",
    "file.close()\n",
    "a = np.array(tmp)\n",
    "unique, counts = np.unique(a, return_counts=True)\n",
    "\n",
    "frq = np.array(counts)\n",
    "print ('freq->\\n',counts)\n",
    "#print keep\n",
    "#print classes[keep]\n",
    "#print a.mean(), a.var(), a.max(), a.min(), a.sum(), a.std()\n",
    "print ('Mean: {:.2f}\\n'.format(frq.mean()),\\\n",
    "    'Var: {:.2f}\\n'.format(frq.var()),\\\n",
    "    'Max: {:.2f}\\n'.format(frq.max()),\\\n",
    "    'Min: {:.2f}\\n'.format(frq.min()),\\\n",
    "    'Sum: {:.2f}\\n'.format(frq.sum()),\\\n",
    "    'STD: {:.2f}\\n'.format(frq.std()),\\\n",
    "    'CV: {:.2f}\\n'.format(frq.std()/frq.mean()))\n",
    "print ('Total number of objects:',len(tmp))"
   ]
  },
  {
   "cell_type": "markdown",
   "metadata": {},
   "source": [
    "## Check histogram for phase 2 images merged with phase 1 and the original Image"
   ]
  },
  {
   "cell_type": "code",
   "execution_count": 22,
   "metadata": {
    "scrolled": false
   },
   "outputs": [
    {
     "data": {
      "image/png": "[encoded data removed]",
      "text/plain": [
       "<Figure size 432x288 with 1 Axes>"
      ]
     },
     "metadata": {},
     "output_type": "display_data"
    },
    {
     "name": "stdout",
     "output_type": "stream",
     "text": [
      "freq->\n",
      " [ 70 193  56  87 137 128  74  55 193  51  61 166  64 127 328 144 121 184\n",
      " 218 109  54 265 510  67 236 227  81  83 312  66  85 240 260 225 331  70\n",
      "  72 213 326  70 263  94 316 276  77 206  70  59 235 403 376  77 142 130\n",
      " 103  64  87 520  50  78  54 264 117 117 495 263]\n",
      "Mean: 171.14\n",
      " Var: 14222.27\n",
      " Max: 520.00\n",
      " Min: 50.00\n",
      " Sum: 11295.00\n",
      " STD: 119.26\n",
      " CV: 0.70\n",
      "\n",
      "Total number of objects: 11295\n"
     ]
    }
   ],
   "source": [
    "import matplotlib.pyplot as plt\n",
    "import numpy as np\n",
    "\n",
    "%matplotlib inline\n",
    "\n",
    "file_p = 'results2/gt_phase_1_2_after_aug.txt'\n",
    "\n",
    "#file_p = '/home/hossam/PycharmProjects/tsr-py-faster-rcnn/data/GTSDB/Annotations/gt.txt'\n",
    "\n",
    "file = open(file_p,'rt')\n",
    "\n",
    "\n",
    "tmp = []\n",
    "for line in file:\n",
    "    tmp.append( int(line.split(';')[5].replace('\\r\\n',''))+1)\n",
    "#plt.hist(x, normed=True, bins=30)\n",
    "# hist, bins = np.histogram(tmp, bins=66)\n",
    "# width = 0.7 * (bins[1] - bins[0])\n",
    "# center = (bins[:-1] + bins[1:]) / 2\n",
    "# plt.bar(center, hist, align='center', width=width)\n",
    "# plt.legend()\n",
    "# plt.show()\n",
    "\n",
    "plt.hist(tmp,histtype='bar', rwidth=0.8,bins=range(1,69,1), align='left')\n",
    "###plt.hist(tmp,histtype='bar', rwidth=0.8,bins=range(1,50,1), align='left')\n",
    "plt.title(\"Classes Histogram - Malaysian dataset\")\n",
    "plt.xlabel(\"Value\")\n",
    "plt.ylabel(\"Frequency\")\n",
    "\n",
    "plt.show()\n",
    "\n",
    "#print tmp\n",
    "file.close()\n",
    "a = np.array(tmp)\n",
    "unique, counts = np.unique(a, return_counts=True)\n",
    "\n",
    "frq = np.array(counts)\n",
    "print ('freq->\\n',counts)\n",
    "#print keep\n",
    "#print classes[keep]\n",
    "#print a.mean(), a.var(), a.max(), a.min(), a.sum(), a.std()\n",
    "print ('Mean: {:.2f}\\n'.format(frq.mean()),\\\n",
    "    'Var: {:.2f}\\n'.format(frq.var()),\\\n",
    "    'Max: {:.2f}\\n'.format(frq.max()),\\\n",
    "    'Min: {:.2f}\\n'.format(frq.min()),\\\n",
    "    'Sum: {:.2f}\\n'.format(frq.sum()),\\\n",
    "    'STD: {:.2f}\\n'.format(frq.std()),\\\n",
    "    'CV: {:.2f}\\n'.format(frq.std()/frq.mean()))\n",
    "print ('Total number of objects:',len(tmp))"
   ]
  },
  {
   "cell_type": "markdown",
   "metadata": {},
   "source": [
    "# Elimination\n",
    "1- All images are in All_images withound the mask image\n",
    "\n",
    "2- all the annotation are in gt_phase_1_2_after_aug.txt\n",
    "\n",
    "what i have to do:\n",
    "\n",
    "1- Collect the total frequancy for each object\n",
    "\n",
    "2- Generate for each image a dictienary to all objects in the image\n",
    "\n",
    "3- from 1 & 2 check loop for each **class out of 66** image check if freq > 50 \n",
    "\n",
    "    if True:\n",
    "        loop for all images\n",
    "            check if we delete the image no other object freq in the image will not be less 50:\n",
    "                if yes -> delete the whole image and its annotation from the groundtruth then update the freq array\n",
    "                if no -> then hide the objects that will not be affected then update the annotation as well as the freq array\n",
    "                "
   ]
  },
  {
   "cell_type": "code",
   "execution_count": 23,
   "metadata": {},
   "outputs": [],
   "source": [
    "!ln -s /home/dgxadmin/DL/Datasets/MTSD/Images/*.jpg ./data/All_images2/\n",
    "!ln -s /home/dgxadmin/DL/Datasets/MTSD/Images/*.JPG ./data/All_images2/\n",
    "!ln -s /home/dgxadmin/DL/mtsd_augmentation/data/test2/aug/output/aug_* ./data/All_images2/\n",
    "!ln -s /home/dgxadmin/DL/mtsd_augmentation/data/test2/aug2/output/aug2_* ./data/All_images2/"
   ]
  },
  {
   "cell_type": "code",
   "execution_count": 24,
   "metadata": {},
   "outputs": [],
   "source": [
    "def anno_parse(line):\n",
    "    spl = line.split(';')\n",
    "    name = spl[0]\n",
    "    x1 = spl[1]\n",
    "    y1 = spl[2]\n",
    "    x2 = spl[3]\n",
    "    y2 = spl[4]\n",
    "    cls = spl[5].strip()\n",
    "    name = name.replace('./output/','')\n",
    "    return name, int(x1), int(y1), int(x2), int(y2), int(cls)"
   ]
  },
  {
   "cell_type": "code",
   "execution_count": 25,
   "metadata": {},
   "outputs": [
    {
     "name": "stdout",
     "output_type": "stream",
     "text": [
      "[ 70 193  56  87 137 128  74  55 193  51  61 166  64 127 328 144 121 184\n",
      " 218 109  54 265 510  67 236 227  81  83 312  66  85 240 260 225 331  70\n",
      "  72 213 326  70 263  94 316 276  77 206  70  59 235 403 376  77 142 130\n",
      " 103  64  87 520  50  78  54 264 117 117 495 263] 66\n",
      "Done...\n"
     ]
    }
   ],
   "source": [
    "import numpy as np\n",
    "import os\n",
    "import cv2\n",
    "import time\n",
    "#import progressbar\n",
    "\n",
    "images_path = 'data/All_images2'\n",
    "gt_path = 'results2/gt_phase_1_2_after_aug.txt'\n",
    "\n",
    "f = open(gt_path, 'rt')\n",
    "\n",
    "# 1- Collect the total frequancy for each object\n",
    "tmp = []\n",
    "for line in f:\n",
    "    tmp.append( int(line.split(';')[5].replace('\\r\\n',''))+1)\n",
    "    \n",
    "a = np.array(tmp)\n",
    "unique, counts = np.unique(a, return_counts=True)\n",
    "\n",
    "frq = np.array(counts)\n",
    "print (frq, len(frq))\n",
    "\n",
    "# 2- Generate for each image a dictienary to all objects in the image\n",
    "my_dict = {}\n",
    "f.seek(0)\n",
    "lines = f.readlines()\n",
    "#with progressbar.ProgressBar(maxval=len(lines)) as bar:\n",
    "for i, line in enumerate(lines):\n",
    "    name, x1,y1,x2,y2,cls = anno_parse(line)\n",
    "    if not my_dict.has_key(name):\n",
    "        my_dict.update({name:[]})\n",
    "\n",
    "    my_obj = (x1,y1, x2, y2, cls)\n",
    "    my_dict[name].append(my_obj)\n",
    "\n",
    "        #bar.update(i)\n",
    "print ('Done...')\n",
    "\n",
    "# eliminate the objects with bbox aspect different very high or small\n",
    "# and in corner\n",
    "#for img in my_dict:\n",
    "    #print img[-20::], my_dict[img]\n",
    "#    for obj in my_dict[img]:\n",
    "#        x1,y1,x2,y2,_ = obj\n",
    "#        if x1 == 0:\n",
    "#            print img\n",
    "    \n",
    "\n",
    "f.close()"
   ]
  },
  {
   "cell_type": "code",
   "execution_count": 26,
   "metadata": {},
   "outputs": [
    {
     "ename": "IOError",
     "evalue": "[Errno 2] No such file or directory: 'data/All_images2/aug_original_P1840019_aug.jpg_106b228c-717f-42d1-b48c-5b1c43dcc484.jpg'",
     "output_type": "error",
     "traceback": [
      "\u001b[0;31m---------------------------------------------------------------------------\u001b[0m",
      "\u001b[0;31mIOError\u001b[0m                                   Traceback (most recent call last)",
      "\u001b[0;32m<ipython-input-26-4303a5d8fcde>\u001b[0m in \u001b[0;36m<module>\u001b[0;34m()\u001b[0m\n\u001b[1;32m      4\u001b[0m \u001b[0;32mfor\u001b[0m \u001b[0mimg\u001b[0m \u001b[0;32min\u001b[0m \u001b[0mmy_dict\u001b[0m\u001b[0;34m:\u001b[0m\u001b[0;34m\u001b[0m\u001b[0m\n\u001b[1;32m      5\u001b[0m     \u001b[0;32mfor\u001b[0m \u001b[0mobj\u001b[0m \u001b[0;32min\u001b[0m \u001b[0mmy_dict\u001b[0m\u001b[0;34m[\u001b[0m\u001b[0mimg\u001b[0m\u001b[0;34m]\u001b[0m\u001b[0;34m:\u001b[0m\u001b[0;34m\u001b[0m\u001b[0m\n\u001b[0;32m----> 6\u001b[0;31m         \u001b[0mim\u001b[0m \u001b[0;34m=\u001b[0m \u001b[0mImage\u001b[0m\u001b[0;34m.\u001b[0m\u001b[0mopen\u001b[0m\u001b[0;34m(\u001b[0m\u001b[0mos\u001b[0m\u001b[0;34m.\u001b[0m\u001b[0mpath\u001b[0m\u001b[0;34m.\u001b[0m\u001b[0mjoin\u001b[0m\u001b[0;34m(\u001b[0m\u001b[0mimages_path\u001b[0m\u001b[0;34m,\u001b[0m\u001b[0mimg\u001b[0m\u001b[0;34m)\u001b[0m\u001b[0;34m)\u001b[0m\u001b[0;34m\u001b[0m\u001b[0m\n\u001b[0m\u001b[1;32m      7\u001b[0m         \u001b[0mw\u001b[0m\u001b[0;34m,\u001b[0m\u001b[0mh\u001b[0m \u001b[0;34m=\u001b[0m \u001b[0mim\u001b[0m\u001b[0;34m.\u001b[0m\u001b[0msize\u001b[0m\u001b[0;34m\u001b[0m\u001b[0m\n\u001b[1;32m      8\u001b[0m         \u001b[0mx1\u001b[0m\u001b[0;34m,\u001b[0m\u001b[0my1\u001b[0m\u001b[0;34m,\u001b[0m\u001b[0mx2\u001b[0m\u001b[0;34m,\u001b[0m\u001b[0my2\u001b[0m\u001b[0;34m,\u001b[0m\u001b[0mcls\u001b[0m \u001b[0;34m=\u001b[0m \u001b[0mobj\u001b[0m\u001b[0;34m\u001b[0m\u001b[0m\n",
      "\u001b[0;32m/home/dgxadmin/anaconda3/envs/caffe/lib/python2.7/site-packages/PIL/Image.pyc\u001b[0m in \u001b[0;36mopen\u001b[0;34m(fp, mode)\u001b[0m\n\u001b[1;32m   2546\u001b[0m \u001b[0;34m\u001b[0m\u001b[0m\n\u001b[1;32m   2547\u001b[0m     \u001b[0;32mif\u001b[0m \u001b[0mfilename\u001b[0m\u001b[0;34m:\u001b[0m\u001b[0;34m\u001b[0m\u001b[0m\n\u001b[0;32m-> 2548\u001b[0;31m         \u001b[0mfp\u001b[0m \u001b[0;34m=\u001b[0m \u001b[0mbuiltins\u001b[0m\u001b[0;34m.\u001b[0m\u001b[0mopen\u001b[0m\u001b[0;34m(\u001b[0m\u001b[0mfilename\u001b[0m\u001b[0;34m,\u001b[0m \u001b[0;34m\"rb\"\u001b[0m\u001b[0;34m)\u001b[0m\u001b[0;34m\u001b[0m\u001b[0m\n\u001b[0m\u001b[1;32m   2549\u001b[0m         \u001b[0mexclusive_fp\u001b[0m \u001b[0;34m=\u001b[0m \u001b[0mTrue\u001b[0m\u001b[0;34m\u001b[0m\u001b[0m\n\u001b[1;32m   2550\u001b[0m \u001b[0;34m\u001b[0m\u001b[0m\n",
      "\u001b[0;31mIOError\u001b[0m: [Errno 2] No such file or directory: 'data/All_images2/aug_original_P1840019_aug.jpg_106b228c-717f-42d1-b48c-5b1c43dcc484.jpg'"
     ]
    }
   ],
   "source": [
    "from PIL import Image\n",
    "\n",
    "i = 0\n",
    "for img in my_dict:\n",
    "    for obj in my_dict[img]:\n",
    "        im = Image.open(os.path.join(images_path,img))\n",
    "        w,h = im.size\n",
    "        x1,y1,x2,y2,cls = obj\n",
    "        if x1 == 0 or x2 == w or y1 == 0 or y2 == h:\n",
    "            i+=1\n",
    "            print (img, classes[cls], x1,y1,x2,y2)\n",
    "            \n",
    "print (i)"
   ]
  },
  {
   "cell_type": "markdown",
   "metadata": {},
   "source": [
    "3- from 1 & 2 check loop for each class out of 66 image check if freq > 50\n",
    "\n",
    "if True:\n",
    "\n",
    "    loop for all images\n",
    "    \n",
    "        check if we delete the image no other object freq in the image will not be less 50:\n",
    "        \n",
    "            if yes -> delete the whole image and its annotation from the groundtruth then update the freq array\n",
    "            \n",
    "            if no -> then hide the objects that will not be affected then update the annotation as well as the freq array\n"
   ]
  },
  {
   "cell_type": "code",
   "execution_count": 140,
   "metadata": {},
   "outputs": [
    {
     "name": "stdout",
     "output_type": "stream",
     "text": [
      "done ....\n"
     ]
    }
   ],
   "source": [
    "images_path = 'data/All_images'\n",
    "del_image_path = 'del_image.txt'\n",
    "del_object_path = 'del_object.txt'\n",
    "\n",
    "del_image = open(del_image_path, 'wt')\n",
    "del_object = open(del_object_path, 'wt')\n",
    "\n",
    "imgs_del = [] # loop to delete all img from my_dict\n",
    "\n",
    "for img in my_dict:\n",
    "    im_del = True\n",
    "    objs_del = []\n",
    "    objs_not_del = []\n",
    "    # check delete the image or not\n",
    "    for i, obj in enumerate(my_dict[img]):\n",
    "        _,_,_,_,cls = obj\n",
    "        if frq[cls] <= 50:\n",
    "            im_del = False\n",
    "            objs_not_del.append(obj)\n",
    "        else:\n",
    "            frq[cls] -= 1 # correct here because we may have two objects from the same class and in case of im_del all\n",
    "                            # of the object freq will be subtracted by 1 \n",
    "            objs_del.append(obj)\n",
    "            \n",
    "    if im_del == True:\n",
    "        #print img\n",
    "        del_image.write(img+' '+str(objs_del)+'\\n\\r')\n",
    "        os.remove(os.path.join(images_path, img))\n",
    "        #del my_dict[img] #####->>>>>>>>>>>>>>>>>>>>>>>>>>>>>>>>>. del will affect the loop\n",
    "        imgs_del.append(img) # TO NOT EFFECT THE LOOP I WILL DELETE THEM FROM my_dict AFTER THE LOOP\n",
    "    else:\n",
    "        #if len(objs_del) == 0: # comment this if i want to remove all the link files and copy the image\n",
    "        #    continue           # -------------------- it will take time ------------------------------\n",
    "        tmp = cv2.imread(os.path.join(images_path,img))\n",
    "        org = tmp.copy()\n",
    "        os.remove(os.path.join(images_path, img))\n",
    "        \n",
    "        for obj in objs_del:\n",
    "            x1,y1,x2,y2,cls = obj\n",
    "            #if frq[cls] > 50:\n",
    "                #frq[cls] -= 1 # wrong because we may have two objects from the same class\n",
    "            #del my_dict[img][i] # wrong because it will change the index after delete\n",
    "            del_object.write(img+' '+str(obj)+' '+classes[cls] + '\\n\\r')\n",
    "\n",
    "            ### bluer the object x1,y1,x2,y2\n",
    "            np.random.shuffle(tmp[y1:y2+1,x1:x2+1,0])\n",
    "            np.random.shuffle(tmp[y1:y2+1,x1:x2+1,0].T)\n",
    "\n",
    "            np.random.shuffle(tmp[y1:y2+1,x1:x2+1,1])\n",
    "            np.random.shuffle(tmp[y1:y2+1,x1:x2+1,1].T)\n",
    "\n",
    "            np.random.shuffle(tmp[y1:y2+1,x1:x2+1,2])\n",
    "            np.random.shuffle(tmp[y1:y2+1,x1:x2+1,2].T)\n",
    "\n",
    "            #np.random.shuffle(im[y1:y2,x1:x2])\n",
    "            #np.random.shuffle(im[y1:y2,x1:x2].T)\n",
    "\n",
    "            blur = cv2.blur(tmp, (50, 50))\n",
    "\n",
    "            #print lines[0] , x1, x2, y1, y2\n",
    "\n",
    "            #print im[y1:y2,x1:x2,0]\n",
    "            #cv2.imwrite('aug.jpg', im)\n",
    "\n",
    "            num =10\n",
    "            tmp[y1-num:y2+num,x1-num:x2+num] = blur[y1-num:y2+num,x1-num:x2+num]\n",
    "            ###\n",
    "            \n",
    "        for obj in objs_not_del:\n",
    "            x1,y1,x2,y2,cls = obj\n",
    "            ynum = int(y2-y1)/14\n",
    "            xnum = int(x2-x1)/14\n",
    "            tmp[y1-ynum:y2+ynum,x1-xnum:x2+xnum] = org[y1-ynum:y2+ynum,x1-xnum:x2+xnum]\n",
    "        \n",
    "        my_dict[img] = objs_not_del # to keep only the objects that is not deleted\n",
    "                                \n",
    "        cv2.imwrite(os.path.join(images_path,img), tmp)\n",
    "                \n",
    "for img in imgs_del:\n",
    "    del my_dict[img]\n",
    "    \n",
    "del_image.close()\n",
    "del_object.close()\n",
    "print ('done ....')"
   ]
  },
  {
   "cell_type": "markdown",
   "metadata": {},
   "source": [
    "Generate the new annotation from the my_dict final"
   ]
  },
  {
   "cell_type": "code",
   "execution_count": 141,
   "metadata": {},
   "outputs": [
    {
     "data": {
      "text/plain": [
       "2544"
      ]
     },
     "execution_count": 141,
     "metadata": {},
     "output_type": "execute_result"
    }
   ],
   "source": [
    "len(my_dict)"
   ]
  },
  {
   "cell_type": "markdown",
   "metadata": {},
   "source": [
    "don't forget to check P1840369.jpg images anno\n",
    "\n",
    "ln -s ../MTSD/Images/*.jpg ./\n",
    "\n",
    "ln -s ../MTSD/Images/*.JPG ./\n",
    "\n",
    "ln -s ../test/aug/output/aug_*.jpg ./\n",
    "\n",
    "ln -s ../test/aug2/output/aug2_*.jpg ./\n",
    "\n",
    "Before the run\n",
    "\n",
    "All_images have 9350 images link 13.8GB\n",
    "\n",
    "with 159 link not used in the folder\n",
    "\n",
    "After run 2545 image 5.0GB without the 159 link \n"
   ]
  },
  {
   "cell_type": "code",
   "execution_count": 142,
   "metadata": {},
   "outputs": [],
   "source": [
    "final_anno_path = 'results/gt_final.txt'\n",
    "final_anno = open(final_anno_path, 'wt')\n",
    "\n",
    "for img in my_dict:\n",
    "    for obj in my_dict[img]:\n",
    "        x1,y1,x2,y2,cls = obj\n",
    "        final_anno.write('{};{};{};{};{};{}\\n'.format(img,x1,y1,x2,y2,cls))\n",
    "\n",
    "final_anno.close()"
   ]
  },
  {
   "cell_type": "code",
   "execution_count": 144,
   "metadata": {},
   "outputs": [
    {
     "name": "stdout",
     "output_type": "stream",
     "text": [
      "[50 50 50 50 50 50 50 50 50 50 50 50 50 50 50 50 50 50 50 50 50 50 50 50\n",
      " 50 50 50 50 50 50 50 50 50 50 50 50 50 50 50 50 50 50 50 50 50 50 50 50\n",
      " 50 50 50 50 50 50 50 50 50 50 50 50 50 50 50 50 50 50] 66 3300\n"
     ]
    }
   ],
   "source": [
    "print (frq, len(frq), np.sum(frq))"
   ]
  },
  {
   "cell_type": "code",
   "execution_count": 146,
   "metadata": {},
   "outputs": [
    {
     "name": "stdout",
     "output_type": "stream",
     "text": [
      "[50 50 50 50 50 50 50 50 50 50 50 50 50 50 50 50 50 50 50 50 50 50 50 50\n",
      " 50 50 50 50 50 50 50 50 50 50 50 50 50 50 50 50 50 50 50 50 50 50 50 50\n",
      " 50 50 50 50 50 50 50 50 50 50 50 50 50 50 50 50 50 50] 66 3300\n",
      "Done...\n"
     ]
    }
   ],
   "source": [
    "final_anno_path = 'results/gt_final.txt'\n",
    "final_anno = open(final_anno_path, 'rt')\n",
    "\n",
    "# 1- Collect the total frequancy for each object\n",
    "final_tmp = []\n",
    "for line in final_anno:\n",
    "    final_tmp.append( int(line.split(';')[5].replace('\\r\\n',''))+1)\n",
    "    \n",
    "final_a = np.array(final_tmp)\n",
    "final_unique, final_counts = np.unique(final_a, return_counts=True)\n",
    "\n",
    "final_frq = np.array(final_counts)\n",
    "print (final_frq, len(final_frq), np.sum(final_frq))\n",
    "\n",
    "final_anno.close()\n",
    "print ('Done...')"
   ]
  },
  {
   "cell_type": "code",
   "execution_count": 147,
   "metadata": {},
   "outputs": [
    {
     "data": {
      "image/png": "[encoded data removed]",
      "text/plain": [
       "<Figure size 432x288 with 1 Axes>"
      ]
     },
     "metadata": {},
     "output_type": "display_data"
    },
    {
     "name": "stdout",
     "output_type": "stream",
     "text": [
      "freq->\n",
      " [50 50 50 50 50 50 50 50 50 50 50 50 50 50 50 50 50 50 50 50 50 50 50 50\n",
      " 50 50 50 50 50 50 50 50 50 50 50 50 50 50 50 50 50 50 50 50 50 50 50 50\n",
      " 50 50 50 50 50 50 50 50 50 50 50 50 50 50 50 50 50 50]\n",
      "Mean: 50.00\n",
      " Var: 0.00\n",
      " Max: 50.00\n",
      " Min: 50.00\n",
      " Sum: 3300.00\n",
      " STD: 0.00\n",
      " CV: 0.00\n",
      "\n",
      "Total number of objects: 3300\n"
     ]
    }
   ],
   "source": [
    "import matplotlib.pyplot as plt\n",
    "import numpy as np\n",
    "\n",
    "%matplotlib inline\n",
    "\n",
    "file_p = 'results/gt_final.txt'\n",
    "\n",
    "#file_p = '/home/hossam/PycharmProjects/tsr-py-faster-rcnn/data/GTSDB/Annotations/gt.txt'\n",
    "\n",
    "file = open(file_p,'rt')\n",
    "\n",
    "\n",
    "tmp = []\n",
    "for line in file:\n",
    "    tmp.append( int(line.split(';')[5].replace('\\r\\n',''))+1)\n",
    "#plt.hist(x, normed=True, bins=30)\n",
    "# hist, bins = np.histogram(tmp, bins=66)\n",
    "# width = 0.7 * (bins[1] - bins[0])\n",
    "# center = (bins[:-1] + bins[1:]) / 2\n",
    "# plt.bar(center, hist, align='center', width=width)\n",
    "# plt.legend()\n",
    "# plt.show()\n",
    "\n",
    "plt.hist(tmp,histtype='bar', rwidth=0.8,bins=range(1,69,1), align='left')\n",
    "###plt.hist(tmp,histtype='bar', rwidth=0.8,bins=range(1,50,1), align='left')\n",
    "plt.title(\"Classes Histogram - Malaysian dataset\")\n",
    "plt.xlabel(\"Value\")\n",
    "plt.ylabel(\"Frequency\")\n",
    "\n",
    "plt.show()\n",
    "\n",
    "#print tmp\n",
    "file.close()\n",
    "a = np.array(tmp)\n",
    "unique, counts = np.unique(a, return_counts=True)\n",
    "\n",
    "frq = np.array(counts)\n",
    "print ('freq->\\n',counts)\n",
    "#print keep\n",
    "#print classes[keep]\n",
    "#print a.mean(), a.var(), a.max(), a.min(), a.sum(), a.std()\n",
    "print ('Mean: {:.2f}\\n'.format(frq.mean()),\\\n",
    "    'Var: {:.2f}\\n'.format(frq.var()),\\\n",
    "    'Max: {:.2f}\\n'.format(frq.max()),\\\n",
    "    'Min: {:.2f}\\n'.format(frq.min()),\\\n",
    "    'Sum: {:.2f}\\n'.format(frq.sum()),\\\n",
    "    'STD: {:.2f}\\n'.format(frq.std()),\\\n",
    "    'CV: {:.2f}\\n'.format(frq.std()/frq.mean()))\n",
    "print ('Total number of objects:',len(tmp))"
   ]
  },
  {
   "cell_type": "markdown",
   "metadata": {},
   "source": [
    "# End of Elimination"
   ]
  },
  {
   "cell_type": "markdown",
   "metadata": {},
   "source": [
    "# For Testing"
   ]
  },
  {
   "cell_type": "code",
   "execution_count": 111,
   "metadata": {},
   "outputs": [
    {
     "name": "stdout",
     "output_type": "stream",
     "text": [
      "{'1': [(5, 6), (7, 8)], '9': [(0, 0)], '7': [(9, 9)]}\n",
      "{'1': [(5, 6), (7, 8)], '9': [(0, 0)]}\n",
      "__ {'1': [(5, 6), (7, 8)], '9': [(0, 0)]}\n",
      "--- {'1': [(5, 6), (7, 8)], '9': [(1, 2), (3, 4), (5, 7)]}\n"
     ]
    }
   ],
   "source": [
    "#x = cv2.imread('/home/mjiit/Hossam/mtsd_augmentation/data/testing/short/1_aug.jpg')\n",
    "\n",
    "#os.remove('/home/mjiit/Hossam/mtsd_augmentation/data/testing/short/1_aug.jpg')\n",
    "\n",
    "#cv2.imwrite('/home/mjiit/Hossam/mtsd_augmentation/data/testing/short/1_aug.jpg', x)\n",
    "\n",
    "dicte = {'1':[(5,6), (7,8)], '7':[(9,9)], '9':[(0,0)]}\n",
    "print dicte\n",
    "\n",
    "del_dicte = []\n",
    "\n",
    "for did in dicte:\n",
    "    if did == '7':\n",
    "        del_dicte.append(did)\n",
    "\n",
    "for kk in del_dicte:\n",
    "    del dicte[kk]\n",
    "print dicte\n",
    "\n",
    "test = [(1,2), (3,4), (5,7)]\n",
    "\n",
    "print '__', dicte\n",
    "dicte['9'] = test\n",
    "test = [(1,3),(9,0)]\n",
    "print '---', dicte"
   ]
  },
  {
   "cell_type": "code",
   "execution_count": 58,
   "metadata": {},
   "outputs": [
    {
     "data": {
      "text/plain": [
       "('aug2_original_P1840287_aug.jpg_3e368841-d808-4b58-afc5-37ff6baac7d9.jpg',\n",
       " [(2756, 1112, 2965, 1309, 64)])"
      ]
     },
     "execution_count": 58,
     "metadata": {},
     "output_type": "execute_result"
    }
   ],
   "source": [
    "my_dict.items()[2]"
   ]
  },
  {
   "cell_type": "code",
   "execution_count": 59,
   "metadata": {},
   "outputs": [
    {
     "name": "stdout",
     "output_type": "stream",
     "text": [
      "('aug2_original_P1840387_aug.jpg_e0744d93-8e90-4234-8e61-4f5d6c9b1cbf.jpg', [(1055, 1248, 1412, 1569, 22)])\n"
     ]
    }
   ],
   "source": [
    "print my_dict.items()[3]"
   ]
  },
  {
   "cell_type": "code",
   "execution_count": 385,
   "metadata": {},
   "outputs": [
    {
     "name": "stdout",
     "output_type": "stream",
     "text": [
      "height-limit-sign-6.-m\n"
     ]
    }
   ],
   "source": [
    "print classes[16]"
   ]
  },
  {
   "cell_type": "code",
   "execution_count": 148,
   "metadata": {
    "scrolled": true
   },
   "outputs": [
    {
     "name": "stdout",
     "output_type": "stream",
     "text": [
      "Number of objects 7\n",
      "obj# 0\n",
      "32 0\n",
      "1\n",
      "(240, 1832) (786, 2371)\n",
      "_______\n",
      "obj# 1\n",
      "179 0\n",
      "4\n",
      "(255, 1207) (791, 1744)\n",
      "_______\n",
      "obj# 2\n",
      "106 0\n",
      "9\n",
      "(640, 89) (814, 260)\n",
      "_______\n",
      "obj# 3\n",
      "255 0\n",
      "5\n",
      "(1776, 1737) (1851, 1812)\n",
      "_______\n",
      "obj# 4\n",
      "79 0\n",
      "16\n",
      "(2840, 1731) (2877, 1768)\n",
      "_______\n",
      "obj# 5\n",
      "150 0\n",
      "6\n",
      "(1831, 1743) (1896, 1829)\n",
      "_______\n",
      "obj# 6\n",
      "17 0\n",
      "13\n",
      "(1811, 1609) (1896, 1689)\n",
      "_______\n"
     ]
    }
   ],
   "source": [
    "# mask with different colors space per each object sequential\n",
    "\n",
    "#./data/test/gt/P1840014.JPG\n",
    "#./data/test/gt/P1840114.JPG\n",
    "# P1860079.JPG\n",
    "\n",
    "#ff = '130.jpg'\n",
    "ff = 'P1840185.JPG'\n",
    "im = cv2.imread(os.path.join(mask_path,ff))\n",
    "f = open(os.path.join(label_path, ff.split('.')[0]+'.txt'), 'r')\n",
    "#im[im == 255] = 1\n",
    "#im[im == 0] = 255\n",
    "#im[im == 1] = 0\n",
    "lines = f.readlines()\n",
    "print 'Number of objects', len(lines)\n",
    "for i in range(0, len(lines)):\n",
    "    lower = np.array(color_list[i])-10\n",
    "    upper = np.array(color_list[i])+10\n",
    "    mask = cv2.inRange(im, lower, upper)\n",
    "    im3 = cv2.bitwise_and(im, im, mask=mask)\n",
    "\n",
    "\n",
    "    print 'obj#', i\n",
    "    im2 = cv2.cvtColor(im3, cv2.COLOR_BGR2GRAY)\n",
    "\n",
    "    print np.max(im2), np.min(im2)\n",
    "\n",
    "    cv2.imwrite('test'+str(i)+'.jpg', im2)\n",
    "    ret, thresh = cv2.threshold(im2, 0, np.max(im2)+1 ,cv2.THRESH_BINARY)\n",
    "    _, contours, hierarchy = cv2.findContours(thresh, cv2.RETR_TREE, cv2.CHAIN_APPROX_SIMPLE)\n",
    "    print len(contours)\n",
    "    #for i in range(0, len(contours)):\n",
    "        #if(i%2 == 0)\n",
    "    \n",
    "    # getting the maximum width contours\n",
    "    x,y,w,h = cv2.boundingRect(contours[0])\n",
    "    for cnt in contours:\n",
    "        cx, cy, cw, ch = cv2.boundingRect(cnt)\n",
    "        if cw > w:\n",
    "            x,y,w,h = cx, cy, cw, ch\n",
    "    #cnt = contours[i]\n",
    "    \n",
    "    cv2.rectangle(im, (x,y), (x+w, y+h), (0,240,180), 5)\n",
    "    print (x,y), (x+w, y+h)\n",
    "    cv2.imwrite(str(i)+'.jpg', im)\n",
    "    \n",
    "    print '_______'"
   ]
  },
  {
   "cell_type": "code",
   "execution_count": 40,
   "metadata": {},
   "outputs": [
    {
     "data": {
      "text/plain": [
       "True"
      ]
     },
     "execution_count": 40,
     "metadata": {},
     "output_type": "execute_result"
    }
   ],
   "source": [
    "im = cv2.imread('./data/test/images/P1840121.JPG')\n",
    "f = open('./data/labels/P1840121.txt')\n",
    "lines = f.readlines()\n",
    "\n",
    "im_out = np.zeros(im.shape, np.uint8)\n",
    "\n",
    "for line in lines:\n",
    "    spl = line.split(' ')\n",
    "    x1 = int(spl[1])+1\n",
    "    y1 = int(spl[2])+1\n",
    "    x2 = int(spl[3])-1\n",
    "    y2 = int(spl[4])-1\n",
    "    \n",
    "    cv2.rectangle(im_out, (x1,y1), (x2,y2),(255,255,255), -1)\n",
    "    \n",
    "cv2.imwrite('test.jpg', im_out)   "
   ]
  },
  {
   "cell_type": "code",
   "execution_count": 123,
   "metadata": {},
   "outputs": [
    {
     "name": "stdout",
     "output_type": "stream",
     "text": [
      "(2644, 1198) (2805, 1366)\n",
      "(2800, 1360) (2804, 1365)\n",
      "(2654, 1360) (2801, 1365)\n",
      "(2650, 1360) (2654, 1364)\n",
      "(2645, 1360) (2649, 1365)\n",
      "(2650, 1199) (2653, 1361)\n",
      "(2646, 1199) (2649, 1361)\n"
     ]
    }
   ],
   "source": [
    "im = cv2.imread('./data/test/gt/P1840217.JPG')\n",
    "im2 = cv2.cvtColor(im3, cv2.COLOR_BGR2GRAY)\n",
    "ret, thresh = cv2.threshold(im2, 8, 8 ,8)\n",
    "_, contours, hierarchy = cv2.findContours(thresh, cv2.RETR_TREE, cv2.CHAIN_APPROX_SIMPLE)\n",
    "for i in range(0, len(contours)):\n",
    "    x,y,w,h = cv2.boundingRect(contours[i])\n",
    "    cv2.rectangle(im, (x,y), (x+w, y+h), (0,255,0), 2)\n",
    "    print (x,y), (x+w, y+h)\n",
    "    cv2.imwrite(str(i)+'.jpg', im)"
   ]
  }
 ],
 "metadata": {
  "kernelspec": {
   "display_name": "Python 2",
   "language": "python",
   "name": "python2"
  },
  "language_info": {
   "codemirror_mode": {
    "name": "ipython",
    "version": 2
   },
   "file_extension": ".py",
   "mimetype": "text/x-python",
   "name": "python",
   "nbconvert_exporter": "python",
   "pygments_lexer": "ipython2",
   "version": "2.7.15"
  }
 },
 "nbformat": 4,
 "nbformat_minor": 2
}
