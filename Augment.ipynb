{
 "cells": [
  {
   "cell_type": "code",
   "execution_count": 405,
   "metadata": {},
   "outputs": [],
   "source": [
    "import cv2\n",
    "import numpy as np\n",
    "import os"
   ]
  },
  {
   "cell_type": "code",
   "execution_count": 406,
   "metadata": {},
   "outputs": [],
   "source": [
    "color_list = [(255,0,0),\n",
    "             (255,255,0),\n",
    "             (255,0,255),\n",
    "             (255,255,255),\n",
    "             (0,0,255),\n",
    "             (0,255,0),\n",
    "             (128,0,0),\n",
    "             (128,128,0),\n",
    "             (128,0,128),\n",
    "             (128,128,128),\n",
    "             (0,0,128),\n",
    "             (0,128,0),\n",
    "             (64,0,0),\n",
    "             (64,64,0),\n",
    "             (64,0,64),\n",
    "             (64,64,64),\n",
    "             (0,0,64),\n",
    "             (0,64,0),\n",
    "             (32,0,0),\n",
    "             (32,32,0),\n",
    "             (32,0,32),\n",
    "             (32,32,32),\n",
    "             (0,0,32),\n",
    "             (0,32,0)\n",
    "             ]"
   ]
  },
  {
   "cell_type": "code",
   "execution_count": 407,
   "metadata": {},
   "outputs": [],
   "source": [
    "classes = np.array([\n",
    "                         'u-turn', 'keep-right', 'keep-left', 'pass-either-side',\n",
    "                         'compulsory-motor-cycles-track', 'stop', 'no-left-turn', 'no-right-turn', 'no-u-turn',\n",
    "                         'no-entry', 'weight-limit-sign-5T', 'weight-limit-sign-30T', 'height-limit-sign-2.-m',\n",
    "                         'height-limit-sign-3.-m', 'height-limit-sign-4.-m', 'height-limit-sign-5.-m', 'height-limit-sign-6.-m',\n",
    "                         'speed-limit-20', 'speed-limit-30', 'speed-limit-40', 'speed-limit-50', 'speed-limit-60', 'speed-limit-70',\n",
    "                         'speed-limit-80', 'speed-limit-90','speed-limit-110', 'no-entry-for-vehicles-ex-5T-truntks-etc',\n",
    "                         'heavy-vehicles-no-driving-on-right-lane', 'no-parking', 'no-stopping', 'give-way', 'wide-limit-3.-m',\n",
    "                         'no-overtaking', 'road-work', 'camera-operation-zone', 'crosswind-area', 'caution-hump',\n",
    "                         'hump-ahead', 'towing-zone', 'left-bend', 'slippery-road', 'pedestrain-crossing-opt1', 'pedestrain-crossing-opt2',\n",
    "                         'school-childern-crossing-opt1', 'school-childern-crossing-opt2', 'caution', 'narrow-roads-on-the-left',\n",
    "                         'traffic-lights-ahead', 'obstacles', 'staggered-junctions', 'crossroads-T-junction', 'crossroads-to-the-right',\n",
    "                         'crossroads-to-the-left', 'exit-to-the-left', 'crossroads', 'minor-road-on-right', 'minor-road-on-left',\n",
    "                         'minor-road-on-left-opt2', 'cattle-crossing', 'roundabout-ahead', 'narrow-bridge','split-way', 'two-way-road',\n",
    "                         'divided-road-ending', 'curve-on-the-left', 'crossroads-Y-junction'])"
   ]
  },
  {
   "cell_type": "markdown",
   "metadata": {},
   "source": [
    "## 1) Calculate the freq of each class and store all the freq < 50 in keep varaibale array"
   ]
  },
  {
   "cell_type": "code",
   "execution_count": 420,
   "metadata": {},
   "outputs": [
    {
     "data": {
      "image/png": "[encoded data removed]",
      "text/plain": [
       "<matplotlib.figure.Figure at 0x7fd855afbed0>"
      ]
     },
     "metadata": {},
     "output_type": "display_data"
    },
    {
     "name": "stdout",
     "output_type": "stream",
     "text": [
      "freq->\n",
      "[ 70  20  56  11   1  20  11   6  20  51   7   2   9  14  39 144   1   2\n",
      "  26  13  54  32   4  67  30  25  12   9  42  66  85   2   2  27  35   9\n",
      "  72  28  41   9   2  11  37  37   9  27   8  59 235   3   3  11  18  15\n",
      "  13   8  87   4   6  11   6 264   1   1   4   2]\n",
      "Mean: 31.15\n",
      "Var: 2207.25\n",
      "Max: 264.00\n",
      "Min: 1.00\n",
      "Sum: 2056.00\n",
      "STD: 46.98\n",
      "CV: 1.51\n",
      "\n",
      "Total number of objects: 2056\n"
     ]
    }
   ],
   "source": [
    "import matplotlib.pyplot as plt\n",
    "import numpy as np\n",
    "\n",
    "%matplotlib inline\n",
    "\n",
    "file_p = '/home/hossam/PycharmProjects/tsr-py-faster-rcnn/data/MTSD/Annotations/gt.txt'\n",
    "\n",
    "#file_p = '/home/hossam/PycharmProjects/tsr-py-faster-rcnn/data/GTSDB/Annotations/gt.txt'\n",
    "\n",
    "file = open(file_p,'rt')\n",
    "\n",
    "\n",
    "tmp = []\n",
    "for line in file:\n",
    "    tmp.append( int(line.split(';')[5].replace('\\r\\n',''))+1)\n",
    "#plt.hist(x, normed=True, bins=30)\n",
    "# hist, bins = np.histogram(tmp, bins=66)\n",
    "# width = 0.7 * (bins[1] - bins[0])\n",
    "# center = (bins[:-1] + bins[1:]) / 2\n",
    "# plt.bar(center, hist, align='center', width=width)\n",
    "# plt.legend()\n",
    "# plt.show()\n",
    "\n",
    "plt.hist(tmp,histtype='bar', rwidth=0.8,bins=range(1,69,1), align='left')\n",
    "###plt.hist(tmp,histtype='bar', rwidth=0.8,bins=range(1,50,1), align='left')\n",
    "plt.title(\"Classes Histogram - Malaysian dataset\")\n",
    "plt.xlabel(\"Value\")\n",
    "plt.ylabel(\"Frequency\")\n",
    "\n",
    "plt.show()\n",
    "\n",
    "#print tmp\n",
    "file.close()\n",
    "a = np.array(tmp)\n",
    "unique, counts = np.unique(a, return_counts=True)\n",
    "\n",
    "frq = np.array(counts)\n",
    "# print counts\n",
    "keep = np.where(frq < 50)\n",
    "# print keep\n",
    "# print classes[keep]\n",
    "# print a.mean(), a.var(), a.max(), a.min(), a.sum(), a.std()\n",
    "# print frq.mean(), frq.var(), frq.max(), frq.min(), frq.sum(), frq.std()\n",
    "# print len(tmp)\n",
    "\n",
    "\n",
    "print 'freq->\\n',counts\n",
    "#print keep\n",
    "#print classes[keep]\n",
    "#print a.mean(), a.var(), a.max(), a.min(), a.sum(), a.std()\n",
    "print 'Mean: {:.2f}\\n'.format(frq.mean()),\\\n",
    "    'Var: {:.2f}\\n'.format(frq.var()),\\\n",
    "    'Max: {:.2f}\\n'.format(frq.max()),\\\n",
    "    'Min: {:.2f}\\n'.format(frq.min()),\\\n",
    "    'Sum: {:.2f}\\n'.format(frq.sum()),\\\n",
    "    'STD: {:.2f}\\n'.format(frq.std()),\\\n",
    "    'CV: {:.2f}\\n'.format(frq.std()/frq.mean())\n",
    "print 'Total number of objects:',len(tmp)"
   ]
  },
  {
   "cell_type": "markdown",
   "metadata": {},
   "source": [
    "## 2) Loop for each image\n",
    "### - blur the objects that is not in keep array\n",
    "### - store only the images that have at least one object in keep array in aug folder\n",
    "### - store aswell the labels for each image obj in aug folder in aug_labels"
   ]
  },
  {
   "cell_type": "code",
   "execution_count": 422,
   "metadata": {},
   "outputs": [],
   "source": [
    "im_path = './data/test/Images/'\n",
    "files = [f for f in os.listdir(im_path) if os.path.isfile(os.path.join(im_path,f))]\n",
    "#mask_path = './data/test/gt/'\n",
    "label_path = './data/labels/'\n",
    "\n",
    "#fname = 'P1840185.JPG'\n",
    "#fname = 'P1840114.JPG'\n",
    "#fname = 'P1840116.JPG'\n",
    "#fname = 'P1860061.JPG'\n",
    "\n",
    "#keep = [0,2,3,4,5,6,8,9,10,11]\n",
    "for fname in files:\n",
    "    \n",
    "    if not os.path.isfile(os.path.join(label_path, fname.split('.')[0]+'.txt')):\n",
    "        #fault = open('faults.txt', 'a')\n",
    "        #fault.write(fil+'\\n')\n",
    "        continue\n",
    "    \n",
    "    store = False\n",
    "\n",
    "    im = cv2.imread(os.path.join(im_path, fname))\n",
    "    org = im.copy()\n",
    "    f = open(os.path.join(label_path, fname.split('.')[0]+'.txt'), 'r')\n",
    "    \n",
    "    lines = f.readlines()\n",
    "    text = ''\n",
    "    for line in lines:\n",
    "        spl = line.split(' ')\n",
    "        i = np.where(classes == spl[0])[0][0]\n",
    "        if i not in keep[0]:\n",
    "            x1 = int(spl[1])#+1\n",
    "            y1 = int(spl[2])#+1\n",
    "            x2 = int(spl[3])#-1\n",
    "            y2 = int(spl[4])#-1\n",
    "\n",
    "            #print y2-y1, x2-x1\n",
    "\n",
    "            #cv2.imwrite('without_aug.jpg', im)\n",
    "            #print im[y1:y2,x1:x2]\n",
    "\n",
    "            np.random.shuffle(im[y1:y2+1,x1:x2+1,0])\n",
    "            np.random.shuffle(im[y1:y2+1,x1:x2+1,0].T)\n",
    "\n",
    "            np.random.shuffle(im[y1:y2+1,x1:x2+1,1])\n",
    "            np.random.shuffle(im[y1:y2+1,x1:x2+1,1].T)\n",
    "\n",
    "            np.random.shuffle(im[y1:y2+1,x1:x2+1,2])\n",
    "            np.random.shuffle(im[y1:y2+1,x1:x2+1,2].T)\n",
    "\n",
    "            #np.random.shuffle(im[y1:y2,x1:x2])\n",
    "            #np.random.shuffle(im[y1:y2,x1:x2].T)\n",
    "\n",
    "            blur = cv2.blur(im, (50, 50))\n",
    "\n",
    "            #print lines[0] , x1, x2, y1, y2\n",
    "\n",
    "            #print im[y1:y2,x1:x2,0]\n",
    "            #cv2.imwrite('aug.jpg', im)\n",
    "\n",
    "            num =10\n",
    "            im[y1-num:y2+num,x1-num:x2+num] = blur[y1-num:y2+num,x1-num:x2+num]\n",
    "            #cv2.imwrite('aug_blur.jpg', im)\n",
    "\n",
    "    for line in lines:\n",
    "        spl = line.split(' ')\n",
    "        i = np.where(classes == spl[0])[0][0]\n",
    "        if i in keep[0]:\n",
    "            store = True\n",
    "            \n",
    "            #spl = line.split(' ')\n",
    "            x1 = int(spl[1])#+1\n",
    "            y1 = int(spl[2])#+1\n",
    "            x2 = int(spl[3])#-1\n",
    "            y2 = int(spl[4])#-1\n",
    "            text += line\n",
    "            #im2 = cv2.imread(os.path.join(im_path, fname))\n",
    "            ynum = int(y2-y1)/14\n",
    "            xnum = int(x2-x1)/14\n",
    "            im[y1-ynum:y2+ynum,x1-xnum:x2+xnum] = org[y1-ynum:y2+ynum,x1-xnum:x2+xnum]\n",
    "    \n",
    "    if store:\n",
    "        cv2.imwrite(os.path.join('data/test/aug/',fname.split('.')[0]+'_aug'+'.jpg'), im)\n",
    "        f_out = open(os.path.join('./data/test/aug_labels/', fname.split('.')[0]+'_aug'+'.txt'), 'w')\n",
    "        f_out.write(text)\n",
    "        f_out.close()"
   ]
  },
  {
   "cell_type": "markdown",
   "metadata": {},
   "source": [
    "## 3) Generate the mask image for each aug image"
   ]
  },
  {
   "cell_type": "code",
   "execution_count": 423,
   "metadata": {},
   "outputs": [],
   "source": [
    "im_path = './data/test/aug/'\n",
    "files = [f for f in os.listdir(im_path) if os.path.isfile(os.path.join(im_path,f))]"
   ]
  },
  {
   "cell_type": "code",
   "execution_count": 424,
   "metadata": {
    "scrolled": true
   },
   "outputs": [],
   "source": [
    "mask_path = './data/test/aug_gt/'\n",
    "label_path = './data/test/aug_labels/'\n",
    "\n",
    "for fil in files:\n",
    "    if not os.path.isfile(os.path.join(label_path, fil.split('.')[0]+'.txt')):\n",
    "        #fault = open('faults.txt', 'a')\n",
    "        #fault.write(fil+'\\n')\n",
    "        continue\n",
    "    im = cv2.imread(os.path.join(im_path, fil))\n",
    "    f = open(os.path.join(label_path, fil.split('.')[0]+'.txt'))\n",
    "    #print os.path.join(label_path, fil.split('.')[0]+'.txt')\n",
    "    lines = f.readlines()\n",
    "    im_out = np.zeros(im.shape, np.uint8)\n",
    "    for i, line in enumerate(lines):\n",
    "        spl = line.split(' ')\n",
    "        x1 = int(spl[1])#+1\n",
    "        y1 = int(spl[2])#+1\n",
    "        x2 = int(spl[3])#-1\n",
    "        y2 = int(spl[4])#-1\n",
    "        #print fil, i, line\n",
    "        cv2.rectangle(im_out, (x1,y1), (x2,y2),color_list[i], -1)\n",
    "    #print '______'\n",
    "    cv2.imwrite(os.path.join(mask_path, fil), im_out)"
   ]
  },
  {
   "cell_type": "markdown",
   "metadata": {},
   "source": [
    "## 4) Augment the images with ground truth mask"
   ]
  },
  {
   "cell_type": "code",
   "execution_count": 307,
   "metadata": {},
   "outputs": [],
   "source": [
    "import Augmentor"
   ]
  },
  {
   "cell_type": "code",
   "execution_count": 330,
   "metadata": {
    "scrolled": false
   },
   "outputs": [
    {
     "name": "stderr",
     "output_type": "stream",
     "text": [
      "                                                        "
     ]
    },
    {
     "name": "stdout",
     "output_type": "stream",
     "text": [
      "Initialised with 395 image(s) found.\n",
      "Output directory set to ./data/test/aug/output.395 ground truth image(s) found.\n"
     ]
    },
    {
     "name": "stderr",
     "output_type": "stream",
     "text": [
      "\r"
     ]
    }
   ],
   "source": [
    "p = Augmentor.Pipeline(\"./data/test/aug\")\n",
    "p.ground_truth(\"./data/test/aug_gt\")"
   ]
  },
  {
   "cell_type": "code",
   "execution_count": 331,
   "metadata": {},
   "outputs": [],
   "source": [
    "p.rotate(probability=0.5, max_left_rotation=10, max_right_rotation=10)\n",
    "p.zoom(probability=0.5, min_factor=1.1, max_factor=1.2)\n",
    "p.random_distortion(probability=0.7, grid_width=4, grid_height=4, magnitude=8)\n",
    "p.skew_tilt(probability=0.5, magnitude=0.3)\n",
    "p.skew(probability=0.5, magnitude=0.3)"
   ]
  },
  {
   "cell_type": "code",
   "execution_count": 332,
   "metadata": {
    "scrolled": false
   },
   "outputs": [
    {
     "name": "stdout",
     "output_type": "stream",
     "text": [
      "Operations: 5\n",
      "\t0: RotateRange (max_right_rotation=10.0 max_left_rotation=-10.0 probability=0.5 )\n",
      "\t1: Zoom (min_factor=1.1 max_factor=1.2 probability=0.5 )\n",
      "\t2: Distort (randomise_magnitude=True magnitude=8 grid_height=4 probability=0.5 grid_width=4 )\n",
      "\t3: Skew (magnitude=0.5 skew_type=TILT probability=0.5 )\n",
      "\t4: Skew (magnitude=0.5 skew_type=RANDOM probability=0.5 )\n",
      "Images: 395\n",
      "Classes: 1\n",
      "\tClass index: 0 Class label: aug \n",
      "Dimensions: 19\n",
      "\tWidth: 1917 Height: 981\n",
      "\tWidth: 1917 Height: 977\n",
      "\tWidth: 4592 Height: 3448\n",
      "\tWidth: 1920 Height: 981\n",
      "\tWidth: 1917 Height: 979\n",
      "\tWidth: 1920 Height: 985\n",
      "\tWidth: 1919 Height: 979\n",
      "\tWidth: 1920 Height: 979\n",
      "\tWidth: 1915 Height: 981\n",
      "\tWidth: 3840 Height: 2160\n",
      "\tWidth: 1919 Height: 977\n",
      "\tWidth: 1920 Height: 977\n",
      "\tWidth: 1917 Height: 983\n",
      "\tWidth: 1920 Height: 983\n",
      "\tWidth: 1915 Height: 975\n",
      "\tWidth: 1919 Height: 981\n",
      "\tWidth: 1917 Height: 975\n",
      "\tWidth: 3920 Height: 2208\n",
      "\tWidth: 1919 Height: 983\n",
      "Formats: 1\n",
      "\t JPEG\n",
      "\n",
      "You can remove operations using the appropriate index and the remove_operation(index) function.\n"
     ]
    }
   ],
   "source": [
    "#p.remove_operation(operation_index=0)\n",
    "\n",
    "p.status()"
   ]
  },
  {
   "cell_type": "code",
   "execution_count": 333,
   "metadata": {
    "scrolled": true
   },
   "outputs": [
    {
     "name": "stderr",
     "output_type": "stream",
     "text": [
      "Processing <PIL.Image.Image image mode=RGB size=1919x979 at 0x7FD8781C7490>: 100%|██████████| 395/395 [13:40<00:00,  2.08s/ Samples]                   \n"
     ]
    }
   ],
   "source": [
    "p.sample(395*10, multi_threaded=True)"
   ]
  },
  {
   "cell_type": "markdown",
   "metadata": {},
   "source": [
    "## 5) Create the annotation for the new augmented images"
   ]
  },
  {
   "cell_type": "code",
   "execution_count": 449,
   "metadata": {},
   "outputs": [],
   "source": [
    "aug_path = './data/test/aug/output/'\n",
    "files = [f for f in os.listdir(aug_path) if os.path.isfile(os.path.join(aug_path,f))]\n",
    "\n",
    "gts = []\n",
    "augs = []\n",
    "\n",
    "for fi in files:\n",
    "    if 'original' in fi:\n",
    "        augs.append(fi)\n",
    "    else:\n",
    "        gts.append(fi)"
   ]
  },
  {
   "cell_type": "code",
   "execution_count": 450,
   "metadata": {},
   "outputs": [
    {
     "name": "stdout",
     "output_type": "stream",
     "text": [
      "False\n",
      "_groundtruth_(1)_aug_68_aug.jpg_382b7478-7e90-4361-8468-ea119b5dbc5f.jpg\n",
      "aug_original_P1860055_aug.jpg_03763ed1-9aba-4813-8e0a-182955d61ce1.jpg\n",
      "_groundtruth_(1)_aug_49_aug.jpg_45daa9b6-92a4-4fc2-893e-f08ac42f23d1.jpg False\n",
      "8350 8350\n",
      "./data/test/aug_labels/ ./data/test/aug_gt/\n"
     ]
    }
   ],
   "source": [
    "print gts[0].split('_')[6] in augs[0].split('_')[4]\n",
    "print gts[0]\n",
    "print augs[0]\n",
    "x = 'aug_original_49_aug.jpg_45daa9b6-92a4-4fc2-893e-f08ac42f23d1.jpg'\n",
    "y = x.replace('aug_original_', '_groundtruth_(1)_aug_')\n",
    "print y, os.path.isfile(os.path.join(aug_path, y))\n",
    "print len(augs), len(gts)\n",
    "\n",
    "print label_path, mask_path"
   ]
  },
  {
   "cell_type": "code",
   "execution_count": 453,
   "metadata": {
    "scrolled": true
   },
   "outputs": [],
   "source": [
    "# mask with different colors space per each object sequential\n",
    "\n",
    "#./data/test/gt/P1840014.JPG\n",
    "#./data/test/gt/P1840114.JPG\n",
    "# P1860079.JPG\n",
    "\n",
    "#ff = '130.jpg'\n",
    "mask_gt_path = './data/test/aug/output/'\n",
    "label_path = './data/test/aug_labels/'\n",
    "\n",
    "f_out = open('gt_phase_1.txt', 'w')\n",
    "for aug in augs:\n",
    "    aug_sp = aug.split('_')\n",
    "    gt = aug.replace('aug_original_', '_groundtruth_(1)_aug_')\n",
    "    org_file =  aug_sp[2]+'_'+aug_sp[3]\n",
    "    \n",
    "    \n",
    "    if not os.path.exists(os.path.join(label_path, org_file.split('.')[0]+'.txt')):\n",
    "        continue\n",
    "        \n",
    "    im = cv2.imread(os.path.join(mask_gt_path,gt))\n",
    "    f = open(os.path.join(label_path, org_file.split('.')[0]+'.txt'), 'r')\n",
    "    \n",
    "    #im[im == 255] = 1\n",
    "    #im[im == 0] = 255\n",
    "    #im[im == 1] = 0\n",
    "    lines = f.readlines()\n",
    "    #print 'Number of objects', len(lines)\n",
    "    for i in range(0, len(lines)):\n",
    "        lower = np.array(color_list[i])-10\n",
    "        upper = np.array(color_list[i])+10\n",
    "        mask = cv2.inRange(im, lower, upper)\n",
    "        im3 = cv2.bitwise_and(im, im, mask=mask)\n",
    "\n",
    "\n",
    "        #print 'obj#', i\n",
    "        im2 = cv2.cvtColor(im3, cv2.COLOR_BGR2GRAY)\n",
    "\n",
    "        #print np.max(im2), np.min(im2)\n",
    "\n",
    "        #cv2.imwrite(org_file+str(i)+'_thr.jpg', im2)\n",
    "        ret, thresh = cv2.threshold(im2, 0, np.max(im2)+1 ,cv2.THRESH_BINARY)\n",
    "        _, contours, hierarchy = cv2.findContours(thresh, cv2.RETR_TREE, cv2.CHAIN_APPROX_SIMPLE)\n",
    "        #print len(contours), org_file\n",
    "        if len(contours) == 0:\n",
    "            continue\n",
    "        #for i in range(0, len(contours)):\n",
    "            #if(i%2 == 0)\n",
    "\n",
    "        # getting the maximum width contours\n",
    "        x,y,w,h = cv2.boundingRect(contours[0])\n",
    "        for cnt in contours:\n",
    "            cx, cy, cw, ch = cv2.boundingRect(cnt)\n",
    "            if cw > w:\n",
    "                x,y,w,h = cx, cy, cw, ch\n",
    "        #cnt = contours[i]\n",
    "\n",
    "        #cv2.rectangle(im, (x,y), (x+w, y+h), (0,240,180), 5)\n",
    "        cls_num = np.where(classes == lines[i].split(' ')[0])[0][0]\n",
    "        f_out.write('./output/'+aug+';'+str(x)+';'+str(y)+';'+str(x+w)+';'+str(y+h)+';'+ str(cls_num) +'\\n')\n",
    "        #print (x,y), (x+w, y+h)\n",
    "        #cv2.imwrite(org_file+str(i)+'.jpg', im)\n",
    "\n",
    "        #print '_______'\n",
    "f_out.close()"
   ]
  },
  {
   "cell_type": "markdown",
   "metadata": {},
   "source": [
    "## End Phase 1"
   ]
  },
  {
   "cell_type": "markdown",
   "metadata": {},
   "source": [
    "## Check histogram"
   ]
  },
  {
   "cell_type": "code",
   "execution_count": 461,
   "metadata": {
    "scrolled": true
   },
   "outputs": [
    {
     "data": {
      "image/png": "[encoded data removed]",
      "text/plain": [
       "<matplotlib.figure.Figure at 0x7fd87a5c2510>"
      ]
     },
     "metadata": {},
     "output_type": "display_data"
    },
    {
     "name": "stdout",
     "output_type": "stream",
     "text": [
      "freq->\n",
      "[160  68  15 137  59  52 136  31  12  72  99 265   8  18 238 102 237  36\n",
      " 221 205  77  47 287  16  17 227 271  61 234 279  55  17  89 268 269  68\n",
      " 226  42  27  19  74 116 112  93  68  40  48  82  41   4   4  35  14]\n",
      "Mean: 103.74\n",
      "Var: 8122.01\n",
      "Max: 287.00\n",
      "Min: 4.00\n",
      "Sum: 5498.00\n",
      "STD: 90.12\n",
      "CV: 0.87\n",
      "\n",
      "Total number of objects: 5498\n"
     ]
    }
   ],
   "source": [
    "import matplotlib.pyplot as plt\n",
    "import numpy as np\n",
    "\n",
    "%matplotlib inline\n",
    "\n",
    "file_p = '/home/hossam/workspace/sklearn/augmentation/gt_phase_1.txt'\n",
    "\n",
    "#file_p = '/home/hossam/PycharmProjects/tsr-py-faster-rcnn/data/GTSDB/Annotations/gt.txt'\n",
    "\n",
    "file = open(file_p,'rt')\n",
    "\n",
    "\n",
    "tmp = []\n",
    "for line in file:\n",
    "    tmp.append( int(line.split(';')[5].replace('\\r\\n',''))+1)\n",
    "#plt.hist(x, normed=True, bins=30)\n",
    "# hist, bins = np.histogram(tmp, bins=66)\n",
    "# width = 0.7 * (bins[1] - bins[0])\n",
    "# center = (bins[:-1] + bins[1:]) / 2\n",
    "# plt.bar(center, hist, align='center', width=width)\n",
    "# plt.legend()\n",
    "# plt.show()\n",
    "\n",
    "plt.hist(tmp,histtype='bar', rwidth=0.8,bins=range(1,69,1), align='left')\n",
    "###plt.hist(tmp,histtype='bar', rwidth=0.8,bins=range(1,50,1), align='left')\n",
    "plt.title(\"Classes Histogram - Malaysian dataset\")\n",
    "plt.xlabel(\"Value\")\n",
    "plt.ylabel(\"Frequency\")\n",
    "\n",
    "plt.show()\n",
    "\n",
    "#print tmp\n",
    "file.close()\n",
    "a = np.array(tmp)\n",
    "unique, counts = np.unique(a, return_counts=True)\n",
    "\n",
    "frq = np.array(counts)\n",
    "print 'freq->\\n',counts\n",
    "#print keep\n",
    "#print classes[keep]\n",
    "#print a.mean(), a.var(), a.max(), a.min(), a.sum(), a.std()\n",
    "print 'Mean: {:.2f}\\n'.format(frq.mean()),\\\n",
    "    'Var: {:.2f}\\n'.format(frq.var()),\\\n",
    "    'Max: {:.2f}\\n'.format(frq.max()),\\\n",
    "    'Min: {:.2f}\\n'.format(frq.min()),\\\n",
    "    'Sum: {:.2f}\\n'.format(frq.sum()),\\\n",
    "    'STD: {:.2f}\\n'.format(frq.std()),\\\n",
    "    'CV: {:.2f}\\n'.format(frq.std()/frq.mean())\n",
    "print 'Total number of objects:',len(tmp)"
   ]
  },
  {
   "cell_type": "code",
   "execution_count": 463,
   "metadata": {},
   "outputs": [],
   "source": [
    "!cat gt.txt > gt_phase_1_after_aug.txt\n",
    "!cat gt_phase_1.txt >> gt_phase_1_after_aug.txt"
   ]
  },
  {
   "cell_type": "markdown",
   "metadata": {},
   "source": [
    "## Phase 2"
   ]
  },
  {
   "cell_type": "markdown",
   "metadata": {},
   "source": [
    "## 1) Calculate the freq of each class and store all the freq < 50 in keep varaibale array"
   ]
  },
  {
   "cell_type": "code",
   "execution_count": 460,
   "metadata": {
    "scrolled": true
   },
   "outputs": [
    {
     "data": {
      "image/png": "[encoded data removed]",
      "text/plain": [
       "<matplotlib.figure.Figure at 0x7fd87bebdb50>"
      ]
     },
     "metadata": {},
     "output_type": "display_data"
    },
    {
     "name": "stdout",
     "output_type": "stream",
     "text": [
      "freq->\n",
      "[ 70 180  56  79  16 157  70  58 156  51  38  14  81 113 304 144   9  20\n",
      " 264 115  54 269  40  67 251 230  89  56 329  66  85  18  19 254 306  70\n",
      "  72 262 320  64  19 100 305 306  77 253  50  59 235  30  22  85 134 127\n",
      " 106  76  87  44  54  93  47 264   5   5  39  16]\n",
      "Mean: 114.45\n",
      "Var: 9312.10\n",
      "Max: 329.00\n",
      "Min: 5.00\n",
      "Sum: 7554.00\n",
      "STD: 96.50\n",
      "CV: 0.84\n",
      "\n",
      "Total number of objects: 7554\n"
     ]
    }
   ],
   "source": [
    "import matplotlib.pyplot as plt\n",
    "import numpy as np\n",
    "\n",
    "%matplotlib inline\n",
    "\n",
    "file_p = '/home/hossam/workspace/sklearn/augmentation/gt_phase_1_after_aug.txt'\n",
    "\n",
    "#file_p = '/home/hossam/PycharmProjects/tsr-py-faster-rcnn/data/GTSDB/Annotations/gt.txt'\n",
    "\n",
    "file = open(file_p,'rt')\n",
    "\n",
    "\n",
    "tmp = []\n",
    "for line in file:\n",
    "    tmp.append( int(line.split(';')[5].replace('\\r\\n',''))+1)\n",
    "#plt.hist(x, normed=True, bins=30)\n",
    "# hist, bins = np.histogram(tmp, bins=66)\n",
    "# width = 0.7 * (bins[1] - bins[0])\n",
    "# center = (bins[:-1] + bins[1:]) / 2\n",
    "# plt.bar(center, hist, align='center', width=width)\n",
    "# plt.legend()\n",
    "# plt.show()\n",
    "\n",
    "plt.hist(tmp,histtype='bar', rwidth=0.8,bins=range(1,69,1), align='left')\n",
    "###plt.hist(tmp,histtype='bar', rwidth=0.8,bins=range(1,50,1), align='left')\n",
    "plt.title(\"Classes Histogram - Malaysian dataset\")\n",
    "plt.xlabel(\"Value\")\n",
    "plt.ylabel(\"Frequency\")\n",
    "\n",
    "plt.show()\n",
    "\n",
    "#print tmp\n",
    "file.close()\n",
    "a = np.array(tmp)\n",
    "unique, counts = np.unique(a, return_counts=True)\n",
    "\n",
    "frq = np.array(counts)\n",
    "print 'freq->\\n',counts\n",
    "#print keep\n",
    "#print classes[keep]\n",
    "#print a.mean(), a.var(), a.max(), a.min(), a.sum(), a.std()\n",
    "print 'Mean: {:.2f}\\n'.format(frq.mean()),\\\n",
    "    'Var: {:.2f}\\n'.format(frq.var()),\\\n",
    "    'Max: {:.2f}\\n'.format(frq.max()),\\\n",
    "    'Min: {:.2f}\\n'.format(frq.min()),\\\n",
    "    'Sum: {:.2f}\\n'.format(frq.sum()),\\\n",
    "    'STD: {:.2f}\\n'.format(frq.std()),\\\n",
    "    'CV: {:.2f}\\n'.format(frq.std()/frq.mean())\n",
    "print 'Total number of objects:',len(tmp)"
   ]
  },
  {
   "cell_type": "code",
   "execution_count": 443,
   "metadata": {},
   "outputs": [
    {
     "name": "stdout",
     "output_type": "stream",
     "text": [
      "(array([ 4, 10, 11, 16, 17, 22, 31, 32, 40, 49, 50, 57, 60, 62, 63, 64, 65]),)\n"
     ]
    }
   ],
   "source": [
    "keep = np.where(frq < 50)\n",
    "print keep"
   ]
  },
  {
   "cell_type": "markdown",
   "metadata": {},
   "source": [
    "## 2) Loop for each image\n",
    "### - blur the objects that is not in keep array\n",
    "### - store only the images that have at least one object in keep array in aug folder\n",
    "### - store aswell the labels for each image obj in aug folder in aug_labels"
   ]
  },
  {
   "cell_type": "code",
   "execution_count": 444,
   "metadata": {},
   "outputs": [],
   "source": [
    "im_path = './data/test/Images/'\n",
    "files = [f for f in os.listdir(im_path) if os.path.isfile(os.path.join(im_path,f))]\n",
    "#mask_path = './data/test/gt/'\n",
    "label_path = './data/labels/'\n",
    "\n",
    "#fname = 'P1840185.JPG'\n",
    "#fname = 'P1840114.JPG'\n",
    "#fname = 'P1840116.JPG'\n",
    "#fname = 'P1860061.JPG'\n",
    "\n",
    "#keep = [0,2,3,4,5,6,8,9,10,11]\n",
    "for fname in files:\n",
    "    \n",
    "    if not os.path.isfile(os.path.join(label_path, fname.split('.')[0]+'.txt')):\n",
    "        #fault = open('faults.txt', 'a')\n",
    "        #fault.write(fil+'\\n')\n",
    "        continue\n",
    "    \n",
    "    store = False\n",
    "\n",
    "    im = cv2.imread(os.path.join(im_path, fname))\n",
    "    org = im.copy()\n",
    "    f = open(os.path.join(label_path, fname.split('.')[0]+'.txt'), 'r')\n",
    "    \n",
    "    lines = f.readlines()\n",
    "    text = ''\n",
    "    for line in lines:\n",
    "        spl = line.split(' ')\n",
    "        i = np.where(classes == spl[0])[0][0]\n",
    "        if i not in keep[0]:\n",
    "            x1 = int(spl[1])#+1\n",
    "            y1 = int(spl[2])#+1\n",
    "            x2 = int(spl[3])#-1\n",
    "            y2 = int(spl[4])#-1\n",
    "\n",
    "            #print y2-y1, x2-x1\n",
    "\n",
    "            #cv2.imwrite('without_aug.jpg', im)\n",
    "            #print im[y1:y2,x1:x2]\n",
    "\n",
    "            np.random.shuffle(im[y1:y2+1,x1:x2+1,0])\n",
    "            np.random.shuffle(im[y1:y2+1,x1:x2+1,0].T)\n",
    "\n",
    "            np.random.shuffle(im[y1:y2+1,x1:x2+1,1])\n",
    "            np.random.shuffle(im[y1:y2+1,x1:x2+1,1].T)\n",
    "\n",
    "            np.random.shuffle(im[y1:y2+1,x1:x2+1,2])\n",
    "            np.random.shuffle(im[y1:y2+1,x1:x2+1,2].T)\n",
    "\n",
    "            #np.random.shuffle(im[y1:y2,x1:x2])\n",
    "            #np.random.shuffle(im[y1:y2,x1:x2].T)\n",
    "\n",
    "            blur = cv2.blur(im, (50, 50))\n",
    "\n",
    "            #print lines[0] , x1, x2, y1, y2\n",
    "\n",
    "            #print im[y1:y2,x1:x2,0]\n",
    "            #cv2.imwrite('aug.jpg', im)\n",
    "\n",
    "            num =10\n",
    "            im[y1-num:y2+num,x1-num:x2+num] = blur[y1-num:y2+num,x1-num:x2+num]\n",
    "            #cv2.imwrite('aug_blur.jpg', im)\n",
    "\n",
    "    for line in lines:\n",
    "        spl = line.split(' ')\n",
    "        i = np.where(classes == spl[0])[0][0]\n",
    "        if i in keep[0]:\n",
    "            store = True\n",
    "            \n",
    "            #spl = line.split(' ')\n",
    "            x1 = int(spl[1])#+1\n",
    "            y1 = int(spl[2])#+1\n",
    "            x2 = int(spl[3])#-1\n",
    "            y2 = int(spl[4])#-1\n",
    "            text += line\n",
    "            #im2 = cv2.imread(os.path.join(im_path, fname))\n",
    "            ynum = int(y2-y1)/14\n",
    "            xnum = int(x2-x1)/14\n",
    "            im[y1-ynum:y2+ynum,x1-xnum:x2+xnum] = org[y1-ynum:y2+ynum,x1-xnum:x2+xnum]\n",
    "    \n",
    "    if store:\n",
    "        cv2.imwrite(os.path.join('data/test/aug/',fname.split('.')[0]+'_aug'+'.jpg'), im)\n",
    "        f_out = open(os.path.join('./data/test/aug_labels/', fname.split('.')[0]+'_aug'+'.txt'), 'w')\n",
    "        f_out.write(text)\n",
    "        f_out.close()"
   ]
  },
  {
   "cell_type": "markdown",
   "metadata": {},
   "source": [
    "## 3) Generate the mask image for each aug image"
   ]
  },
  {
   "cell_type": "code",
   "execution_count": 445,
   "metadata": {},
   "outputs": [],
   "source": [
    "im_path = './data/test/aug/'\n",
    "files = [f for f in os.listdir(im_path) if os.path.isfile(os.path.join(im_path,f))]"
   ]
  },
  {
   "cell_type": "code",
   "execution_count": 446,
   "metadata": {},
   "outputs": [],
   "source": [
    "mask_path = './data/test/aug_gt/'\n",
    "label_path = './data/test/aug_labels/'\n",
    "\n",
    "for fil in files:\n",
    "    if not os.path.isfile(os.path.join(label_path, fil.split('.')[0]+'.txt')):\n",
    "        #fault = open('faults.txt', 'a')\n",
    "        #fault.write(fil+'\\n')\n",
    "        continue\n",
    "    im = cv2.imread(os.path.join(im_path, fil))\n",
    "    f = open(os.path.join(label_path, fil.split('.')[0]+'.txt'))\n",
    "    #print os.path.join(label_path, fil.split('.')[0]+'.txt')\n",
    "    lines = f.readlines()\n",
    "    im_out = np.zeros(im.shape, np.uint8)\n",
    "    for i, line in enumerate(lines):\n",
    "        spl = line.split(' ')\n",
    "        x1 = int(spl[1])#+1\n",
    "        y1 = int(spl[2])#+1\n",
    "        x2 = int(spl[3])#-1\n",
    "        y2 = int(spl[4])#-1\n",
    "        #print fil, i, line\n",
    "        cv2.rectangle(im_out, (x1,y1), (x2,y2),color_list[i], -1)\n",
    "    #print '______'\n",
    "    cv2.imwrite(os.path.join(mask_path, fil), im_out)"
   ]
  },
  {
   "cell_type": "markdown",
   "metadata": {},
   "source": [
    "## 4) Augment the images with ground truth mask"
   ]
  },
  {
   "cell_type": "code",
   "execution_count": 448,
   "metadata": {
    "scrolled": true
   },
   "outputs": [
    {
     "name": "stderr",
     "output_type": "stream",
     "text": [
      "Executing Pipeline:   0%|          | 0/4400 [00:00<?, ? Samples/s]"
     ]
    },
    {
     "name": "stdout",
     "output_type": "stream",
     "text": [
      "Initialised with 44 image(s) found.\n",
      "Output directory set to ./data/test/aug/output.44 ground truth image(s) found.\n"
     ]
    },
    {
     "name": "stderr",
     "output_type": "stream",
     "text": [
      "Processing P1840559_aug.jpg: 100%|██████████| 4400/4400 [8:28:29<00:00,  7.78s/ Samples]   \n"
     ]
    }
   ],
   "source": [
    "import Augmentor\n",
    "\n",
    "p = Augmentor.Pipeline(\"./data/test/aug\")\n",
    "p.ground_truth(\"./data/test/aug_gt\")\n",
    "\n",
    "p.rotate(probability=0.4, max_left_rotation=5, max_right_rotation=5)\n",
    "p.zoom(probability=0.3, min_factor=1.05, max_factor=1.1)\n",
    "p.random_distortion(probability=0.7, grid_width=2, grid_height=2, magnitude=5)\n",
    "p.skew_tilt(probability=0.5, magnitude=0.2)\n",
    "p.skew(probability=0.5, magnitude=0.2)\n",
    "\n",
    "p.sample(44*100, multi_threaded=False)"
   ]
  },
  {
   "cell_type": "code",
   "execution_count": 449,
   "metadata": {},
   "outputs": [],
   "source": [
    "aug_path = './data/test/aug/output/'\n",
    "files = [f for f in os.listdir(aug_path) if os.path.isfile(os.path.join(aug_path,f))]\n",
    "\n",
    "gts = []\n",
    "augs = []\n",
    "\n",
    "for fi in files:\n",
    "    if 'original' in fi:\n",
    "        augs.append(fi)\n",
    "    else:\n",
    "        gts.append(fi)"
   ]
  },
  {
   "cell_type": "code",
   "execution_count": 462,
   "metadata": {},
   "outputs": [
    {
     "name": "stdout",
     "output_type": "stream",
     "text": [
      "False\n",
      "_groundtruth_(1)_aug_68_aug.jpg_382b7478-7e90-4361-8468-ea119b5dbc5f.jpg\n",
      "aug_original_P1860055_aug.jpg_03763ed1-9aba-4813-8e0a-182955d61ce1.jpg\n",
      "_groundtruth_(1)_aug_49_aug.jpg_45daa9b6-92a4-4fc2-893e-f08ac42f23d1.jpg False\n",
      "8350 8350\n",
      "./data/test/aug_labels/ ./data/test/aug_gt/\n"
     ]
    }
   ],
   "source": [
    "print gts[0].split('_')[6] in augs[0].split('_')[4]\n",
    "print gts[0]\n",
    "print augs[0]\n",
    "x = 'aug_original_49_aug.jpg_45daa9b6-92a4-4fc2-893e-f08ac42f23d1.jpg'\n",
    "y = x.replace('aug_original_', '_groundtruth_(1)_aug_')\n",
    "print y, os.path.isfile(os.path.join(aug_path, y))\n",
    "print len(augs), len(gts)\n",
    "\n",
    "print label_path, mask_path"
   ]
  },
  {
   "cell_type": "markdown",
   "metadata": {},
   "source": [
    "## 5) Create the annotation for the new augmented images"
   ]
  },
  {
   "cell_type": "code",
   "execution_count": 453,
   "metadata": {
    "scrolled": true
   },
   "outputs": [],
   "source": [
    "# mask with different colors space per each object sequential\n",
    "\n",
    "#./data/test/gt/P1840014.JPG\n",
    "#./data/test/gt/P1840114.JPG\n",
    "# P1860079.JPG\n",
    "\n",
    "#ff = '130.jpg'\n",
    "mask_gt_path = './data/test/aug/output/'\n",
    "label_path = './data/test/aug_labels/'\n",
    "\n",
    "f_out = open('gt_phase_2.txt', 'w')\n",
    "for aug in augs:\n",
    "    aug_sp = aug.split('_')\n",
    "    gt = aug.replace('aug_original_', '_groundtruth_(1)_aug_')\n",
    "    org_file =  aug_sp[2]+'_'+aug_sp[3]\n",
    "    \n",
    "    \n",
    "    if not os.path.exists(os.path.join(label_path, org_file.split('.')[0]+'.txt')):\n",
    "        continue\n",
    "        \n",
    "    im = cv2.imread(os.path.join(mask_gt_path,gt))\n",
    "    f = open(os.path.join(label_path, org_file.split('.')[0]+'.txt'), 'r')\n",
    "    \n",
    "    #im[im == 255] = 1\n",
    "    #im[im == 0] = 255\n",
    "    #im[im == 1] = 0\n",
    "    lines = f.readlines()\n",
    "    #print 'Number of objects', len(lines)\n",
    "    for i in range(0, len(lines)):\n",
    "        lower = np.array(color_list[i])-10\n",
    "        upper = np.array(color_list[i])+10\n",
    "        mask = cv2.inRange(im, lower, upper)\n",
    "        im3 = cv2.bitwise_and(im, im, mask=mask)\n",
    "\n",
    "\n",
    "        #print 'obj#', i\n",
    "        im2 = cv2.cvtColor(im3, cv2.COLOR_BGR2GRAY)\n",
    "\n",
    "        #print np.max(im2), np.min(im2)\n",
    "\n",
    "        #cv2.imwrite(org_file+str(i)+'_thr.jpg', im2)\n",
    "        ret, thresh = cv2.threshold(im2, 0, np.max(im2)+1 ,cv2.THRESH_BINARY)\n",
    "        _, contours, hierarchy = cv2.findContours(thresh, cv2.RETR_TREE, cv2.CHAIN_APPROX_SIMPLE)\n",
    "        #print len(contours), org_file\n",
    "        if len(contours) == 0:\n",
    "            continue\n",
    "        #for i in range(0, len(contours)):\n",
    "            #if(i%2 == 0)\n",
    "\n",
    "        # getting the maximum width contours\n",
    "        x,y,w,h = cv2.boundingRect(contours[0])\n",
    "        for cnt in contours:\n",
    "            cx, cy, cw, ch = cv2.boundingRect(cnt)\n",
    "            if cw > w:\n",
    "                x,y,w,h = cx, cy, cw, ch\n",
    "        #cnt = contours[i]\n",
    "\n",
    "        #cv2.rectangle(im, (x,y), (x+w, y+h), (0,240,180), 5)\n",
    "        cls_num = np.where(classes == lines[i].split(' ')[0])[0][0]\n",
    "        f_out.write('./output/'+aug+';'+str(x)+';'+str(y)+';'+str(x+w)+';'+str(y+h)+';'+ str(cls_num) +'\\n')\n",
    "        #print (x,y), (x+w, y+h)\n",
    "        #cv2.imwrite(org_file+str(i)+'.jpg', im)\n",
    "\n",
    "        #print '_______'\n",
    "f_out.close()"
   ]
  },
  {
   "cell_type": "markdown",
   "metadata": {},
   "source": [
    "## Check histogram for phase 2 images"
   ]
  },
  {
   "cell_type": "code",
   "execution_count": 467,
   "metadata": {
    "scrolled": true
   },
   "outputs": [
    {
     "data": {
      "image/png": "[encoded data removed]",
      "text/plain": [
       "<matplotlib.figure.Figure at 0x7fd855bcbe90>"
      ]
     },
     "metadata": {},
     "output_type": "display_data"
    },
    {
     "name": "stdout",
     "output_type": "stream",
     "text": [
      "freq->\n",
      "[108 693 193  96 197 437 236 242 231 312 317 423 636 114 114 436 220]\n",
      "Mean: 294.41\n",
      "Var: 29881.89\n",
      "Max: 693.00\n",
      "Min: 96.00\n",
      "Sum: 5005.00\n",
      "STD: 172.86\n",
      "CV: 0.59\n",
      "\n",
      "Total number of objects: 5005\n"
     ]
    }
   ],
   "source": [
    "import matplotlib.pyplot as plt\n",
    "import numpy as np\n",
    "\n",
    "%matplotlib inline\n",
    "\n",
    "file_p = '/home/hossam/workspace/sklearn/augmentation/gt_phase_2.txt'\n",
    "\n",
    "#file_p = '/home/hossam/PycharmProjects/tsr-py-faster-rcnn/data/GTSDB/Annotations/gt.txt'\n",
    "\n",
    "file = open(file_p,'rt')\n",
    "\n",
    "\n",
    "tmp = []\n",
    "for line in file:\n",
    "    tmp.append( int(line.split(';')[5].replace('\\r\\n',''))+1)\n",
    "#plt.hist(x, normed=True, bins=30)\n",
    "# hist, bins = np.histogram(tmp, bins=66)\n",
    "# width = 0.7 * (bins[1] - bins[0])\n",
    "# center = (bins[:-1] + bins[1:]) / 2\n",
    "# plt.bar(center, hist, align='center', width=width)\n",
    "# plt.legend()\n",
    "# plt.show()\n",
    "\n",
    "plt.hist(tmp,histtype='bar', rwidth=0.8,bins=range(1,69,1), align='left')\n",
    "###plt.hist(tmp,histtype='bar', rwidth=0.8,bins=range(1,50,1), align='left')\n",
    "plt.title(\"Classes Histogram - Malaysian dataset\")\n",
    "plt.xlabel(\"Value\")\n",
    "plt.ylabel(\"Frequency\")\n",
    "\n",
    "plt.show()\n",
    "\n",
    "#print tmp\n",
    "file.close()\n",
    "a = np.array(tmp)\n",
    "unique, counts = np.unique(a, return_counts=True)\n",
    "\n",
    "frq = np.array(counts)\n",
    "print 'freq->\\n',counts\n",
    "#print keep\n",
    "#print classes[keep]\n",
    "#print a.mean(), a.var(), a.max(), a.min(), a.sum(), a.std()\n",
    "print 'Mean: {:.2f}\\n'.format(frq.mean()),\\\n",
    "    'Var: {:.2f}\\n'.format(frq.var()),\\\n",
    "    'Max: {:.2f}\\n'.format(frq.max()),\\\n",
    "    'Min: {:.2f}\\n'.format(frq.min()),\\\n",
    "    'Sum: {:.2f}\\n'.format(frq.sum()),\\\n",
    "    'STD: {:.2f}\\n'.format(frq.std()),\\\n",
    "    'CV: {:.2f}\\n'.format(frq.std()/frq.mean())\n",
    "print 'Total number of objects:',len(tmp)"
   ]
  },
  {
   "cell_type": "code",
   "execution_count": 464,
   "metadata": {},
   "outputs": [],
   "source": [
    "!cat gt.txt > gt_phase_2_after_aug.txt\n",
    "!cat gt_phase_2.txt >> gt_phase_2_after_aug.txt\n",
    "\n",
    "!cat gt_phase_1_after_aug.txt > gt_phase_1_2_after_aug.txt\n",
    "!cat gt_phase_2.txt >> gt_phase_1_2_after_aug.txt"
   ]
  },
  {
   "cell_type": "markdown",
   "metadata": {},
   "source": [
    "## Check histogram for phase 2 images merged with original images"
   ]
  },
  {
   "cell_type": "code",
   "execution_count": 468,
   "metadata": {
    "scrolled": false
   },
   "outputs": [
    {
     "data": {
      "image/png": "[encoded data removed]",
      "text/plain": [
       "<matplotlib.figure.Figure at 0x7fd855970cd0>"
      ]
     },
     "metadata": {},
     "output_type": "display_data"
    },
    {
     "name": "stdout",
     "output_type": "stream",
     "text": [
      "freq->\n",
      "[ 70  20  56  11 109  20  11   6  20  51 700 195   9  14  39 144  97 199\n",
      "  26  13  54  32 441  67  30  25  12   9  42  66  85 238 244  27  35   9\n",
      "  72  28  41   9 233  11  37  37   9  27   8  59 235 315 320  11  18  15\n",
      "  13   8  87 427   6  11 642 264 115 115 440 222]\n",
      "Mean: 106.98\n",
      "Var: 22324.92\n",
      "Max: 700.00\n",
      "Min: 6.00\n",
      "Sum: 7061.00\n",
      "STD: 149.42\n",
      "CV: 1.40\n",
      "\n",
      "Total number of objects: 7061\n"
     ]
    }
   ],
   "source": [
    "import matplotlib.pyplot as plt\n",
    "import numpy as np\n",
    "\n",
    "%matplotlib inline\n",
    "\n",
    "file_p = '/home/hossam/workspace/sklearn/augmentation/gt_phase_2_after_aug.txt'\n",
    "\n",
    "#file_p = '/home/hossam/PycharmProjects/tsr-py-faster-rcnn/data/GTSDB/Annotations/gt.txt'\n",
    "\n",
    "file = open(file_p,'rt')\n",
    "\n",
    "\n",
    "tmp = []\n",
    "for line in file:\n",
    "    tmp.append( int(line.split(';')[5].replace('\\r\\n',''))+1)\n",
    "#plt.hist(x, normed=True, bins=30)\n",
    "# hist, bins = np.histogram(tmp, bins=66)\n",
    "# width = 0.7 * (bins[1] - bins[0])\n",
    "# center = (bins[:-1] + bins[1:]) / 2\n",
    "# plt.bar(center, hist, align='center', width=width)\n",
    "# plt.legend()\n",
    "# plt.show()\n",
    "\n",
    "plt.hist(tmp,histtype='bar', rwidth=0.8,bins=range(1,69,1), align='left')\n",
    "###plt.hist(tmp,histtype='bar', rwidth=0.8,bins=range(1,50,1), align='left')\n",
    "plt.title(\"Classes Histogram - Malaysian dataset\")\n",
    "plt.xlabel(\"Value\")\n",
    "plt.ylabel(\"Frequency\")\n",
    "\n",
    "plt.show()\n",
    "\n",
    "#print tmp\n",
    "file.close()\n",
    "a = np.array(tmp)\n",
    "unique, counts = np.unique(a, return_counts=True)\n",
    "\n",
    "frq = np.array(counts)\n",
    "print 'freq->\\n',counts\n",
    "#print keep\n",
    "#print classes[keep]\n",
    "#print a.mean(), a.var(), a.max(), a.min(), a.sum(), a.std()\n",
    "print 'Mean: {:.2f}\\n'.format(frq.mean()),\\\n",
    "    'Var: {:.2f}\\n'.format(frq.var()),\\\n",
    "    'Max: {:.2f}\\n'.format(frq.max()),\\\n",
    "    'Min: {:.2f}\\n'.format(frq.min()),\\\n",
    "    'Sum: {:.2f}\\n'.format(frq.sum()),\\\n",
    "    'STD: {:.2f}\\n'.format(frq.std()),\\\n",
    "    'CV: {:.2f}\\n'.format(frq.std()/frq.mean())\n",
    "print 'Total number of objects:',len(tmp)"
   ]
  },
  {
   "cell_type": "markdown",
   "metadata": {},
   "source": [
    "## Check histogram for phase 2 images merged with phase 1 and the original Image"
   ]
  },
  {
   "cell_type": "code",
   "execution_count": 469,
   "metadata": {
    "scrolled": false
   },
   "outputs": [
    {
     "data": {
      "image/png": "[encoded data removed]",
      "text/plain": [
       "<matplotlib.figure.Figure at 0x7fd8556625d0>"
      ]
     },
     "metadata": {},
     "output_type": "display_data"
    },
    {
     "name": "stdout",
     "output_type": "stream",
     "text": [
      "freq->\n",
      "[ 70 180  56  79 124 157  70  58 156  51 731 207  81 113 304 144 105 217\n",
      " 264 115  54 269 477  67 251 230  89  56 329  66  85 254 261 254 306  70\n",
      "  72 262 320  64 250 100 305 306  77 253  50  59 235 342 339  85 134 127\n",
      " 106  76  87 467  54  93 683 264 119 119 475 236]\n",
      "Mean: 190.29\n",
      "Var: 20855.39\n",
      "Max: 731.00\n",
      "Min: 50.00\n",
      "Sum: 12559.00\n",
      "STD: 144.41\n",
      "CV: 0.76\n",
      "\n",
      "Total number of objects: 12559\n"
     ]
    }
   ],
   "source": [
    "import matplotlib.pyplot as plt\n",
    "import numpy as np\n",
    "\n",
    "%matplotlib inline\n",
    "\n",
    "file_p = '/home/hossam/workspace/sklearn/augmentation/gt_phase_1_2_after_aug.txt'\n",
    "\n",
    "#file_p = '/home/hossam/PycharmProjects/tsr-py-faster-rcnn/data/GTSDB/Annotations/gt.txt'\n",
    "\n",
    "file = open(file_p,'rt')\n",
    "\n",
    "\n",
    "tmp = []\n",
    "for line in file:\n",
    "    tmp.append( int(line.split(';')[5].replace('\\r\\n',''))+1)\n",
    "#plt.hist(x, normed=True, bins=30)\n",
    "# hist, bins = np.histogram(tmp, bins=66)\n",
    "# width = 0.7 * (bins[1] - bins[0])\n",
    "# center = (bins[:-1] + bins[1:]) / 2\n",
    "# plt.bar(center, hist, align='center', width=width)\n",
    "# plt.legend()\n",
    "# plt.show()\n",
    "\n",
    "plt.hist(tmp,histtype='bar', rwidth=0.8,bins=range(1,69,1), align='left')\n",
    "###plt.hist(tmp,histtype='bar', rwidth=0.8,bins=range(1,50,1), align='left')\n",
    "plt.title(\"Classes Histogram - Malaysian dataset\")\n",
    "plt.xlabel(\"Value\")\n",
    "plt.ylabel(\"Frequency\")\n",
    "\n",
    "plt.show()\n",
    "\n",
    "#print tmp\n",
    "file.close()\n",
    "a = np.array(tmp)\n",
    "unique, counts = np.unique(a, return_counts=True)\n",
    "\n",
    "frq = np.array(counts)\n",
    "print 'freq->\\n',counts\n",
    "#print keep\n",
    "#print classes[keep]\n",
    "#print a.mean(), a.var(), a.max(), a.min(), a.sum(), a.std()\n",
    "print 'Mean: {:.2f}\\n'.format(frq.mean()),\\\n",
    "    'Var: {:.2f}\\n'.format(frq.var()),\\\n",
    "    'Max: {:.2f}\\n'.format(frq.max()),\\\n",
    "    'Min: {:.2f}\\n'.format(frq.min()),\\\n",
    "    'Sum: {:.2f}\\n'.format(frq.sum()),\\\n",
    "    'STD: {:.2f}\\n'.format(frq.std()),\\\n",
    "    'CV: {:.2f}\\n'.format(frq.std()/frq.mean())\n",
    "print 'Total number of objects:',len(tmp)"
   ]
  },
  {
   "cell_type": "markdown",
   "metadata": {},
   "source": [
    "# Elimination\n",
    "1- All images are in Images_all withound the mask image\n",
    "\n",
    "2- all the annotation are in gt_phase_1_2_after_aug.txt\n",
    "\n",
    "what i have to do:\n",
    "\n",
    "1- Generate for each image a dictienary to all objects in the image\n",
    "\n",
    "2- Collect the total frequancy for each object\n",
    "\n",
    "3- from 1 & 2 check loop for each **class out of 66** image check if freq > 50 \n",
    "\n",
    "    if True:\n",
    "        loop for all images\n",
    "            check if we delete the image no other object freq in the image will not be less 50:\n",
    "                if yes -> delete the whole image and its annotation from the groundtruth then update the freq array\n",
    "                if no -> then hide the objects that will not be affected then update the annotation as well as the freq array\n",
    "                "
   ]
  },
  {
   "cell_type": "code",
   "execution_count": null,
   "metadata": {},
   "outputs": [],
   "source": []
  },
  {
   "cell_type": "markdown",
   "metadata": {},
   "source": [
    "# For Testing"
   ]
  },
  {
   "cell_type": "code",
   "execution_count": 385,
   "metadata": {},
   "outputs": [
    {
     "name": "stdout",
     "output_type": "stream",
     "text": [
      "height-limit-sign-6.-m\n"
     ]
    }
   ],
   "source": [
    "print classes[16]"
   ]
  },
  {
   "cell_type": "code",
   "execution_count": 148,
   "metadata": {
    "scrolled": true
   },
   "outputs": [
    {
     "name": "stdout",
     "output_type": "stream",
     "text": [
      "Number of objects 7\n",
      "obj# 0\n",
      "32 0\n",
      "1\n",
      "(240, 1832) (786, 2371)\n",
      "_______\n",
      "obj# 1\n",
      "179 0\n",
      "4\n",
      "(255, 1207) (791, 1744)\n",
      "_______\n",
      "obj# 2\n",
      "106 0\n",
      "9\n",
      "(640, 89) (814, 260)\n",
      "_______\n",
      "obj# 3\n",
      "255 0\n",
      "5\n",
      "(1776, 1737) (1851, 1812)\n",
      "_______\n",
      "obj# 4\n",
      "79 0\n",
      "16\n",
      "(2840, 1731) (2877, 1768)\n",
      "_______\n",
      "obj# 5\n",
      "150 0\n",
      "6\n",
      "(1831, 1743) (1896, 1829)\n",
      "_______\n",
      "obj# 6\n",
      "17 0\n",
      "13\n",
      "(1811, 1609) (1896, 1689)\n",
      "_______\n"
     ]
    }
   ],
   "source": [
    "# mask with different colors space per each object sequential\n",
    "\n",
    "#./data/test/gt/P1840014.JPG\n",
    "#./data/test/gt/P1840114.JPG\n",
    "# P1860079.JPG\n",
    "\n",
    "#ff = '130.jpg'\n",
    "ff = 'P1840185.JPG'\n",
    "im = cv2.imread(os.path.join(mask_path,ff))\n",
    "f = open(os.path.join(label_path, ff.split('.')[0]+'.txt'), 'r')\n",
    "#im[im == 255] = 1\n",
    "#im[im == 0] = 255\n",
    "#im[im == 1] = 0\n",
    "lines = f.readlines()\n",
    "print 'Number of objects', len(lines)\n",
    "for i in range(0, len(lines)):\n",
    "    lower = np.array(color_list[i])-10\n",
    "    upper = np.array(color_list[i])+10\n",
    "    mask = cv2.inRange(im, lower, upper)\n",
    "    im3 = cv2.bitwise_and(im, im, mask=mask)\n",
    "\n",
    "\n",
    "    print 'obj#', i\n",
    "    im2 = cv2.cvtColor(im3, cv2.COLOR_BGR2GRAY)\n",
    "\n",
    "    print np.max(im2), np.min(im2)\n",
    "\n",
    "    cv2.imwrite('test'+str(i)+'.jpg', im2)\n",
    "    ret, thresh = cv2.threshold(im2, 0, np.max(im2)+1 ,cv2.THRESH_BINARY)\n",
    "    _, contours, hierarchy = cv2.findContours(thresh, cv2.RETR_TREE, cv2.CHAIN_APPROX_SIMPLE)\n",
    "    print len(contours)\n",
    "    #for i in range(0, len(contours)):\n",
    "        #if(i%2 == 0)\n",
    "    \n",
    "    # getting the maximum width contours\n",
    "    x,y,w,h = cv2.boundingRect(contours[0])\n",
    "    for cnt in contours:\n",
    "        cx, cy, cw, ch = cv2.boundingRect(cnt)\n",
    "        if cw > w:\n",
    "            x,y,w,h = cx, cy, cw, ch\n",
    "    #cnt = contours[i]\n",
    "    \n",
    "    cv2.rectangle(im, (x,y), (x+w, y+h), (0,240,180), 5)\n",
    "    print (x,y), (x+w, y+h)\n",
    "    cv2.imwrite(str(i)+'.jpg', im)\n",
    "    \n",
    "    print '_______'"
   ]
  },
  {
   "cell_type": "code",
   "execution_count": 40,
   "metadata": {},
   "outputs": [
    {
     "data": {
      "text/plain": [
       "True"
      ]
     },
     "execution_count": 40,
     "metadata": {},
     "output_type": "execute_result"
    }
   ],
   "source": [
    "im = cv2.imread('./data/test/images/P1840121.JPG')\n",
    "f = open('./data/labels/P1840121.txt')\n",
    "lines = f.readlines()\n",
    "\n",
    "im_out = np.zeros(im.shape, np.uint8)\n",
    "\n",
    "for line in lines:\n",
    "    spl = line.split(' ')\n",
    "    x1 = int(spl[1])+1\n",
    "    y1 = int(spl[2])+1\n",
    "    x2 = int(spl[3])-1\n",
    "    y2 = int(spl[4])-1\n",
    "    \n",
    "    cv2.rectangle(im_out, (x1,y1), (x2,y2),(255,255,255), -1)\n",
    "    \n",
    "cv2.imwrite('test.jpg', im_out)   "
   ]
  },
  {
   "cell_type": "code",
   "execution_count": 123,
   "metadata": {},
   "outputs": [
    {
     "name": "stdout",
     "output_type": "stream",
     "text": [
      "(2644, 1198) (2805, 1366)\n",
      "(2800, 1360) (2804, 1365)\n",
      "(2654, 1360) (2801, 1365)\n",
      "(2650, 1360) (2654, 1364)\n",
      "(2645, 1360) (2649, 1365)\n",
      "(2650, 1199) (2653, 1361)\n",
      "(2646, 1199) (2649, 1361)\n"
     ]
    }
   ],
   "source": [
    "im = cv2.imread('./data/test/gt/P1840217.JPG')\n",
    "im2 = cv2.cvtColor(im3, cv2.COLOR_BGR2GRAY)\n",
    "ret, thresh = cv2.threshold(im2, 8, 8 ,8)\n",
    "_, contours, hierarchy = cv2.findContours(thresh, cv2.RETR_TREE, cv2.CHAIN_APPROX_SIMPLE)\n",
    "for i in range(0, len(contours)):\n",
    "    x,y,w,h = cv2.boundingRect(contours[i])\n",
    "    cv2.rectangle(im, (x,y), (x+w, y+h), (0,255,0), 2)\n",
    "    print (x,y), (x+w, y+h)\n",
    "    cv2.imwrite(str(i)+'.jpg', im)"
   ]
  }
 ],
 "metadata": {
  "kernelspec": {
   "display_name": "Python 2",
   "language": "python",
   "name": "python2"
  },
  "language_info": {
   "codemirror_mode": {
    "name": "ipython",
    "version": 2
   },
   "file_extension": ".py",
   "mimetype": "text/x-python",
   "name": "python",
   "nbconvert_exporter": "python",
   "pygments_lexer": "ipython2",
   "version": "2.7.14"
  }
 },
 "nbformat": 4,
 "nbformat_minor": 2
}
